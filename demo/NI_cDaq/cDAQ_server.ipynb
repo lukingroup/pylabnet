{
 "cells": [
  {
   "cell_type": "code",
   "execution_count": 1,
   "metadata": {},
   "outputs": [],
   "source": [
    "import pylabnet.hardware.ni_daqs.nidaqmx_card as nidaqmx\n",
    "from pylabnet.utils.logging.logger import LogClient\n",
    "import pylabnet.network.client_server.nidaqmx_card as nidaqmx_card_server\n",
    "import pylabnet.network.client_server.staticline as staticline_server\n",
    "\n",
    "import pylabnet.hardware.staticline.staticline as staticline\n",
    "from pylabnet.network.core.generic_server import GenericServer"
   ]
  },
  {
   "cell_type": "markdown",
   "metadata": {},
   "source": [
    "#  Instantiate Logger"
   ]
  },
  {
   "cell_type": "code",
   "execution_count": 2,
   "metadata": {},
   "outputs": [
    {
     "name": "stderr",
     "output_type": "stream",
     "text": [
      "c:\\users\\brain\\pylabnet\\pylabnet\\utils\\helper_methods.py:941: ResourceWarning: unclosed file <_io.TextIOWrapper name='c:\\\\users\\\\brain\\\\pylabnet\\\\pylabnet\\\\configs\\\\network_configuration.json' mode='r' encoding='cp1252'>\n",
      "  subnet = load_config('network_configuration')['subnet']\n",
      "ResourceWarning: Enable tracemalloc to get the object allocation traceback\n"
     ]
    }
   ],
   "source": [
    "# logger = LogClient(\n",
    "#     host='140.247.189.82', \n",
    "#     port=36864, \n",
    "#     module_tag='DAQ Log Server'\n",
    "# )\n",
    "\n",
    "logger = LogClient(\n",
    "    host='172.22.16.1', \n",
    "    port=40035, \n",
    "    module_tag='DAQ Log Server'\n",
    ")"
   ]
  },
  {
   "cell_type": "markdown",
   "metadata": {},
   "source": [
    "# Instantiate DAQ"
   ]
  },
  {
   "cell_type": "code",
   "execution_count": 5,
   "metadata": {},
   "outputs": [],
   "source": [
    "device_name = 'PXI1Slot6_2'\n",
    "\n",
    "daq = nidaqmx.Driver(device_name=device_name, logger=logger)"
   ]
  },
  {
   "cell_type": "code",
   "execution_count": 6,
   "metadata": {},
   "outputs": [
    {
     "data": {
      "text/plain": [
       "[2.3780943220817274]"
      ]
     },
     "execution_count": 6,
     "metadata": {},
     "output_type": "execute_result"
    }
   ],
   "source": [
    "daq.get_ai_voltage('ai2', max_range = 10.0)"
   ]
  },
  {
   "cell_type": "code",
   "execution_count": 9,
   "metadata": {},
   "outputs": [],
   "source": [
    "device_name = 'PXI1Slot4_2'\n",
    "daq_ao = nidaqmx.Driver(device_name=device_name, logger=logger)"
   ]
  },
  {
   "cell_type": "code",
   "execution_count": 12,
   "metadata": {},
   "outputs": [],
   "source": [
    "daq_ao.set_ao_voltage('ao2', 1.5)"
   ]
  },
  {
   "cell_type": "markdown",
   "metadata": {},
   "source": []
  },
  {
   "cell_type": "markdown",
   "metadata": {},
   "source": [
    "# Instanciate Staticline"
   ]
  },
  {
   "cell_type": "code",
   "execution_count": 95,
   "metadata": {},
   "outputs": [],
   "source": [
    "daq.set_ao_voltage('ao0', 0)"
   ]
  },
  {
   "cell_type": "code",
   "execution_count": 10,
   "metadata": {},
   "outputs": [],
   "source": [
    "# Let assume we have a shutter connected to the HDAWG DIO-pin 1 which \n",
    "# is open if the pin voltage is high and closed otherwise.\n",
    "\n",
    "test_staticline = staticline.Driver(\n",
    "    name='Laser Green',\n",
    "    logger=logger,\n",
    "    hardware_module=daq,\n",
    "    ao_output='ao2',\n",
    "    down_voltage=0,\n",
    "    up_voltage=3.3,\n",
    ") "
   ]
  },
  {
   "cell_type": "markdown",
   "metadata": {},
   "source": [
    "# Instantiate  Servers"
   ]
  },
  {
   "cell_type": "code",
   "execution_count": 35,
   "metadata": {},
   "outputs": [],
   "source": [
    "# DAQ Server\n",
    "daq_service = nidaqmx_card_server.Service()\n",
    "daq_service.assign_module(module=daq)\n",
    "daq_service.assign_logger(logger=logger)\n",
    "daq_service_server = GenericServer(\n",
    "    service=daq_service, \n",
    "    host='localhost', \n",
    "    port=17972\n",
    ")"
   ]
  },
  {
   "cell_type": "code",
   "execution_count": 36,
   "metadata": {},
   "outputs": [],
   "source": [
    "daq_service_server.start()"
   ]
  },
  {
   "cell_type": "code",
   "execution_count": 150,
   "metadata": {},
   "outputs": [],
   "source": [
    "# DAQ Server\n",
    "daq_ao_service = nidaqmx_card_server.Service()\n",
    "daq_ao_service.assign_module(module=daq_ao)\n",
    "daq_ao_service.assign_logger(logger=logger)\n",
    "daq_ao_service_server = GenericServer(\n",
    "    service=daq_ao_service, \n",
    "    host='localhost', \n",
    "    port=17974\n",
    ")"
   ]
  },
  {
   "cell_type": "code",
   "execution_count": 151,
   "metadata": {},
   "outputs": [],
   "source": [
    "daq_ao_service_server.start()"
   ]
  },
  {
   "cell_type": "code",
   "execution_count": 13,
   "metadata": {},
   "outputs": [],
   "source": [
    "# Staticline server\n",
    "staticline_service = staticline_server.Service()\n",
    "staticline_service.assign_module(module=test_staticline)\n",
    "staticline_service.assign_logger(logger=logger)\n",
    "staticline_service_server = GenericServer(\n",
    "    service=staticline_service, \n",
    "    host='localhost', \n",
    "    port=12986\n",
    ")"
   ]
  },
  {
   "cell_type": "code",
   "execution_count": 14,
   "metadata": {},
   "outputs": [],
   "source": [
    "staticline_service_server.start()"
   ]
  },
  {
   "cell_type": "code",
   "execution_count": null,
   "metadata": {},
   "outputs": [],
   "source": []
  },
  {
   "cell_type": "code",
   "execution_count": null,
   "metadata": {},
   "outputs": [],
   "source": []
  }
 ],
 "metadata": {
  "kernelspec": {
   "display_name": "Python 3",
   "language": "python",
   "name": "python3"
  },
  "language_info": {
   "codemirror_mode": {
    "name": "ipython",
    "version": 3
   },
   "file_extension": ".py",
   "mimetype": "text/x-python",
   "name": "python",
   "nbconvert_exporter": "python",
   "pygments_lexer": "ipython3",
   "version": "3.8.8"
  }
 },
 "nbformat": 4,
 "nbformat_minor": 2
}
