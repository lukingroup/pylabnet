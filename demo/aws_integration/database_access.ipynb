{
 "cells": [
  {
   "cell_type": "code",
   "execution_count": 1,
   "metadata": {},
   "outputs": [],
   "source": [
    "import boto3\n",
    "import numpy as np\n",
    "import io\n",
    "import pickle\n",
    "import pymysql\n",
    "import sys\n",
    "import os"
   ]
  },
  {
   "cell_type": "code",
   "execution_count": 2,
   "metadata": {},
   "outputs": [],
   "source": [
    "# Let's use Amazon S3\n",
    "s3 = boto3.resource('s3')"
   ]
  },
  {
   "cell_type": "code",
   "execution_count": 3,
   "metadata": {},
   "outputs": [
    {
     "name": "stdout",
     "output_type": "stream",
     "text": [
      "amazon-braket-c5c33f4595cd\n",
      "cf-templates-1eqlum4iklsii-us-east-2\n",
      "lukinsivdatabucket\n"
     ]
    }
   ],
   "source": [
    "# Print out bucket names\n",
    "for bucket in s3.buckets.all():\n",
    "    print(bucket.name)"
   ]
  },
  {
   "attachments": {},
   "cell_type": "markdown",
   "metadata": {},
   "source": [
    "## Option 1: Upload and download pickled data"
   ]
  },
  {
   "cell_type": "code",
   "execution_count": 4,
   "metadata": {},
   "outputs": [],
   "source": [
    "# Upload some data\n",
    "s3_client = boto3.client('s3')\n",
    "data = np.zeros(10)"
   ]
  },
  {
   "cell_type": "code",
   "execution_count": 5,
   "metadata": {},
   "outputs": [],
   "source": [
    "# upload without using disk\n",
    "# from https://stackoverflow.com/questions/48049557/how-to-write-npy-file-to-s3-directly\n",
    "my_array_data = io.BytesIO()\n",
    "pickle.dump(data, my_array_data)\n",
    "my_array_data.seek(0)\n",
    "s3_client.upload_fileobj(my_array_data, 'lukinsivdatabucket', 'your-file.pkl')\n"
   ]
  },
  {
   "cell_type": "code",
   "execution_count": 6,
   "metadata": {},
   "outputs": [
    {
     "data": {
      "text/plain": [
       "True"
      ]
     },
     "execution_count": 6,
     "metadata": {},
     "output_type": "execute_result"
    }
   ],
   "source": [
    "# download data\n",
    "# download without using disk\n",
    "my_array_data2 = io.BytesIO()\n",
    "s3_client.download_fileobj('lukinsivdatabucket', 'your-file.pkl', my_array_data2)\n",
    "my_array_data2.seek(0)\n",
    "my_array2 = pickle.load(my_array_data2)\n",
    "\n",
    "# check that everything is correct\n",
    "np.allclose(data, my_array2)"
   ]
  },
  {
   "attachments": {},
   "cell_type": "markdown",
   "metadata": {},
   "source": [
    "## Option 2: Upload and download file"
   ]
  },
  {
   "cell_type": "code",
   "execution_count": 7,
   "metadata": {},
   "outputs": [],
   "source": [
    "#alternativly: save file\n",
    "\n",
    "data_txt = np.savetxt(\"testdata.txt\", data)\n",
    "data_open = open(\"testdata.txt\", 'rb')\n"
   ]
  },
  {
   "cell_type": "code",
   "execution_count": 8,
   "metadata": {},
   "outputs": [
    {
     "data": {
      "text/plain": [
       "s3.Object(bucket_name='lukinsivdatabucket', key='testdata.txt')"
      ]
     },
     "execution_count": 8,
     "metadata": {},
     "output_type": "execute_result"
    }
   ],
   "source": [
    "s3.Bucket('lukinsivdatabucket').put_object(Key='testdata.txt', Body=data_open)"
   ]
  },
  {
   "cell_type": "code",
   "execution_count": 9,
   "metadata": {},
   "outputs": [],
   "source": [
    "# retrieve it by manually downloading it\n",
    "s3_client.download_file('lukinsivdatabucket', 'testdata.txt', 'downloaded_testdata.txt')"
   ]
  },
  {
   "attachments": {},
   "cell_type": "markdown",
   "metadata": {},
   "source": [
    "## Connecting to RDS"
   ]
  },
  {
   "cell_type": "code",
   "execution_count": 11,
   "metadata": {},
   "outputs": [],
   "source": [
    "from decouple import config\n",
    "from sqlalchemy import create_engine\n",
    "from sqlalchemy import URL\n",
    "\n",
    "from sqlalchemy_utils import create_database, database_exists\n"
   ]
  },
  {
   "cell_type": "code",
   "execution_count": 2,
   "metadata": {},
   "outputs": [],
   "source": [
    "use_aws = False"
   ]
  },
  {
   "cell_type": "code",
   "execution_count": 3,
   "metadata": {},
   "outputs": [],
   "source": [
    "# Retrieve value from .env file\n",
    "\n",
    "HOST= config(\"HOST\")\n",
    "PORT= config(\"PORT\")\n",
    "DBNAME= config(\"DBNAME\")\n",
    "USER= config(\"USER\")\n",
    "PASSWORD= config(\"PASSWORD\")\n",
    "\n",
    "url_object = URL.create(\n",
    "    \"mysql+pymysql\",\n",
    "    username=USER,\n",
    "    password=PASSWORD,  # plain (unescaped) text\n",
    "    host=HOST,\n",
    "    database=DBNAME,\n",
    ")\n",
    "\n"
   ]
  },
  {
   "cell_type": "code",
   "execution_count": 17,
   "metadata": {},
   "outputs": [],
   "source": [
    "if use_aws:\n",
    "    engine = create_engine(url_object)\n",
    "else:\n",
    "    engine = create_engine('sqlite:///pylabnet.sql', echo=True)\n",
    "\n",
    "\n",
    "    if not database_exists(engine.url):\n",
    "        create_database(engine.url)\n",
    "\n",
    "    print(database_exists(engine.url))"
   ]
  },
  {
   "cell_type": "code",
   "execution_count": 15,
   "metadata": {},
   "outputs": [
    {
     "name": "stdout",
     "output_type": "stream",
     "text": [
      "True\n"
     ]
    }
   ],
   "source": []
  },
  {
   "cell_type": "code",
   "execution_count": 14,
   "metadata": {},
   "outputs": [],
   "source": [
    "connection = engine.connect()"
   ]
  },
  {
   "cell_type": "code",
   "execution_count": 6,
   "metadata": {},
   "outputs": [],
   "source": [
    "# setup database\n",
    "\n",
    "from typing import List\n",
    "from typing import Optional\n",
    "from sqlalchemy import ForeignKey\n",
    "from sqlalchemy import String, DateTime\n",
    "from sqlalchemy.sql import func\n",
    "\n",
    "from sqlalchemy.orm import DeclarativeBase\n",
    "from sqlalchemy.orm import Mapped\n",
    "from sqlalchemy.orm import mapped_column\n",
    "from sqlalchemy.orm import relationship\n",
    "\n",
    "class Base(DeclarativeBase):\n",
    "    pass\n",
    "\n",
    "class Chip(Base):\n",
    "    __tablename__ = \"chip\"\n",
    "\n",
    "    id: Mapped[int] = mapped_column(primary_key=True)\n",
    "    name: Mapped[str] = mapped_column(String(30))\n",
    "    created_by: Mapped[str] = mapped_column(String(30))\n",
    "\n",
    "    time_created = mapped_column(DateTime(timezone=True), server_default=func.now())\n",
    "    time_updated = mapped_column(DateTime(timezone=True), onupdate=func.now())\n",
    "\n",
    "    devices: Mapped[List[\"Device\"]] = relationship(\n",
    "        back_populates=\"chip\", cascade=\"all\"\n",
    "    )\n",
    "\n",
    "    def __repr__(self) -> str:\n",
    "        return f\"Chip(id={self.id!r}, name={self.name!r})\"\n",
    "\n",
    "class Device(Base):\n",
    "    __tablename__ = \"device\"\n",
    "\n",
    "    id: Mapped[int] = mapped_column(primary_key=True)\n",
    "    chip_id: Mapped[int] = mapped_column(ForeignKey(\"chip.id\"))\n",
    "    name: Mapped[str] = mapped_column(String(30))\n",
    "\n",
    "\n",
    "    chip: Mapped[\"Chip\"] = relationship(back_populates=\"devices\")\n",
    "\n",
    "    experiments: Mapped[List[\"Experiment\"]] = relationship(\n",
    "            back_populates=\"device\", cascade=\"all\"\n",
    "        )\n",
    "\n",
    "    sivs: Mapped[List[\"SiV\"]] = relationship(\n",
    "            back_populates=\"devices\", cascade=\"all\"\n",
    "        )\n",
    "\n",
    "\n",
    "    def __repr__(self) -> str:\n",
    "        return f\"Device(id={self.id!r}, name={self.name!r})\"\n",
    "\n",
    "class SiV(Base):\n",
    "    __tablename__ = \"siv\"\n",
    "\n",
    "    id: Mapped[int] = mapped_column(primary_key=True)\n",
    "    name: Mapped[str] = mapped_column(String(30))\n",
    "    device_id: Mapped[int] = mapped_column(ForeignKey(\"device.id\"))\n",
    "\n",
    "\n",
    "    devices: Mapped[List[\"Device\"]] = relationship(\n",
    "            back_populates=\"sivs\", cascade=\"all\"\n",
    "        )\n",
    "\n",
    "    experiments: Mapped[List[\"Experiment\"]] = relationship(\n",
    "            back_populates=\"siv\", cascade=\"all\"\n",
    "        )\n",
    "\n",
    "    def __repr__(self) -> str:\n",
    "        return f\"Device(id={self.id!r}, name={self.name!r})\"\n",
    "\n",
    "\n",
    "class Experiment(Base):\n",
    "    __tablename__ = \"experiment\"\n",
    "\n",
    "    id: Mapped[int] = mapped_column(primary_key=True)\n",
    "    siv_id: Mapped[int] = mapped_column(ForeignKey(\"siv.id\"), nullable=True)\n",
    "    device_id: Mapped[int] = mapped_column(ForeignKey(\"device.id\"), nullable=True)\n",
    "\n",
    "    name: Mapped[str] = mapped_column(String(30))\n",
    "\n",
    "\n",
    "    siv: Mapped[\"SiV\"] = relationship(back_populates=\"experiments\")\n",
    "    device: Mapped[\"Device\"] = relationship(back_populates=\"experiments\")\n",
    "\n",
    "\n",
    "    def __repr__(self) -> str:\n",
    "        return f\"Experiment(id={self.id!r}, name={self.name!r})\""
   ]
  },
  {
   "cell_type": "code",
   "execution_count": 7,
   "metadata": {},
   "outputs": [
    {
     "name": "stdout",
     "output_type": "stream",
     "text": [
      "2023-02-17 15:37:08,623 INFO sqlalchemy.engine.Engine BEGIN (implicit)\n",
      "2023-02-17 15:37:08,624 INFO sqlalchemy.engine.Engine PRAGMA main.table_info(\"chip\")\n",
      "2023-02-17 15:37:08,625 INFO sqlalchemy.engine.Engine [raw sql] ()\n",
      "2023-02-17 15:37:08,626 INFO sqlalchemy.engine.Engine PRAGMA temp.table_info(\"chip\")\n",
      "2023-02-17 15:37:08,626 INFO sqlalchemy.engine.Engine [raw sql] ()\n",
      "2023-02-17 15:37:08,627 INFO sqlalchemy.engine.Engine PRAGMA main.table_info(\"device\")\n",
      "2023-02-17 15:37:08,627 INFO sqlalchemy.engine.Engine [raw sql] ()\n",
      "2023-02-17 15:37:08,627 INFO sqlalchemy.engine.Engine PRAGMA temp.table_info(\"device\")\n",
      "2023-02-17 15:37:08,628 INFO sqlalchemy.engine.Engine [raw sql] ()\n",
      "2023-02-17 15:37:08,628 INFO sqlalchemy.engine.Engine PRAGMA main.table_info(\"siv\")\n",
      "2023-02-17 15:37:08,629 INFO sqlalchemy.engine.Engine [raw sql] ()\n",
      "2023-02-17 15:37:08,629 INFO sqlalchemy.engine.Engine PRAGMA temp.table_info(\"siv\")\n",
      "2023-02-17 15:37:08,630 INFO sqlalchemy.engine.Engine [raw sql] ()\n",
      "2023-02-17 15:37:08,630 INFO sqlalchemy.engine.Engine PRAGMA main.table_info(\"experiment\")\n",
      "2023-02-17 15:37:08,631 INFO sqlalchemy.engine.Engine [raw sql] ()\n",
      "2023-02-17 15:37:08,631 INFO sqlalchemy.engine.Engine PRAGMA temp.table_info(\"experiment\")\n",
      "2023-02-17 15:37:08,632 INFO sqlalchemy.engine.Engine [raw sql] ()\n",
      "2023-02-17 15:37:08,633 INFO sqlalchemy.engine.Engine \n",
      "CREATE TABLE chip (\n",
      "\tid INTEGER NOT NULL, \n",
      "\tname VARCHAR(30) NOT NULL, \n",
      "\tcreated_by VARCHAR(30) NOT NULL, \n",
      "\ttime_created DATETIME DEFAULT (CURRENT_TIMESTAMP), \n",
      "\ttime_updated DATETIME, \n",
      "\tPRIMARY KEY (id)\n",
      ")\n",
      "\n",
      "\n",
      "2023-02-17 15:37:08,633 INFO sqlalchemy.engine.Engine [no key 0.00054s] ()\n",
      "2023-02-17 15:37:08,634 INFO sqlalchemy.engine.Engine \n",
      "CREATE TABLE device (\n",
      "\tid INTEGER NOT NULL, \n",
      "\tchip_id INTEGER NOT NULL, \n",
      "\tname VARCHAR(30) NOT NULL, \n",
      "\tPRIMARY KEY (id), \n",
      "\tFOREIGN KEY(chip_id) REFERENCES chip (id)\n",
      ")\n",
      "\n",
      "\n",
      "2023-02-17 15:37:08,635 INFO sqlalchemy.engine.Engine [no key 0.00074s] ()\n",
      "2023-02-17 15:37:08,637 INFO sqlalchemy.engine.Engine \n",
      "CREATE TABLE siv (\n",
      "\tid INTEGER NOT NULL, \n",
      "\tname VARCHAR(30) NOT NULL, \n",
      "\tdevice_id INTEGER NOT NULL, \n",
      "\tPRIMARY KEY (id), \n",
      "\tFOREIGN KEY(device_id) REFERENCES device (id)\n",
      ")\n",
      "\n",
      "\n",
      "2023-02-17 15:37:08,638 INFO sqlalchemy.engine.Engine [no key 0.00094s] ()\n",
      "2023-02-17 15:37:08,639 INFO sqlalchemy.engine.Engine \n",
      "CREATE TABLE experiment (\n",
      "\tid INTEGER NOT NULL, \n",
      "\tsiv_id INTEGER, \n",
      "\tdevice_id INTEGER, \n",
      "\tname VARCHAR(30) NOT NULL, \n",
      "\tPRIMARY KEY (id), \n",
      "\tFOREIGN KEY(siv_id) REFERENCES siv (id), \n",
      "\tFOREIGN KEY(device_id) REFERENCES device (id)\n",
      ")\n",
      "\n",
      "\n",
      "2023-02-17 15:37:08,640 INFO sqlalchemy.engine.Engine [no key 0.00087s] ()\n",
      "2023-02-17 15:37:08,641 INFO sqlalchemy.engine.Engine COMMIT\n"
     ]
    }
   ],
   "source": [
    "Base.metadata.create_all(engine)\n"
   ]
  },
  {
   "cell_type": "code",
   "execution_count": 8,
   "metadata": {},
   "outputs": [],
   "source": [
    "from sqlalchemy.orm import Session\n",
    "from sqlalchemy import select\n",
    "\n",
    "\n",
    "with Session(engine) as session:\n",
    "\n",
    "    chip_1 = Chip(\n",
    "        name=\"20_09_B\",\n",
    "        devices=[Device(name=\"A_a_c\")],\n",
    "    )\n",
    "   \n",
    "    session.add_all([chip_1])\n",
    "\n",
    "    session.commit()\n"
   ]
  },
  {
   "cell_type": "code",
   "execution_count": 16,
   "metadata": {},
   "outputs": [],
   "source": [
    "from sqlalchemy import select\n",
    "\n",
    "\n",
    "\n",
    "\n",
    "\n",
    "stmt = select(Device).where(Device.name == \"A_a_c\")\n",
    "target_device = session.scalars(stmt).one()"
   ]
  },
  {
   "cell_type": "code",
   "execution_count": 17,
   "metadata": {},
   "outputs": [
    {
     "data": {
      "text/plain": [
       "Device(id=1, name='A_a_c')"
      ]
     },
     "execution_count": 17,
     "metadata": {},
     "output_type": "execute_result"
    }
   ],
   "source": [
    "target_device"
   ]
  },
  {
   "cell_type": "code",
   "execution_count": 21,
   "metadata": {},
   "outputs": [],
   "source": [
    "with Session(engine) as session:\n",
    "\n",
    "    odmr = Experiment(\n",
    "        name=\"ODMR\"\n",
    "    )\n",
    "\n",
    "    laserscan = Experiment(\n",
    "        name=\"LASERSCAN\"\n",
    "    )\n",
    "   \n",
    "    session.add_all([odmr, laserscan])\n",
    "\n",
    "    session.commit()"
   ]
  },
  {
   "cell_type": "code",
   "execution_count": 24,
   "metadata": {},
   "outputs": [],
   "source": [
    "stmt = select(Experiment).where(Experiment.name == \"ODMR\")\n",
    "experiment = session.scalars(stmt).first()\n"
   ]
  },
  {
   "cell_type": "code",
   "execution_count": 25,
   "metadata": {},
   "outputs": [],
   "source": [
    "target_device.experiments = [experiment]"
   ]
  },
  {
   "cell_type": "code",
   "execution_count": 26,
   "metadata": {},
   "outputs": [
    {
     "name": "stderr",
     "output_type": "stream",
     "text": [
      "/tmp/ipykernel_17188/631814250.py:1: SAWarning: Object of type <Device> not in session, add operation along 'Experiment.device' won't proceed\n",
      "  session.commit()\n"
     ]
    }
   ],
   "source": [
    "session.commit()"
   ]
  },
  {
   "cell_type": "code",
   "execution_count": 28,
   "metadata": {},
   "outputs": [
    {
     "data": {
      "text/plain": [
       "[Experiment(id=1, name='ODMR')]"
      ]
     },
     "execution_count": 28,
     "metadata": {},
     "output_type": "execute_result"
    }
   ],
   "source": [
    "target_device.experiments"
   ]
  },
  {
   "cell_type": "code",
   "execution_count": null,
   "metadata": {},
   "outputs": [],
   "source": []
  }
 ],
 "metadata": {
  "kernelspec": {
   "display_name": "Python 3",
   "language": "python",
   "name": "python3"
  },
  "language_info": {
   "codemirror_mode": {
    "name": "ipython",
    "version": 3
   },
   "file_extension": ".py",
   "mimetype": "text/x-python",
   "name": "python",
   "nbconvert_exporter": "python",
   "pygments_lexer": "ipython3",
   "version": "3.8.10"
  },
  "orig_nbformat": 2,
  "vscode": {
   "interpreter": {
    "hash": "31f2aee4e71d21fbe5cf8b01ff0e069b9275f58929596ceb00d14d90e3e16cd6"
   }
  }
 },
 "nbformat": 4,
 "nbformat_minor": 2
}
