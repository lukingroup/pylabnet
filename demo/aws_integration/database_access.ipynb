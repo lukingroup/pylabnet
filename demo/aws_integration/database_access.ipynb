{
 "cells": [
  {
   "cell_type": "code",
   "execution_count": 17,
   "metadata": {},
   "outputs": [],
   "source": [
    "import boto3\n",
    "import numpy as np\n",
    "import io\n",
    "import pickle"
   ]
  },
  {
   "cell_type": "code",
   "execution_count": 8,
   "metadata": {},
   "outputs": [],
   "source": [
    "# Let's use Amazon S3\n",
    "s3 = boto3.resource('s3')"
   ]
  },
  {
   "cell_type": "code",
   "execution_count": 13,
   "metadata": {},
   "outputs": [
    {
     "name": "stdout",
     "output_type": "stream",
     "text": [
      "amazon-braket-c5c33f4595cd\n",
      "cf-templates-1eqlum4iklsii-us-east-2\n",
      "lukinsivdatabucket\n"
     ]
    }
   ],
   "source": [
    "# Print out bucket names\n",
    "for bucket in s3.buckets.all():\n",
    "    print(bucket.name)"
   ]
  },
  {
   "attachments": {},
   "cell_type": "markdown",
   "metadata": {},
   "source": [
    "## Option 1: Upload and download pickled data"
   ]
  },
  {
   "cell_type": "code",
   "execution_count": 20,
   "metadata": {},
   "outputs": [],
   "source": [
    "# Upload some data\n",
    "s3_client = boto3.client('s3')\n",
    "data = np.zeros(10)"
   ]
  },
  {
   "cell_type": "code",
   "execution_count": 21,
   "metadata": {},
   "outputs": [],
   "source": [
    "# upload without using disk\n",
    "# from https://stackoverflow.com/questions/48049557/how-to-write-npy-file-to-s3-directly\n",
    "my_array_data = io.BytesIO()\n",
    "pickle.dump(data, my_array_data)\n",
    "my_array_data.seek(0)\n",
    "s3_client.upload_fileobj(my_array_data, 'lukinsivdatabucket', 'your-file.pkl')\n"
   ]
  },
  {
   "cell_type": "code",
   "execution_count": 24,
   "metadata": {},
   "outputs": [
    {
     "data": {
      "text/plain": [
       "True"
      ]
     },
     "execution_count": 24,
     "metadata": {},
     "output_type": "execute_result"
    }
   ],
   "source": [
    "# download data\n",
    "# download without using disk\n",
    "my_array_data2 = io.BytesIO()\n",
    "s3_client.download_fileobj('lukinsivdatabucket', 'your-file.pkl', my_array_data2)\n",
    "my_array_data2.seek(0)\n",
    "my_array2 = pickle.load(my_array_data2)\n",
    "\n",
    "# check that everything is correct\n",
    "np.allclose(data, my_array2)"
   ]
  },
  {
   "attachments": {},
   "cell_type": "markdown",
   "metadata": {},
   "source": [
    "## Option 2: Upload and download file"
   ]
  },
  {
   "cell_type": "code",
   "execution_count": 31,
   "metadata": {},
   "outputs": [],
   "source": [
    "#alternativly: save file\n",
    "\n",
    "data_txt = np.savetxt(\"testdata.txt\", data)\n",
    "data_open = open(\"testdata.txt\", 'rb')\n"
   ]
  },
  {
   "cell_type": "code",
   "execution_count": 32,
   "metadata": {},
   "outputs": [
    {
     "data": {
      "text/plain": [
       "s3.Object(bucket_name='lukinsivdatabucket', key='testdata.txt')"
      ]
     },
     "execution_count": 32,
     "metadata": {},
     "output_type": "execute_result"
    }
   ],
   "source": [
    "s3.Bucket('lukinsivdatabucket').put_object(Key='testdata.txt', Body=data_open)"
   ]
  },
  {
   "cell_type": "code",
   "execution_count": 33,
   "metadata": {},
   "outputs": [],
   "source": [
    "# retrieve it by manually downloading it\n",
    "s3_client.download_file('lukinsivdatabucket', 'testdata.txt', 'downloaded_testdata.txt')"
   ]
  },
  {
   "attachments": {},
   "cell_type": "markdown",
   "metadata": {},
   "source": [
    "## Option 3: Use third party package (cottoncandy)"
   ]
  },
  {
   "cell_type": "code",
   "execution_count": 40,
   "metadata": {},
   "outputs": [],
   "source": [
    "import cottoncandy as cc"
   ]
  },
  {
   "cell_type": "code",
   "execution_count": 41,
   "metadata": {},
   "outputs": [
    {
     "ename": "ClientError",
     "evalue": "An error occurred (301) when calling the HeadBucket operation: Moved Permanently",
     "output_type": "error",
     "traceback": [
      "\u001b[0;31m---------------------------------------------------------------------------\u001b[0m",
      "\u001b[0;31mClientError\u001b[0m                               Traceback (most recent call last)",
      "\u001b[1;32m/home/cknaut/Dropbox/GradSchool/pylabnet/demo/aws_integration/database_access.ipynb Cell 14\u001b[0m in \u001b[0;36m<cell line: 1>\u001b[0;34m()\u001b[0m\n\u001b[0;32m----> <a href='vscode-notebook-cell:/home/cknaut/Dropbox/GradSchool/pylabnet/demo/aws_integration/database_access.ipynb#X41sZmlsZQ%3D%3D?line=0'>1</a>\u001b[0m cci \u001b[39m=\u001b[39m cc\u001b[39m.\u001b[39;49mget_interface(\u001b[39m'\u001b[39;49m\u001b[39mlukinsivdatabucket\u001b[39;49m\u001b[39m'\u001b[39;49m)\n",
      "File \u001b[0;32m~/.local/lib/python3.8/site-packages/cottoncandy/__init__.py:81\u001b[0m, in \u001b[0;36mget_interface\u001b[0;34m(bucket_name, ACCESS_KEY, SECRET_KEY, endpoint_url, force_bucket_creation, verbose, backend, **kwargs)\u001b[0m\n\u001b[1;32m     78\u001b[0m     \u001b[39mfrom\u001b[39;00m \u001b[39mbotocore\u001b[39;00m\u001b[39m.\u001b[39;00m\u001b[39mclient\u001b[39;00m \u001b[39mimport\u001b[39;00m Config\n\u001b[1;32m     79\u001b[0m     kwargs[\u001b[39m'\u001b[39m\u001b[39mconfig\u001b[39m\u001b[39m'\u001b[39m] \u001b[39m=\u001b[39m Config(signature_version\u001b[39m=\u001b[39mDEFAULT_SIGNATURE_VERSION)\n\u001b[0;32m---> 81\u001b[0m interface \u001b[39m=\u001b[39m DefaultInterface(bucket_name,\n\u001b[1;32m     82\u001b[0m                              ACCESS_KEY,\n\u001b[1;32m     83\u001b[0m                              SECRET_KEY,\n\u001b[1;32m     84\u001b[0m                              endpoint_url,\n\u001b[1;32m     85\u001b[0m                              force_bucket_creation,\n\u001b[1;32m     86\u001b[0m                              verbose\u001b[39m=\u001b[39;49mverbose,\n\u001b[1;32m     87\u001b[0m                              backend \u001b[39m=\u001b[39;49m backend,\n\u001b[1;32m     88\u001b[0m                              \u001b[39m*\u001b[39;49m\u001b[39m*\u001b[39;49mkwargs)\n\u001b[1;32m     89\u001b[0m \u001b[39mreturn\u001b[39;00m interface\n",
      "File \u001b[0;32m~/.local/lib/python3.8/site-packages/cottoncandy/interfaces.py:1387\u001b[0m, in \u001b[0;36mDefaultInterface.__init__\u001b[0;34m(self, *args, **kwargs)\u001b[0m\n\u001b[1;32m   1369\u001b[0m \u001b[39mdef\u001b[39;00m \u001b[39m__init__\u001b[39m(\u001b[39mself\u001b[39m, \u001b[39m*\u001b[39margs, \u001b[39m*\u001b[39m\u001b[39m*\u001b[39mkwargs):\n\u001b[1;32m   1370\u001b[0m     \u001b[39m\"\"\"\u001b[39;00m\n\u001b[1;32m   1371\u001b[0m \u001b[39m    Parameters\u001b[39;00m\n\u001b[1;32m   1372\u001b[0m \u001b[39m    ----------\u001b[39;00m\n\u001b[0;32m   (...)\u001b[0m\n\u001b[1;32m   1385\u001b[0m \u001b[39m    cci  : cottoncandy.InterfaceObject\u001b[39;00m\n\u001b[1;32m   1386\u001b[0m \u001b[39m    \"\"\"\u001b[39;00m\n\u001b[0;32m-> 1387\u001b[0m     \u001b[39msuper\u001b[39;49m(DefaultInterface, \u001b[39mself\u001b[39;49m)\u001b[39m.\u001b[39;49m\u001b[39m__init__\u001b[39;49m(\u001b[39m*\u001b[39;49margs, \u001b[39m*\u001b[39;49m\u001b[39m*\u001b[39;49mkwargs)\n",
      "File \u001b[0;32m~/.local/lib/python3.8/site-packages/cottoncandy/interfaces.py:1007\u001b[0m, in \u001b[0;36mFileSystemInterface.__init__\u001b[0;34m(self, *args, **kwargs)\u001b[0m\n\u001b[1;32m    990\u001b[0m \u001b[39mdef\u001b[39;00m \u001b[39m__init__\u001b[39m(\u001b[39mself\u001b[39m, \u001b[39m*\u001b[39margs, \u001b[39m*\u001b[39m\u001b[39m*\u001b[39mkwargs):\n\u001b[1;32m    991\u001b[0m     \u001b[39m\"\"\"\u001b[39;00m\n\u001b[1;32m    992\u001b[0m \u001b[39m    Parameters\u001b[39;00m\n\u001b[1;32m    993\u001b[0m \u001b[39m    ----------\u001b[39;00m\n\u001b[0;32m   (...)\u001b[0m\n\u001b[1;32m   1005\u001b[0m \u001b[39m        Cottoncandy interface object\u001b[39;00m\n\u001b[1;32m   1006\u001b[0m \u001b[39m    \"\"\"\u001b[39;00m\n\u001b[0;32m-> 1007\u001b[0m     \u001b[39msuper\u001b[39;49m(FileSystemInterface, \u001b[39mself\u001b[39;49m)\u001b[39m.\u001b[39;49m\u001b[39m__init__\u001b[39;49m(\u001b[39m*\u001b[39;49margs, \u001b[39m*\u001b[39;49m\u001b[39m*\u001b[39;49mkwargs)\n",
      "File \u001b[0;32m~/.local/lib/python3.8/site-packages/cottoncandy/interfaces.py:505\u001b[0m, in \u001b[0;36mArrayInterface.__init__\u001b[0;34m(self, *args, **kwargs)\u001b[0m\n\u001b[1;32m    488\u001b[0m \u001b[39mdef\u001b[39;00m \u001b[39m__init__\u001b[39m(\u001b[39mself\u001b[39m, \u001b[39m*\u001b[39margs, \u001b[39m*\u001b[39m\u001b[39m*\u001b[39mkwargs):\n\u001b[1;32m    489\u001b[0m     \u001b[39m\"\"\"\u001b[39;00m\n\u001b[1;32m    490\u001b[0m \u001b[39m    Parameters\u001b[39;00m\n\u001b[1;32m    491\u001b[0m \u001b[39m    ----------\u001b[39;00m\n\u001b[0;32m   (...)\u001b[0m\n\u001b[1;32m    503\u001b[0m \u001b[39m        Cottoncandy interface object\u001b[39;00m\n\u001b[1;32m    504\u001b[0m \u001b[39m    \"\"\"\u001b[39;00m\n\u001b[0;32m--> 505\u001b[0m     \u001b[39msuper\u001b[39;49m(ArrayInterface, \u001b[39mself\u001b[39;49m)\u001b[39m.\u001b[39;49m\u001b[39m__init__\u001b[39;49m(\u001b[39m*\u001b[39;49margs, \u001b[39m*\u001b[39;49m\u001b[39m*\u001b[39;49mkwargs)\n",
      "File \u001b[0;32m~/.local/lib/python3.8/site-packages/cottoncandy/interfaces.py:110\u001b[0m, in \u001b[0;36mBasicInterface.__init__\u001b[0;34m(self, bucket_name, ACCESS_KEY, SECRET_KEY, url, force_bucket_creation, verbose, backend, **kwargs)\u001b[0m\n\u001b[1;32m    107\u001b[0m bucket_name \u001b[39m=\u001b[39m \u001b[39mNone\u001b[39;00m \u001b[39mif\u001b[39;00m bucket_name \u001b[39m==\u001b[39m \u001b[39m'\u001b[39m\u001b[39m'\u001b[39m \u001b[39melse\u001b[39;00m bucket_name\n\u001b[1;32m    109\u001b[0m \u001b[39mif\u001b[39;00m backend \u001b[39m==\u001b[39m \u001b[39m'\u001b[39m\u001b[39ms3\u001b[39m\u001b[39m'\u001b[39m:\n\u001b[0;32m--> 110\u001b[0m     \u001b[39mself\u001b[39m\u001b[39m.\u001b[39mbackend_interface \u001b[39m=\u001b[39m S3Client(bucket_name, ACCESS_KEY, SECRET_KEY, url,\n\u001b[1;32m    111\u001b[0m                                       force_bucket_creation,\n\u001b[1;32m    112\u001b[0m                                       \u001b[39m*\u001b[39;49m\u001b[39m*\u001b[39;49mkwargs)\n\u001b[1;32m    113\u001b[0m \u001b[39melif\u001b[39;00m backend \u001b[39m==\u001b[39m \u001b[39m'\u001b[39m\u001b[39mgdrive\u001b[39m\u001b[39m'\u001b[39m:\n\u001b[1;32m    114\u001b[0m     \u001b[39mfrom\u001b[39;00m \u001b[39m.\u001b[39;00m\u001b[39mgdriveclient\u001b[39;00m \u001b[39mimport\u001b[39;00m GDriveClient\n",
      "File \u001b[0;32m~/.local/lib/python3.8/site-packages/cottoncandy/s3client.py:73\u001b[0m, in \u001b[0;36mS3Client.__init__\u001b[0;34m(self, bucket, access_key, secret_key, s3url, force_bucket_creation, **kwargs)\u001b[0m\n\u001b[1;32m     69\u001b[0m \u001b[39mself\u001b[39m\u001b[39m.\u001b[39mbucket_name \u001b[39m=\u001b[39m \u001b[39mNone\u001b[39;00m\n\u001b[1;32m     71\u001b[0m \u001b[39mif\u001b[39;00m bucket:\n\u001b[1;32m     72\u001b[0m     \u001b[39m# bucket given\u001b[39;00m\n\u001b[0;32m---> 73\u001b[0m     \u001b[39mif\u001b[39;00m \u001b[39mself\u001b[39;49m\u001b[39m.\u001b[39;49mcheck_bucket_exists(bucket):\n\u001b[1;32m     74\u001b[0m         \u001b[39mself\u001b[39m\u001b[39m.\u001b[39mset_current_bucket(bucket)\n\u001b[1;32m     75\u001b[0m     \u001b[39melif\u001b[39;00m force_bucket_creation:\n",
      "File \u001b[0;32m~/.local/lib/python3.8/site-packages/cottoncandy/s3client.py:147\u001b[0m, in \u001b[0;36mS3Client.check_bucket_exists\u001b[0;34m(self, bucket_name)\u001b[0m\n\u001b[1;32m    145\u001b[0m         exists \u001b[39m=\u001b[39m \u001b[39mFalse\u001b[39;00m\n\u001b[1;32m    146\u001b[0m     \u001b[39melse\u001b[39;00m:\n\u001b[0;32m--> 147\u001b[0m         \u001b[39mraise\u001b[39;00m e\n\u001b[1;32m    148\u001b[0m \u001b[39melse\u001b[39;00m:\n\u001b[1;32m    149\u001b[0m     exists \u001b[39m=\u001b[39m \u001b[39mTrue\u001b[39;00m\n",
      "File \u001b[0;32m~/.local/lib/python3.8/site-packages/cottoncandy/s3client.py:142\u001b[0m, in \u001b[0;36mS3Client.check_bucket_exists\u001b[0;34m(self, bucket_name)\u001b[0m\n\u001b[1;32m    131\u001b[0m \u001b[39m\"\"\"Check whether the bucket exists\u001b[39;00m\n\u001b[1;32m    132\u001b[0m \n\u001b[1;32m    133\u001b[0m \u001b[39mParameters\u001b[39;00m\n\u001b[0;32m   (...)\u001b[0m\n\u001b[1;32m    139\u001b[0m \n\u001b[1;32m    140\u001b[0m \u001b[39m\"\"\"\u001b[39;00m\n\u001b[1;32m    141\u001b[0m \u001b[39mtry\u001b[39;00m:\n\u001b[0;32m--> 142\u001b[0m     \u001b[39mself\u001b[39;49m\u001b[39m.\u001b[39;49mconnection\u001b[39m.\u001b[39;49mmeta\u001b[39m.\u001b[39;49mclient\u001b[39m.\u001b[39;49mhead_bucket(Bucket \u001b[39m=\u001b[39;49m bucket_name)\n\u001b[1;32m    143\u001b[0m \u001b[39mexcept\u001b[39;00m botocore\u001b[39m.\u001b[39mexceptions\u001b[39m.\u001b[39mClientError \u001b[39mas\u001b[39;00m e:\n\u001b[1;32m    144\u001b[0m     \u001b[39mif\u001b[39;00m e\u001b[39m.\u001b[39mresponse[\u001b[39m'\u001b[39m\u001b[39mError\u001b[39m\u001b[39m'\u001b[39m][\u001b[39m'\u001b[39m\u001b[39mCode\u001b[39m\u001b[39m'\u001b[39m] \u001b[39m==\u001b[39m \u001b[39m\"\u001b[39m\u001b[39m404\u001b[39m\u001b[39m\"\u001b[39m:\n",
      "File \u001b[0;32m~/.local/lib/python3.8/site-packages/botocore/client.py:530\u001b[0m, in \u001b[0;36mClientCreator._create_api_method.<locals>._api_call\u001b[0;34m(self, *args, **kwargs)\u001b[0m\n\u001b[1;32m    526\u001b[0m     \u001b[39mraise\u001b[39;00m \u001b[39mTypeError\u001b[39;00m(\n\u001b[1;32m    527\u001b[0m         \u001b[39mf\u001b[39m\u001b[39m\"\u001b[39m\u001b[39m{\u001b[39;00mpy_operation_name\u001b[39m}\u001b[39;00m\u001b[39m() only accepts keyword arguments.\u001b[39m\u001b[39m\"\u001b[39m\n\u001b[1;32m    528\u001b[0m     )\n\u001b[1;32m    529\u001b[0m \u001b[39m# The \"self\" in this scope is referring to the BaseClient.\u001b[39;00m\n\u001b[0;32m--> 530\u001b[0m \u001b[39mreturn\u001b[39;00m \u001b[39mself\u001b[39;49m\u001b[39m.\u001b[39;49m_make_api_call(operation_name, kwargs)\n",
      "File \u001b[0;32m~/.local/lib/python3.8/site-packages/botocore/client.py:960\u001b[0m, in \u001b[0;36mBaseClient._make_api_call\u001b[0;34m(self, operation_name, api_params)\u001b[0m\n\u001b[1;32m    958\u001b[0m     error_code \u001b[39m=\u001b[39m parsed_response\u001b[39m.\u001b[39mget(\u001b[39m\"\u001b[39m\u001b[39mError\u001b[39m\u001b[39m\"\u001b[39m, {})\u001b[39m.\u001b[39mget(\u001b[39m\"\u001b[39m\u001b[39mCode\u001b[39m\u001b[39m\"\u001b[39m)\n\u001b[1;32m    959\u001b[0m     error_class \u001b[39m=\u001b[39m \u001b[39mself\u001b[39m\u001b[39m.\u001b[39mexceptions\u001b[39m.\u001b[39mfrom_code(error_code)\n\u001b[0;32m--> 960\u001b[0m     \u001b[39mraise\u001b[39;00m error_class(parsed_response, operation_name)\n\u001b[1;32m    961\u001b[0m \u001b[39melse\u001b[39;00m:\n\u001b[1;32m    962\u001b[0m     \u001b[39mreturn\u001b[39;00m parsed_response\n",
      "\u001b[0;31mClientError\u001b[0m: An error occurred (301) when calling the HeadBucket operation: Moved Permanently"
     ]
    }
   ],
   "source": [
    "cci = cc.get_interface('lukinsivdatabucket')"
   ]
  },
  {
   "cell_type": "code",
   "execution_count": null,
   "metadata": {},
   "outputs": [],
   "source": []
  }
 ],
 "metadata": {
  "kernelspec": {
   "display_name": "Python 3",
   "language": "python",
   "name": "python3"
  },
  "language_info": {
   "codemirror_mode": {
    "name": "ipython",
    "version": 3
   },
   "file_extension": ".py",
   "mimetype": "text/x-python",
   "name": "python",
   "nbconvert_exporter": "python",
   "pygments_lexer": "ipython3",
   "version": "3.8.10"
  },
  "orig_nbformat": 2,
  "vscode": {
   "interpreter": {
    "hash": "31f2aee4e71d21fbe5cf8b01ff0e069b9275f58929596ceb00d14d90e3e16cd6"
   }
  }
 },
 "nbformat": 4,
 "nbformat_minor": 2
}
