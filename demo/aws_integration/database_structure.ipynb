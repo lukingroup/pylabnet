{
 "cells": [
  {
   "cell_type": "code",
   "execution_count": 20,
   "metadata": {},
   "outputs": [],
   "source": [
    "from typing import List\n",
    "from typing import Optional\n",
    "from sqlalchemy import ForeignKey\n",
    "from sqlalchemy import String, DateTime\n",
    "from sqlalchemy.sql import func\n",
    "\n",
    "from sqlalchemy.orm import DeclarativeBase\n",
    "from sqlalchemy.orm import Mapped\n",
    "from sqlalchemy.orm import mapped_column\n",
    "from sqlalchemy.orm import relationship\n",
    "from sqlalchemy.orm import Session\n",
    "from sqlalchemy import select, create_engine, Column\n",
    "\n",
    "from sqlalchemy.dialects.postgresql import JSONB\n",
    "\n",
    "import json"
   ]
  },
  {
   "cell_type": "code",
   "execution_count": 31,
   "metadata": {},
   "outputs": [],
   "source": [
    "class Base(DeclarativeBase):\n",
    "    pass\n",
    "\n",
    "\n",
    "\n",
    "class Chip(Base):\n",
    "    __tablename__ = \"chip\"\n",
    "\n",
    "    id: Mapped[int] = mapped_column(primary_key=True)\n",
    "    name: Mapped[str] = mapped_column(String(30))\n",
    "    created_by: Mapped[str] = mapped_column(String(30))\n",
    "    created = mapped_column(DateTime(timezone=True), server_default=func.now())\n",
    "    time_updated = mapped_column(DateTime(timezone=True), onupdate=func.now())\n",
    "    notes: Mapped[Optional[str]] = mapped_column(String(30))\n",
    "    gds_link: Mapped[Optional[str]] = mapped_column(String(30))\n",
    "    image_url: Mapped[Optional[str]] = mapped_column(String(30))\n",
    "\n",
    "    arrays: Mapped[List[\"Array\"]] = relationship(\n",
    "         back_populates=\"chip\", cascade=\"all, delete-orphan\"\n",
    "    )\n",
    "\n",
    "    def __repr__(self) -> str:\n",
    "        return f\"Chip(id={self.id!r}, name={self.name!r})\"\n",
    "    \n",
    "\n",
    "class Array(Base):\n",
    "    __tablename__ = \"array\"\n",
    "\n",
    "    id: Mapped[int] = mapped_column(primary_key=True)\n",
    "    name: Mapped[str] = mapped_column(String(30))\n",
    "    chip_id: Mapped[int] = mapped_column(ForeignKey(\"chip.id\"))\n",
    "    \n",
    "    created = mapped_column(DateTime(timezone=True), server_default=func.now())\n",
    "    time_updated = mapped_column(DateTime(timezone=True), onupdate=func.now())\n",
    "\n",
    "    chip: Mapped[\"Chip\"] = relationship(back_populates=\"arrays\")\n",
    "\n",
    "    devices: Mapped[List[\"Device\"]] = relationship(\n",
    "         back_populates=\"array\", cascade=\"all, delete-orphan\"\n",
    "    )\n",
    "    \n",
    "\n",
    "    def __repr__(self) -> str:\n",
    "        return f\"Array(id={self.id!r}, name={self.name!r})\"\n",
    "    \n",
    "\n",
    "class Device(Base):\n",
    "    __tablename__ = \"device\"\n",
    "\n",
    "    id: Mapped[int] = mapped_column(primary_key=True)\n",
    "    name: Mapped[str] = mapped_column(String(30))\n",
    "    array_id: Mapped[int] = mapped_column(ForeignKey(\"array.id\"))\n",
    "\n",
    "    created_by: Mapped[str] = mapped_column(String(30))\n",
    "    created = mapped_column(DateTime(timezone=True), server_default=func.now())\n",
    "    time_updated = mapped_column(DateTime(timezone=True), onupdate=func.now())\n",
    "    notes: Mapped[Optional[str]] \n",
    "\n",
    "    array: Mapped[\"Array\"] = relationship(back_populates=\"devices\")\n",
    "\n",
    "    targets: Mapped[List[\"Target\"]] = relationship(\n",
    "         back_populates=\"device\", cascade=\"all, delete-orphan\"\n",
    "    )\n",
    "    \n",
    "\n",
    "    def __repr__(self) -> str:\n",
    "        return f\"Device(id={self.id!r}, name={self.name!r}, array_id={self.array_id})\"\n",
    "    \n",
    "## Think about postgresql\n",
    "class Target(Base):\n",
    "    __tablename__ = \"target\"\n",
    "\n",
    "    id: Mapped[int] = mapped_column(primary_key=True)\n",
    "    name: Mapped[str] = mapped_column(String(30))\n",
    "    #metadata = Column(JSONB, nullable=True)\n",
    "    device_id: Mapped[int] = mapped_column(ForeignKey(\"device.id\"))\n",
    "\n",
    "    \n",
    "    created = mapped_column(DateTime(timezone=True), server_default=func.now())\n",
    "    time_updated = mapped_column(DateTime(timezone=True), onupdate=func.now())\n",
    "    \n",
    "\n",
    "    device: Mapped[\"Device\"] = relationship(back_populates=\"targets\")\n",
    "    \n",
    "\n",
    "    def __repr__(self) -> str:\n",
    "        return f\"Device(id={self.id!r}, name={self.name!r}, array_id={self.array_id})\""
   ]
  },
  {
   "cell_type": "code",
   "execution_count": 32,
   "metadata": {},
   "outputs": [
    {
     "name": "stdout",
     "output_type": "stream",
     "text": [
      "2023-02-25 23:43:25,852 INFO sqlalchemy.engine.Engine BEGIN (implicit)\n",
      "2023-02-25 23:43:25,853 INFO sqlalchemy.engine.Engine PRAGMA main.table_info(\"chip\")\n",
      "2023-02-25 23:43:25,853 INFO sqlalchemy.engine.Engine [raw sql] ()\n",
      "2023-02-25 23:43:25,854 INFO sqlalchemy.engine.Engine PRAGMA temp.table_info(\"chip\")\n",
      "2023-02-25 23:43:25,854 INFO sqlalchemy.engine.Engine [raw sql] ()\n",
      "2023-02-25 23:43:25,855 INFO sqlalchemy.engine.Engine PRAGMA main.table_info(\"array\")\n",
      "2023-02-25 23:43:25,856 INFO sqlalchemy.engine.Engine [raw sql] ()\n",
      "2023-02-25 23:43:25,856 INFO sqlalchemy.engine.Engine PRAGMA temp.table_info(\"array\")\n",
      "2023-02-25 23:43:25,856 INFO sqlalchemy.engine.Engine [raw sql] ()\n",
      "2023-02-25 23:43:25,857 INFO sqlalchemy.engine.Engine PRAGMA main.table_info(\"device\")\n",
      "2023-02-25 23:43:25,857 INFO sqlalchemy.engine.Engine [raw sql] ()\n",
      "2023-02-25 23:43:25,858 INFO sqlalchemy.engine.Engine PRAGMA temp.table_info(\"device\")\n",
      "2023-02-25 23:43:25,858 INFO sqlalchemy.engine.Engine [raw sql] ()\n",
      "2023-02-25 23:43:25,859 INFO sqlalchemy.engine.Engine PRAGMA main.table_info(\"target\")\n",
      "2023-02-25 23:43:25,859 INFO sqlalchemy.engine.Engine [raw sql] ()\n",
      "2023-02-25 23:43:25,860 INFO sqlalchemy.engine.Engine PRAGMA temp.table_info(\"target\")\n",
      "2023-02-25 23:43:25,860 INFO sqlalchemy.engine.Engine [raw sql] ()\n",
      "2023-02-25 23:43:25,861 INFO sqlalchemy.engine.Engine \n",
      "CREATE TABLE chip (\n",
      "\tid INTEGER NOT NULL, \n",
      "\tname VARCHAR(30) NOT NULL, \n",
      "\tcreated_by VARCHAR(30) NOT NULL, \n",
      "\tcreated DATETIME DEFAULT (CURRENT_TIMESTAMP), \n",
      "\ttime_updated DATETIME, \n",
      "\tnotes VARCHAR(30), \n",
      "\tgds_link VARCHAR(30), \n",
      "\timage_url VARCHAR(30), \n",
      "\tPRIMARY KEY (id)\n",
      ")\n",
      "\n",
      "\n",
      "2023-02-25 23:43:25,862 INFO sqlalchemy.engine.Engine [no key 0.00046s] ()\n",
      "2023-02-25 23:43:25,863 INFO sqlalchemy.engine.Engine \n",
      "CREATE TABLE array (\n",
      "\tid INTEGER NOT NULL, \n",
      "\tname VARCHAR(30) NOT NULL, \n",
      "\tchip_id INTEGER NOT NULL, \n",
      "\tcreated DATETIME DEFAULT (CURRENT_TIMESTAMP), \n",
      "\ttime_updated DATETIME, \n",
      "\tPRIMARY KEY (id), \n",
      "\tFOREIGN KEY(chip_id) REFERENCES chip (id)\n",
      ")\n",
      "\n",
      "\n",
      "2023-02-25 23:43:25,863 INFO sqlalchemy.engine.Engine [no key 0.00041s] ()\n",
      "2023-02-25 23:43:25,864 INFO sqlalchemy.engine.Engine \n",
      "CREATE TABLE device (\n",
      "\tid INTEGER NOT NULL, \n",
      "\tname VARCHAR(30) NOT NULL, \n",
      "\tarray_id INTEGER NOT NULL, \n",
      "\tcreated_by VARCHAR(30) NOT NULL, \n",
      "\tcreated DATETIME DEFAULT (CURRENT_TIMESTAMP), \n",
      "\ttime_updated DATETIME, \n",
      "\tnotes VARCHAR, \n",
      "\tPRIMARY KEY (id), \n",
      "\tFOREIGN KEY(array_id) REFERENCES array (id)\n",
      ")\n",
      "\n",
      "\n",
      "2023-02-25 23:43:25,865 INFO sqlalchemy.engine.Engine [no key 0.00061s] ()\n",
      "2023-02-25 23:43:25,866 INFO sqlalchemy.engine.Engine \n",
      "CREATE TABLE target (\n",
      "\tid INTEGER NOT NULL, \n",
      "\tname VARCHAR(30) NOT NULL, \n",
      "\tdevice_id INTEGER NOT NULL, \n",
      "\tcreated DATETIME DEFAULT (CURRENT_TIMESTAMP), \n",
      "\ttime_updated DATETIME, \n",
      "\tPRIMARY KEY (id), \n",
      "\tFOREIGN KEY(device_id) REFERENCES device (id)\n",
      ")\n",
      "\n",
      "\n",
      "2023-02-25 23:43:25,866 INFO sqlalchemy.engine.Engine [no key 0.00047s] ()\n",
      "2023-02-25 23:43:25,867 INFO sqlalchemy.engine.Engine COMMIT\n"
     ]
    }
   ],
   "source": [
    "# Retrieve value from .env file\n",
    "from decouple import config\n",
    "from sqlalchemy import URL\n",
    "\n",
    "\n",
    "HOST= config(\"HOST\")\n",
    "PORT= config(\"PORT\")\n",
    "DBNAME= config(\"DBNAME\")\n",
    "USER= config(\"USER\")\n",
    "PASSWORD= config(\"PASSWORD\")\n",
    "\n",
    "use_aws = False\n",
    "\n",
    "if use_aws:\n",
    "    url_object = URL.create(\n",
    "        \"mysql+pymysql\",\n",
    "        username=USER,\n",
    "        password=PASSWORD,  # plain (unescaped) text\n",
    "        host=HOST,\n",
    "        database=DBNAME,\n",
    "    )\n",
    "else:\n",
    "    url_object = \"sqlite+pysqlite:///:memory:\"\n",
    "\n",
    "\n",
    "\n",
    "from sqlalchemy import create_engine\n",
    "engine = create_engine(url_object, echo=True)\n",
    "Base.metadata.create_all(engine)\n"
   ]
  },
  {
   "cell_type": "code",
   "execution_count": 8,
   "metadata": {},
   "outputs": [],
   "source": [
    "\n",
    "\n",
    "with Session(engine) as session:\n",
    "\n",
    "    chip_1 = Chip(\n",
    "        name=\"20_09_B\",\n",
    "        devices=[Device(name=\"A_a_c\")],\n",
    "    )\n",
    "   \n",
    "    session.add_all([chip_1])\n",
    "\n",
    "    session.commit()\n"
   ]
  },
  {
   "cell_type": "code",
   "execution_count": 16,
   "metadata": {},
   "outputs": [],
   "source": [
    "from sqlalchemy import select\n",
    "\n",
    "\n",
    "\n",
    "\n",
    "\n",
    "stmt = select(Device).where(Device.name == \"A_a_c\")\n",
    "target_device = session.scalars(stmt).one()"
   ]
  },
  {
   "cell_type": "code",
   "execution_count": 17,
   "metadata": {},
   "outputs": [
    {
     "data": {
      "text/plain": [
       "Device(id=1, name='A_a_c')"
      ]
     },
     "execution_count": 17,
     "metadata": {},
     "output_type": "execute_result"
    }
   ],
   "source": [
    "target_device"
   ]
  },
  {
   "cell_type": "code",
   "execution_count": 21,
   "metadata": {},
   "outputs": [],
   "source": [
    "with Session(engine) as session:\n",
    "\n",
    "    odmr = Experiment(\n",
    "        name=\"ODMR\"\n",
    "    )\n",
    "\n",
    "    laserscan = Experiment(\n",
    "        name=\"LASERSCAN\"\n",
    "    )\n",
    "   \n",
    "    session.add_all([odmr, laserscan])\n",
    "\n",
    "    session.commit()"
   ]
  },
  {
   "cell_type": "code",
   "execution_count": 24,
   "metadata": {},
   "outputs": [],
   "source": [
    "stmt = select(Experiment).where(Experiment.name == \"ODMR\")\n",
    "experiment = session.scalars(stmt).first()\n"
   ]
  },
  {
   "cell_type": "code",
   "execution_count": 25,
   "metadata": {},
   "outputs": [],
   "source": [
    "target_device.experiments = [experiment]"
   ]
  },
  {
   "cell_type": "code",
   "execution_count": 26,
   "metadata": {},
   "outputs": [
    {
     "name": "stderr",
     "output_type": "stream",
     "text": [
      "/tmp/ipykernel_17188/631814250.py:1: SAWarning: Object of type <Device> not in session, add operation along 'Experiment.device' won't proceed\n",
      "  session.commit()\n"
     ]
    }
   ],
   "source": [
    "session.commit()"
   ]
  },
  {
   "cell_type": "code",
   "execution_count": 28,
   "metadata": {},
   "outputs": [
    {
     "data": {
      "text/plain": [
       "[Experiment(id=1, name='ODMR')]"
      ]
     },
     "execution_count": 28,
     "metadata": {},
     "output_type": "execute_result"
    }
   ],
   "source": [
    "target_device.experiments"
   ]
  },
  {
   "cell_type": "code",
   "execution_count": null,
   "metadata": {},
   "outputs": [],
   "source": []
  }
 ],
 "metadata": {
  "kernelspec": {
   "display_name": "Python 3",
   "language": "python",
   "name": "python3"
  },
  "language_info": {
   "codemirror_mode": {
    "name": "ipython",
    "version": 3
   },
   "file_extension": ".py",
   "mimetype": "text/x-python",
   "name": "python",
   "nbconvert_exporter": "python",
   "pygments_lexer": "ipython3",
   "version": "3.8.10"
  },
  "orig_nbformat": 2,
  "vscode": {
   "interpreter": {
    "hash": "31f2aee4e71d21fbe5cf8b01ff0e069b9275f58929596ceb00d14d90e3e16cd6"
   }
  }
 },
 "nbformat": 4,
 "nbformat_minor": 2
}
