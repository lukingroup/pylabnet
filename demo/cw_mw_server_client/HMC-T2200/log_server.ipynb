{
 "cells": [
  {
   "cell_type": "code",
   "execution_count": 1,
   "metadata": {},
   "outputs": [],
   "source": [
    "from pylabnet.utils.logging.logger import LogService\n",
    "from pylabnet.network.core.generic_server import GenericServer\n",
    "import os\n",
    "import sys"
   ]
  },
  {
   "cell_type": "code",
   "execution_count": 40,
   "metadata": {},
   "outputs": [],
   "source": [
    "import re, serial\n",
    "END = \";\"\n",
    "\n",
    "def send_command(ser, msg):\n",
    "    ser.write((msg + END).encode('utf-8'))\n",
    "def read_reply(ser, length=200):\n",
    "    return ser.read(length).decode('utf-8')\n",
    "\n",
    "def send_read(ser, msg, length=200):\n",
    "    send_command(ser, msg)\n",
    "    return read_reply(ser, length)\n",
    "def send_read_verify(ser, msg, length=200):\n",
    "    reply = send_read(ser, msg, length)\n",
    "    if reply != msg + \"!\":\n",
    "        print(\"this was the reply v\")\n",
    "        print(reply)\n",
    "        print(\"this was the reply A\")\n",
    "        raise ValueError(\"Unexpected reply from Lockbox.\")\n",
    "\n",
    "    return reply\n",
    "\n",
    "def set_P(ser, p):\n",
    "    msg = f\"PS {p}\"\n",
    "    return send_read_verify(ser, msg)\n",
    "def set_I(ser, i):\n",
    "    msg = f\"IS {i}\"\n",
    "    return send_read_verify(ser, msg)\n",
    "def set_D(ser, d):\n",
    "    msg = f\"DS {d}\"\n",
    "    return send_read_verify(ser, msg)\n",
    "def set_time(ser, t): # integration time, us\n",
    "    msg = f\"TS {t}\"\n",
    "    return send_read_verify(ser, msg)\n",
    "def set_offset(ser, offset):\n",
    "    msg = f\"OS {offset}\"\n",
    "    return send_read_verify(ser, msg)\n",
    "def get_status(ser):\n",
    "    msg = \"d\"\n",
    "    return send_read(ser, msg)\n",
    "\n",
    "def search_field(string, field):\n",
    "    if field not in [\"dCount1\", \"Count2\", \"Timebase\", \"PVal\", \"IVal\", \"DVal\", \"ErrorVal\", \"Integrator\", \"Offset\", \"PIDOut\"]:\n",
    "        raise ValueError(\"Invalid Lockbox field.\")\n",
    "    return float(re.search(f\"{field} = ([0-9\\.]*)\", string).group(1))\n",
    "\n",
    "def reset(ser):\n",
    "    s = get_status(ser)\n",
    "    curr_IVal = search_field(s, \"IVal\")\n",
    "    set_I(ser, curr_IVal)"
   ]
  },
  {
   "cell_type": "code",
   "execution_count": 41,
   "metadata": {},
   "outputs": [
    {
     "name": "stdout",
     "output_type": "stream",
     "text": [
      "this was the reply v\n",
      "\n",
      "this was the reply A\n"
     ]
    },
    {
     "ename": "ValueError",
     "evalue": "Unexpected reply from Lockbox.",
     "output_type": "error",
     "traceback": [
      "\u001b[1;31m---------------------------------------------------------------------------\u001b[0m",
      "\u001b[1;31mValueError\u001b[0m                                Traceback (most recent call last)",
      "\u001b[1;32m~\\AppData\\Local\\Temp\\ipykernel_30412\\4062702326.py\u001b[0m in \u001b[0;36m<module>\u001b[1;34m\u001b[0m\n\u001b[0;32m      1\u001b[0m \u001b[1;32mwith\u001b[0m \u001b[0mserial\u001b[0m\u001b[1;33m.\u001b[0m\u001b[0mSerial\u001b[0m\u001b[1;33m(\u001b[0m\u001b[0mport\u001b[0m\u001b[1;33m=\u001b[0m\u001b[1;34m'COM4'\u001b[0m\u001b[1;33m,\u001b[0m \u001b[0mbaudrate\u001b[0m\u001b[1;33m=\u001b[0m\u001b[1;36m9600\u001b[0m\u001b[1;33m,\u001b[0m \u001b[0mtimeout\u001b[0m\u001b[1;33m=\u001b[0m\u001b[1;36m0.25\u001b[0m\u001b[1;33m)\u001b[0m \u001b[1;32mas\u001b[0m \u001b[0mser\u001b[0m\u001b[1;33m:\u001b[0m\u001b[1;33m\u001b[0m\u001b[1;33m\u001b[0m\u001b[0m\n\u001b[1;32m----> 2\u001b[1;33m     \u001b[0mset_P\u001b[0m\u001b[1;33m(\u001b[0m\u001b[0mser\u001b[0m\u001b[1;33m,\u001b[0m \u001b[1;36m0\u001b[0m\u001b[1;33m)\u001b[0m\u001b[1;33m\u001b[0m\u001b[1;33m\u001b[0m\u001b[0m\n\u001b[0m\u001b[0;32m      3\u001b[0m     \u001b[1;31m# set_I(ser, 0.7)\u001b[0m\u001b[1;33m\u001b[0m\u001b[1;33m\u001b[0m\u001b[1;33m\u001b[0m\u001b[0m\n\u001b[0;32m      4\u001b[0m     \u001b[1;31m# set_D(ser, 0)\u001b[0m\u001b[1;33m\u001b[0m\u001b[1;33m\u001b[0m\u001b[1;33m\u001b[0m\u001b[0m\n\u001b[0;32m      5\u001b[0m     \u001b[1;31m# set_time(ser, 1000)\u001b[0m\u001b[1;33m\u001b[0m\u001b[1;33m\u001b[0m\u001b[1;33m\u001b[0m\u001b[0m\n",
      "\u001b[1;32m~\\AppData\\Local\\Temp\\ipykernel_30412\\2894304180.py\u001b[0m in \u001b[0;36mset_P\u001b[1;34m(ser, p)\u001b[0m\n\u001b[0;32m     22\u001b[0m \u001b[1;32mdef\u001b[0m \u001b[0mset_P\u001b[0m\u001b[1;33m(\u001b[0m\u001b[0mser\u001b[0m\u001b[1;33m,\u001b[0m \u001b[0mp\u001b[0m\u001b[1;33m)\u001b[0m\u001b[1;33m:\u001b[0m\u001b[1;33m\u001b[0m\u001b[1;33m\u001b[0m\u001b[0m\n\u001b[0;32m     23\u001b[0m     \u001b[0mmsg\u001b[0m \u001b[1;33m=\u001b[0m \u001b[1;34mf\"PS {p}\"\u001b[0m\u001b[1;33m\u001b[0m\u001b[1;33m\u001b[0m\u001b[0m\n\u001b[1;32m---> 24\u001b[1;33m     \u001b[1;32mreturn\u001b[0m \u001b[0msend_read_verify\u001b[0m\u001b[1;33m(\u001b[0m\u001b[0mser\u001b[0m\u001b[1;33m,\u001b[0m \u001b[0mmsg\u001b[0m\u001b[1;33m)\u001b[0m\u001b[1;33m\u001b[0m\u001b[1;33m\u001b[0m\u001b[0m\n\u001b[0m\u001b[0;32m     25\u001b[0m \u001b[1;32mdef\u001b[0m \u001b[0mset_I\u001b[0m\u001b[1;33m(\u001b[0m\u001b[0mser\u001b[0m\u001b[1;33m,\u001b[0m \u001b[0mi\u001b[0m\u001b[1;33m)\u001b[0m\u001b[1;33m:\u001b[0m\u001b[1;33m\u001b[0m\u001b[1;33m\u001b[0m\u001b[0m\n\u001b[0;32m     26\u001b[0m     \u001b[0mmsg\u001b[0m \u001b[1;33m=\u001b[0m \u001b[1;34mf\"IS {i}\"\u001b[0m\u001b[1;33m\u001b[0m\u001b[1;33m\u001b[0m\u001b[0m\n",
      "\u001b[1;32m~\\AppData\\Local\\Temp\\ipykernel_30412\\2894304180.py\u001b[0m in \u001b[0;36msend_read_verify\u001b[1;34m(ser, msg, length)\u001b[0m\n\u001b[0;32m     16\u001b[0m         \u001b[0mprint\u001b[0m\u001b[1;33m(\u001b[0m\u001b[0mreply\u001b[0m\u001b[1;33m)\u001b[0m\u001b[1;33m\u001b[0m\u001b[1;33m\u001b[0m\u001b[0m\n\u001b[0;32m     17\u001b[0m         \u001b[0mprint\u001b[0m\u001b[1;33m(\u001b[0m\u001b[1;34m\"this was the reply A\"\u001b[0m\u001b[1;33m)\u001b[0m\u001b[1;33m\u001b[0m\u001b[1;33m\u001b[0m\u001b[0m\n\u001b[1;32m---> 18\u001b[1;33m         \u001b[1;32mraise\u001b[0m \u001b[0mValueError\u001b[0m\u001b[1;33m(\u001b[0m\u001b[1;34m\"Unexpected reply from Lockbox.\"\u001b[0m\u001b[1;33m)\u001b[0m\u001b[1;33m\u001b[0m\u001b[1;33m\u001b[0m\u001b[0m\n\u001b[0m\u001b[0;32m     19\u001b[0m \u001b[1;33m\u001b[0m\u001b[0m\n\u001b[0;32m     20\u001b[0m     \u001b[1;32mreturn\u001b[0m \u001b[0mreply\u001b[0m\u001b[1;33m\u001b[0m\u001b[1;33m\u001b[0m\u001b[0m\n",
      "\u001b[1;31mValueError\u001b[0m: Unexpected reply from Lockbox."
     ]
    }
   ],
   "source": [
    "with serial.Serial(port='COM4', baudrate=9600, timeout=0.25) as ser:\n",
    "    set_P(ser, 0)\n",
    "    # set_I(ser, 0.7)\n",
    "    # set_D(ser, 0)\n",
    "    # set_time(ser, 1000)\n",
    "    # set_offset(ser, 32000)\n",
    "    \n",
    "    s = get_status(ser)\n",
    "    print(s)"
   ]
  },
  {
   "cell_type": "code",
   "execution_count": 15,
   "metadata": {},
   "outputs": [
    {
     "name": "stdout",
     "output_type": "stream",
     "text": [
      "\n"
     ]
    }
   ],
   "source": [
    "with serial.Serial(port='COM4', baudrate=9600, timeout=0.25) as ser:\n",
    "    \n",
    "    s = get_status(ser)\n",
    "    print(s)"
   ]
  },
  {
   "cell_type": "code",
   "execution_count": 14,
   "metadata": {},
   "outputs": [
    {
     "data": {
      "text/plain": [
       "''"
      ]
     },
     "execution_count": 14,
     "metadata": {},
     "output_type": "execute_result"
    }
   ],
   "source": [
    "s"
   ]
  },
  {
   "cell_type": "code",
   "execution_count": null,
   "metadata": {},
   "outputs": [],
   "source": []
  },
  {
   "cell_type": "markdown",
   "metadata": {},
   "source": [
    "# Start Logging Server"
   ]
  },
  {
   "cell_type": "code",
   "execution_count": 2,
   "metadata": {},
   "outputs": [],
   "source": [
    "log_service_name = 'Logger'\n",
    "log_folder = 'logs'\n",
    "\n",
    "dir_path = os.path.join(os.path.abspath(''), log_folder)\n",
    "\n",
    "log_service = LogService(\n",
    "    log_output=False,\n",
    "    name=log_service_name,\n",
    "    dir_path=dir_path,\n",
    ")"
   ]
  },
  {
   "cell_type": "code",
   "execution_count": 3,
   "metadata": {},
   "outputs": [],
   "source": [
    "log_server = GenericServer(\n",
    "    service=log_service, \n",
    "    host='localhost', \n",
    "    port=12351\n",
    ")"
   ]
  },
  {
   "cell_type": "code",
   "execution_count": 4,
   "metadata": {},
   "outputs": [],
   "source": [
    "log_server.start()"
   ]
  },
  {
   "cell_type": "code",
   "execution_count": 5,
   "metadata": {},
   "outputs": [
    {
     "data": {
      "text/plain": [
       "True"
      ]
     },
     "execution_count": 5,
     "metadata": {},
     "output_type": "execute_result"
    },
    {
     "name": "stdout",
     "output_type": "stream",
     "text": [
      "2020-07-14 13:31:26,568 - INFO - Client connected\n",
      "2020-07-14 13:31:26,582 - INFO -  laser_scan_closed_loop: Started logging\n",
      "2020-07-14 13:31:45,344 - INFO - Client connected\n",
      "2020-07-14 13:31:45,357 - INFO -  1D_update_server: Started logging\n",
      "2020-07-14 13:31:45,365 - INFO - Updated client data for 1D_update_server\n",
      "2020-07-14 13:40:29,083 - INFO - Client connected\n",
      "2020-07-14 13:40:29,092 - INFO -  laser_scan_closed_loop_multichannel: Started logging\n",
      "2020-07-14 13:41:48,284 - INFO - Client connected\n",
      "2020-07-14 13:41:48,298 - INFO -  laser_scan_closed_loop_multichannel: Started logging\n",
      "2020-07-14 13:41:48,301 - INFO - Client connected\n",
      "2020-07-14 13:41:48,309 - INFO -  MultiCh1D_pause_server: Started logging\n",
      "2020-07-14 13:41:58,940 - INFO - Client connected\n",
      "2020-07-14 13:41:58,949 - INFO -  laser_scan_closed_loop_multichannel: Started logging\n",
      "2020-07-14 13:41:58,952 - INFO - Client connected\n",
      "2020-07-14 13:41:58,961 - INFO -  MultiCh1D_pause_server: Started logging\n",
      "2020-07-14 13:42:02,875 - DEBUG - Client disconnected\n",
      "2020-07-14 13:42:02,881 - DEBUG - Client disconnected\n",
      "2020-07-14 13:42:02,916 - DEBUG - Client disconnected\n",
      "2020-07-14 13:48:07,062 - DEBUG - Client disconnected\n",
      "2020-07-14 13:48:07,062 - DEBUG - Client disconnected\n",
      "2020-07-14 13:48:07,063 - DEBUG - Client disconnected\n",
      "2020-07-14 13:48:07,063 - DEBUG - Client disconnected\n",
      "2020-07-14 13:48:51,387 - INFO - Client connected\n",
      "2020-07-14 13:48:51,396 - INFO -  laser_scan_closed_loop: Started logging\n",
      "2020-07-14 13:48:52,812 - INFO - Client connected\n",
      "2020-07-14 13:48:52,820 - INFO -  1D_update_server: Started logging\n",
      "2020-07-14 13:48:52,825 - INFO - Updated client data for 1D_update_server\n",
      "2020-07-14 13:49:51,879 - DEBUG - Client disconnected\n",
      "2020-07-14 13:49:51,880 - DEBUG - Client disconnected\n",
      "2020-07-14 13:50:00,182 - INFO - Client connected\n",
      "2020-07-14 13:50:00,190 - INFO -  laser_scan_closed_loop: Started logging\n",
      "2020-07-14 13:50:01,011 - INFO - Client connected\n",
      "2020-07-14 13:50:01,020 - INFO -  1D_update_server: Started logging\n",
      "2020-07-14 13:50:01,025 - INFO - Updated client data for 1D_update_server\n",
      "2020-07-14 13:50:56,824 - DEBUG - Client disconnected\n",
      "2020-07-14 13:50:56,824 - DEBUG - Client disconnected\n",
      "2020-07-14 13:51:00,442 - INFO - Client connected\n",
      "2020-07-14 13:51:00,450 - INFO -  laser_scan_closed_loop: Started logging\n",
      "2020-07-14 13:51:01,240 - INFO - Client connected\n",
      "2020-07-14 13:51:01,248 - INFO -  1D_update_server: Started logging\n",
      "2020-07-14 13:51:01,252 - INFO - Updated client data for 1D_update_server\n",
      "2020-07-14 13:52:04,671 - DEBUG - Client disconnected\n",
      "2020-07-14 13:52:04,672 - DEBUG - Client disconnected\n",
      "2020-07-14 13:52:07,647 - INFO - Client connected\n",
      "2020-07-14 13:52:07,654 - INFO -  laser_scan_closed_loop: Started logging\n",
      "2020-07-14 13:52:08,199 - INFO - Client connected\n",
      "2020-07-14 13:52:08,207 - INFO -  1D_update_server: Started logging\n",
      "2020-07-14 13:52:08,212 - INFO - Updated client data for 1D_update_server\n",
      "2020-07-14 13:52:10,305 - ERROR -  laser_scan_closed_loop: Sweep type must be either \"sawtooth\" or \"triangle\".\n",
      "2020-07-14 13:52:22,692 - ERROR -  laser_scan_closed_loop: Sweep type must be either \"sawtooth\" or \"triangle\".\n",
      "2020-07-14 14:06:36,707 - DEBUG - Client disconnected\n",
      "2020-07-14 14:06:36,708 - DEBUG - Client disconnected\n",
      "2020-07-14 14:07:25,682 - INFO - Client connected\n",
      "2020-07-14 14:07:25,691 - INFO -  laser_scan_closed_loop: Started logging\n",
      "2020-07-14 14:07:26,093 - INFO - Client connected\n",
      "2020-07-14 14:07:26,102 - INFO -  1D_update_server: Started logging\n",
      "2020-07-14 14:07:26,106 - INFO - Updated client data for 1D_update_server\n"
     ]
    }
   ],
   "source": [
    "log_server._server.active"
   ]
  },
  {
   "cell_type": "markdown",
   "metadata": {},
   "source": [
    "# Monitor Clients and Logging Output"
   ]
  },
  {
   "cell_type": "code",
   "execution_count": 6,
   "metadata": {},
   "outputs": [
    {
     "data": {
      "text/plain": [
       "set()"
      ]
     },
     "execution_count": 6,
     "metadata": {},
     "output_type": "execute_result"
    }
   ],
   "source": [
    "log_server._server.clients"
   ]
  },
  {
   "cell_type": "code",
   "execution_count": 7,
   "metadata": {
    "scrolled": true
   },
   "outputs": [
    {
     "name": "stdout",
     "output_type": "stream",
     "text": [
      "Log messages will be displayed below\n",
      "2020-05-20 20:43:08,274 - INFO - Client connected\n",
      "2020-05-20 20:43:08,284 - INFO -  Spectrum Analyser: Started logging\n",
      "2020-05-20 20:43:18,237 - INFO -  Spectrum Analyser: Successfully connected to Hewlett-Packard, E4405B, MY44220484, A.14.01\n",
      ".\n",
      "2020-05-20 20:43:18,240 - INFO -  Spectrum Analyser: Reset to factory settings successfull.\n",
      "2020-05-20 20:44:01,298 - INFO -  Spectrum Analyser: Client connected\n",
      "2020-05-20 20:44:03,209 - INFO -  Spectrum Analyser: Display off.\n",
      "2020-05-20 20:44:04,224 - INFO -  Spectrum Analyser: Display on.\n",
      "2020-05-20 20:44:06,424 - WARNING -  Spectrum Analyser: No background acquired. Run acquire_background_spectrum() to acquire background.\n",
      "2020-05-20 20:44:25,855 - WARNING -  Spectrum Analyser: No background acquired. Run acquire_background_spectrum() to acquire background.\n",
      "2020-05-20 20:45:10,905 - INFO -  Spectrum Analyser: Client disconnected\n",
      "2020-05-20 20:45:16,074 - INFO -  Spectrum Analyser: Client connected\n",
      "2020-05-20 20:45:17,584 - INFO -  Spectrum Analyser: Display off.\n",
      "2020-05-20 20:45:18,005 - INFO -  Spectrum Analyser: Display on.\n",
      "2020-05-20 20:45:21,014 - WARNING -  Spectrum Analyser: No background acquired. Run acquire_background_spectrum() to acquire background.\n",
      "2020-05-20 20:45:23,990 - INFO -  Spectrum Analyser: Center frequency set to 12000000000.0 Hz\n",
      "2020-05-20 20:45:23,996 - INFO -  Spectrum Analyser: Frequency span set 1000000000.0 Hz\n",
      "2020-05-20 20:47:08,636 - INFO -  Spectrum Analyser: Client disconnected\n",
      "2020-05-20 20:47:13,619 - INFO -  Spectrum Analyser: Client connected\n",
      "2020-05-20 20:47:14,869 - INFO -  Spectrum Analyser: Display off.\n",
      "2020-05-20 20:47:15,311 - INFO -  Spectrum Analyser: Display on.\n",
      "2020-05-20 20:47:18,788 - WARNING -  Spectrum Analyser: No background acquired. Run acquire_background_spectrum() to acquire background.\n",
      "2020-05-20 20:47:21,215 - INFO -  Spectrum Analyser: Center frequency set to 12000000000.0 Hz\n",
      "2020-05-20 20:47:21,222 - INFO -  Spectrum Analyser: Frequency span set 1000000000.0 Hz\n",
      "2020-05-20 20:47:28,075 - INFO -  Spectrum Analyser: Display off.\n",
      "2020-05-20 20:48:01,807 - INFO -  Spectrum Analyser: Display on.\n"
     ]
    }
   ],
   "source": [
    "print (\"Log messages will be displayed below\")"
   ]
  }
 ],
 "metadata": {
  "kernelspec": {
   "display_name": "Python 3",
   "language": "python",
   "name": "python3"
  },
  "language_info": {
   "codemirror_mode": {
    "name": "ipython",
    "version": 3
   },
   "file_extension": ".py",
   "mimetype": "text/x-python",
   "name": "python",
   "nbconvert_exporter": "python",
   "pygments_lexer": "ipython3",
   "version": "3.7.4"
  }
 },
 "nbformat": 4,
 "nbformat_minor": 2
}
