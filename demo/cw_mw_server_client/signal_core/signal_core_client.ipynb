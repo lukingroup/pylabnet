{
 "cells": [
  {
   "cell_type": "code",
   "execution_count": 13,
   "id": "ecb0ee06",
   "metadata": {},
   "outputs": [],
   "source": [
    "from pylabnet.utils.logging.logger import LogClient\n",
    "from pylabnet.network.client_server.sc5521A import Client"
   ]
  },
  {
   "cell_type": "markdown",
   "id": "897e284d",
   "metadata": {},
   "source": [
    "Connect to logger\n"
   ]
  },
  {
   "cell_type": "code",
   "execution_count": 14,
   "id": "68b406cd",
   "metadata": {},
   "outputs": [],
   "source": [
    "# Connect to MW source client\n",
    "mw_client = Client(\n",
    "    host='192.168.50.86',\n",
    "    port=33107\n",
    ")"
   ]
  },
  {
   "cell_type": "markdown",
   "id": "3c1fcda2",
   "metadata": {},
   "source": [
    "# test functionality"
   ]
  },
  {
   "cell_type": "code",
   "execution_count": 15,
   "id": "0be4ee77",
   "metadata": {},
   "outputs": [
    {
     "data": {
      "text/plain": [
       "9000000000.0"
      ]
     },
     "execution_count": 15,
     "metadata": {},
     "output_type": "execute_result"
    }
   ],
   "source": [
    "mw_client.get_frequency()"
   ]
  },
  {
   "cell_type": "code",
   "execution_count": 6,
   "id": "68f2e258",
   "metadata": {},
   "outputs": [],
   "source": [
    "mw_client.output_on()"
   ]
  },
  {
   "cell_type": "code",
   "execution_count": 12,
   "id": "7570cdb8",
   "metadata": {},
   "outputs": [],
   "source": [
    "mw_client.set_frequency(12.8e9)"
   ]
  },
  {
   "cell_type": "code",
   "execution_count": null,
   "id": "f114fcb8",
   "metadata": {},
   "outputs": [],
   "source": [
    "mw_client.get_tem()"
   ]
  }
 ],
 "metadata": {
  "kernelspec": {
   "display_name": "env",
   "language": "python",
   "name": "python3"
  },
  "language_info": {
   "codemirror_mode": {
    "name": "ipython",
    "version": 3
   },
   "file_extension": ".py",
   "mimetype": "text/x-python",
   "name": "python",
   "nbconvert_exporter": "python",
   "pygments_lexer": "ipython3",
   "version": "3.8.10"
  }
 },
 "nbformat": 4,
 "nbformat_minor": 5
}
