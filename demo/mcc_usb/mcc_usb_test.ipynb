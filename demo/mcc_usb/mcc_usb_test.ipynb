{
 "cells": [
  {
   "cell_type": "code",
   "execution_count": 1,
   "metadata": {},
   "outputs": [],
   "source": [
    "import time\n",
    "import numpy as np"
   ]
  },
  {
   "cell_type": "code",
   "execution_count": 2,
   "metadata": {},
   "outputs": [],
   "source": [
    "from mcculw import ul\n",
    "from mcculw.enums import ULRange\n",
    "from mcculw.enums import ScanOptions\n",
    "from mcculw.ul import ULError"
   ]
  },
  {
   "cell_type": "code",
   "execution_count": 63,
   "metadata": {},
   "outputs": [],
   "source": [
    "from mcculw.enums import InterfaceType\n",
    "from mcculw.enums import DigitalPortType"
   ]
  },
  {
   "cell_type": "code",
   "execution_count": 64,
   "metadata": {},
   "outputs": [
    {
     "name": "stdout",
     "output_type": "stream",
     "text": [
      "Found 2 DAQ device(s):\n",
      "  USB-1608GX (20D2F87) - Device ID = 309\n",
      "  USB-3114 (216B18D) - Device ID = 164\n"
     ]
    }
   ],
   "source": [
    "ul.ignore_instacal()\n",
    "devices = ul.get_daq_device_inventory(InterfaceType.ANY)\n",
    "if not devices:\n",
    "    raise Exception('Error: No DAQ devices found')\n",
    "\n",
    "print('Found', len(devices), 'DAQ device(s):')\n",
    "for device in devices:\n",
    "    print('  ', device.product_name, ' (', device.unique_id, ') - ',\n",
    "            'Device ID = ', device.product_id, sep='')"
   ]
  },
  {
   "cell_type": "code",
   "execution_count": 68,
   "metadata": {},
   "outputs": [
    {
     "name": "stdout",
     "output_type": "stream",
     "text": [
      "USB-1608GX\n"
     ]
    }
   ],
   "source": [
    "ul.ignore_instacal()\n",
    "print(devices[0])\n",
    "ul.create_daq_device(6, devices[0])"
   ]
  },
  {
   "cell_type": "code",
   "execution_count": 69,
   "metadata": {},
   "outputs": [],
   "source": [
    "ul.flash_led(6)"
   ]
  },
  {
   "cell_type": "code",
   "execution_count": 72,
   "metadata": {},
   "outputs": [],
   "source": [
    "bn = ul.get_board_number(devices[0])"
   ]
  },
  {
   "cell_type": "code",
   "execution_count": 73,
   "metadata": {},
   "outputs": [],
   "source": [
    "ul.set_trigger(bn, 12, 0,0)"
   ]
  },
  {
   "cell_type": "code",
   "execution_count": 74,
   "metadata": {},
   "outputs": [
    {
     "data": {
      "text/plain": [
       "PulseOutStartResult(actual_frequency=1.0, actual_duty_cycle=0.5, actual_initial_delay=0.0)"
      ]
     },
     "execution_count": 74,
     "metadata": {},
     "output_type": "execute_result"
    }
   ],
   "source": [
    "ul.pulse_out_start(bn, 0, 1, 0.5)"
   ]
  },
  {
   "cell_type": "code",
   "execution_count": null,
   "metadata": {},
   "outputs": [],
   "source": [
    "ul.pulse_out_stop(bn, 0)"
   ]
  },
  {
   "cell_type": "code",
   "execution_count": 42,
   "metadata": {},
   "outputs": [
    {
     "ename": "ULError",
     "evalue": "Error 41: This function can not be used with this board.",
     "output_type": "error",
     "traceback": [
      "\u001b[1;31m---------------------------------------------------------------------------\u001b[0m",
      "\u001b[1;31mULError\u001b[0m                                   Traceback (most recent call last)",
      "\u001b[1;32mc:\\Users\\Smeagol\\pylabnet\\demo\\mcc_usb\\mcc_usb_test.ipynb Cell 8\u001b[0m line \u001b[0;36m1\n\u001b[1;32m----> <a href='vscode-notebook-cell:/c%3A/Users/Smeagol/pylabnet/demo/mcc_usb/mcc_usb_test.ipynb#X10sZmlsZQ%3D%3D?line=0'>1</a>\u001b[0m ul\u001b[39m.\u001b[39;49ma_out(\u001b[39m8\u001b[39;49m, \u001b[39m0\u001b[39;49m, ULRange(\u001b[39m5\u001b[39;49m), \u001b[39m0\u001b[39;49m)\n",
      "File \u001b[1;32mc:\\Users\\Smeagol\\pylabnet\\env\\lib\\site-packages\\mcculw\\ul.py:478\u001b[0m, in \u001b[0;36ma_out\u001b[1;34m(board_num, channel, ul_range, data_value)\u001b[0m\n\u001b[0;32m    458\u001b[0m \u001b[39mdef\u001b[39;00m \u001b[39ma_out\u001b[39m(board_num, channel, ul_range, data_value):\n\u001b[0;32m    459\u001b[0m     \u001b[39m\"\"\"Sets the value of a D/A channel.\u001b[39;00m\n\u001b[0;32m    460\u001b[0m \n\u001b[0;32m    461\u001b[0m \u001b[39m    Parameters\u001b[39;00m\n\u001b[1;32m   (...)\u001b[0m\n\u001b[0;32m    476\u001b[0m \u001b[39m        the discussion on 16-bit values using a signed integer data type for more information.\u001b[39;00m\n\u001b[0;32m    477\u001b[0m \u001b[39m    \"\"\"\u001b[39;00m\n\u001b[1;32m--> 478\u001b[0m     _check_err(_cbw\u001b[39m.\u001b[39;49mcbAOut(board_num, channel, ul_range, data_value))\n",
      "File \u001b[1;32mc:\\Users\\Smeagol\\pylabnet\\env\\lib\\site-packages\\mcculw\\ul.py:6128\u001b[0m, in \u001b[0;36m_check_err\u001b[1;34m(errcode)\u001b[0m\n\u001b[0;32m   6126\u001b[0m \u001b[39mdef\u001b[39;00m \u001b[39m_check_err\u001b[39m(errcode):\n\u001b[0;32m   6127\u001b[0m     \u001b[39mif\u001b[39;00m errcode:\n\u001b[1;32m-> 6128\u001b[0m         \u001b[39mraise\u001b[39;00m ULError(errcode)\n",
      "\u001b[1;31mULError\u001b[0m: Error 41: This function can not be used with this board."
     ]
    }
   ],
   "source": [
    "ul.a_out(bn, 0, ULRange(5), 0)\n"
   ]
  },
  {
   "cell_type": "code",
   "execution_count": 75,
   "metadata": {},
   "outputs": [],
   "source": [
    "from mcculw.enums import DigitalIODirection\n",
    "ul.d_config_port(bn, DigitalPortType.AUXPORT, DigitalIODirection.OUT)"
   ]
  },
  {
   "cell_type": "code",
   "execution_count": 76,
   "metadata": {},
   "outputs": [],
   "source": [
    "ul.d_bit_out(bn, DigitalPortType.AUXPORT, 0, 0)"
   ]
  },
  {
   "cell_type": "code",
   "execution_count": 78,
   "metadata": {},
   "outputs": [
    {
     "data": {
      "text/plain": [
       "65535"
      ]
     },
     "execution_count": 78,
     "metadata": {},
     "output_type": "execute_result"
    }
   ],
   "source": [
    "ul.a_in(bn,0, ULRange.BIP2VOLTS)"
   ]
  },
  {
   "cell_type": "code",
   "execution_count": 79,
   "metadata": {},
   "outputs": [
    {
     "ename": "ULError",
     "evalue": "Error 17: Invalid count.",
     "output_type": "error",
     "traceback": [
      "\u001b[1;31m---------------------------------------------------------------------------\u001b[0m",
      "\u001b[1;31mULError\u001b[0m                                   Traceback (most recent call last)",
      "\u001b[1;32mc:\\Users\\Smeagol\\pylabnet\\demo\\mcc_usb\\mcc_usb_test.ipynb Cell 14\u001b[0m line \u001b[0;36m1\n\u001b[1;32m----> <a href='vscode-notebook-cell:/c%3A/Users/Smeagol/pylabnet/demo/mcc_usb/mcc_usb_test.ipynb#X21sZmlsZQ%3D%3D?line=0'>1</a>\u001b[0m ul\u001b[39m.\u001b[39;49ma_in_scan(bn, \u001b[39m0\u001b[39;49m, \u001b[39m2\u001b[39;49m, \u001b[39m1000\u001b[39;49m, \u001b[39m500\u001b[39;49m, ULRange\u001b[39m.\u001b[39;49mBIP5VOLTS, ul\u001b[39m.\u001b[39;49mwin_buf_alloc(\u001b[39m1000\u001b[39;49m), ScanOptions\u001b[39m.\u001b[39;49mSINGLEIO)\n",
      "File \u001b[1;32mc:\\Users\\Smeagol\\pylabnet\\env\\lib\\site-packages\\mcculw\\ul.py:399\u001b[0m, in \u001b[0;36ma_in_scan\u001b[1;34m(board_num, low_chan, high_chan, num_points, rate, ul_range, memhandle, options)\u001b[0m\n\u001b[0;32m    131\u001b[0m \u001b[39m\"\"\"Scans a range of A/D channels and stores the samples in an array. :func:`.a_in_scan` reads\u001b[39;00m\n\u001b[0;32m    132\u001b[0m \u001b[39mthe specified number of A/D samples at the specified sampling rate from the specified range of\u001b[39;00m\n\u001b[0;32m    133\u001b[0m \u001b[39mA/D channels from the specified board. If the A/D board has programmable gain, then it sets\u001b[39;00m\n\u001b[1;32m   (...)\u001b[0m\n\u001b[0;32m    396\u001b[0m \u001b[39mread this manual and examine the example programs.\u001b[39;00m\n\u001b[0;32m    397\u001b[0m \u001b[39m\"\"\"\u001b[39;00m\n\u001b[0;32m    398\u001b[0m rate_internal \u001b[39m=\u001b[39m c_long(rate)\n\u001b[1;32m--> 399\u001b[0m _check_err(_cbw\u001b[39m.\u001b[39;49mcbAInScan(\n\u001b[0;32m    400\u001b[0m     board_num, low_chan, high_chan, num_points, byref(rate_internal),\n\u001b[0;32m    401\u001b[0m     ul_range, memhandle, options))\n\u001b[0;32m    402\u001b[0m \u001b[39mreturn\u001b[39;00m rate_internal\u001b[39m.\u001b[39mvalue\n",
      "File \u001b[1;32mc:\\Users\\Smeagol\\pylabnet\\env\\lib\\site-packages\\mcculw\\ul.py:6128\u001b[0m, in \u001b[0;36m_check_err\u001b[1;34m(errcode)\u001b[0m\n\u001b[0;32m   6126\u001b[0m \u001b[39mdef\u001b[39;00m \u001b[39m_check_err\u001b[39m(errcode):\n\u001b[0;32m   6127\u001b[0m     \u001b[39mif\u001b[39;00m errcode:\n\u001b[1;32m-> 6128\u001b[0m         \u001b[39mraise\u001b[39;00m ULError(errcode)\n",
      "\u001b[1;31mULError\u001b[0m: Error 17: Invalid count."
     ]
    }
   ],
   "source": [
    "ul.a_in_scan(bn, 0, 2, 1000, 500, ULRange.BIP5VOLTS, ul.win_buf_alloc(1000), ScanOptions.SINGLEIO)"
   ]
  },
  {
   "cell_type": "code",
   "execution_count": 44,
   "metadata": {},
   "outputs": [
    {
     "data": {
      "text/plain": [
       "65535"
      ]
     },
     "execution_count": 44,
     "metadata": {},
     "output_type": "execute_result"
    }
   ],
   "source": [
    "MAX_VOLTAGE = 10.0\n",
    "int(np.round(np.min([1, MAX_VOLTAGE/ 10.0]) * (2 ** 16 - 1)))"
   ]
  },
  {
   "cell_type": "markdown",
   "metadata": {},
   "source": [
    "# Test With Pylabnet"
   ]
  },
  {
   "cell_type": "code",
   "execution_count": 3,
   "metadata": {},
   "outputs": [],
   "source": [
    "import time\n",
    "import datetime\n",
    "# from pylabnet.network.client_server.mcc_usb_1608GX import Client\n",
    "from pylabnet.network.client_server.mcc_usb_3114 import Client\n",
    "c = Client(host='192.168.50.114', port=40592)"
   ]
  },
  {
   "cell_type": "code",
   "execution_count": 5,
   "metadata": {},
   "outputs": [],
   "source": [
    "c.set_ao_voltage(10, 0)"
   ]
  },
  {
   "cell_type": "code",
   "execution_count": 104,
   "metadata": {},
   "outputs": [
    {
     "ename": "KeyboardInterrupt",
     "evalue": "",
     "output_type": "error",
     "traceback": [
      "\u001b[1;31m---------------------------------------------------------------------------\u001b[0m",
      "\u001b[1;31mKeyboardInterrupt\u001b[0m                         Traceback (most recent call last)",
      "Cell \u001b[1;32mIn[104], line 8\u001b[0m\n\u001b[0;32m      6\u001b[0m \u001b[38;5;28;01mwith\u001b[39;00m \u001b[38;5;28mopen\u001b[39m(\u001b[38;5;124m\"\u001b[39m\u001b[38;5;124mcooldown_PD.txt\u001b[39m\u001b[38;5;124m\"\u001b[39m, \u001b[38;5;124m\"\u001b[39m\u001b[38;5;124ma\u001b[39m\u001b[38;5;124m\"\u001b[39m) \u001b[38;5;28;01mas\u001b[39;00m f:\n\u001b[0;32m      7\u001b[0m     f\u001b[38;5;241m.\u001b[39mwrite(\u001b[38;5;124mf\u001b[39m\u001b[38;5;124m\"\u001b[39m\u001b[38;5;132;01m{\u001b[39;00m\u001b[38;5;28mstr\u001b[39m(datetime\u001b[38;5;241m.\u001b[39mdatetime\u001b[38;5;241m.\u001b[39mnow())\u001b[38;5;132;01m}\u001b[39;00m\u001b[38;5;124m, \u001b[39m\u001b[38;5;132;01m{\u001b[39;00mv0\u001b[38;5;132;01m}\u001b[39;00m\u001b[38;5;124m, \u001b[39m\u001b[38;5;132;01m{\u001b[39;00mv1\u001b[38;5;132;01m}\u001b[39;00m\u001b[38;5;130;01m\\n\u001b[39;00m\u001b[38;5;124m\"\u001b[39m)\n\u001b[1;32m----> 8\u001b[0m     \u001b[43mtime\u001b[49m\u001b[38;5;241;43m.\u001b[39;49m\u001b[43msleep\u001b[49m\u001b[43m(\u001b[49m\u001b[38;5;241;43m60\u001b[39;49m\u001b[43m)\u001b[49m\n",
      "\u001b[1;31mKeyboardInterrupt\u001b[0m: "
     ]
    }
   ],
   "source": [
    "while True:\n",
    "    v0 = c.get_ai_voltage(0)\n",
    "    time.sleep(0.1)\n",
    "    v1 = c.get_ai_voltage(1)\n",
    "\n",
    "    with open(\"cooldown_PD.txt\", \"a\") as f:\n",
    "        f.write(f\"{str(datetime.datetime.now())}, {v0}, {v1}\\n\")\n",
    "        time.sleep(60)"
   ]
  },
  {
   "cell_type": "code",
   "execution_count": null,
   "metadata": {},
   "outputs": [],
   "source": [
    "from pylabnet.hardware.mcc_usb_daq.mcc_usb_1608GX import Driver"
   ]
  },
  {
   "cell_type": "code",
   "execution_count": 13,
   "metadata": {},
   "outputs": [
    {
     "data": {
      "text/plain": [
       "0.50079345703125"
      ]
     },
     "execution_count": 13,
     "metadata": {},
     "output_type": "execute_result"
    }
   ],
   "source": [
    "dev = Driver(device_id=\"20D2F87\", board_number=\"8\")\n",
    "dev.get_ai_voltage(0)"
   ]
  }
 ],
 "metadata": {
  "kernelspec": {
   "display_name": "env",
   "language": "python",
   "name": "python3"
  },
  "language_info": {
   "codemirror_mode": {
    "name": "ipython",
    "version": 3
   },
   "file_extension": ".py",
   "mimetype": "text/x-python",
   "name": "python",
   "nbconvert_exporter": "python",
   "pygments_lexer": "ipython3",
   "version": "3.8.10"
  },
  "orig_nbformat": 4
 },
 "nbformat": 4,
 "nbformat_minor": 2
}
