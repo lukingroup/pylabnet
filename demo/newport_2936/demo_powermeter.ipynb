{
 "cells": [
  {
   "cell_type": "code",
   "execution_count": 1,
   "metadata": {},
   "outputs": [],
   "source": [
    "import pylabnet.hardware.ni_daqs.nidaqmx_card as nidaqmx\n",
    "import pylabnet.hardware.staticline.staticline as staticline\n",
    "import pylabnet.network.client_server.nidaqmx_card as nidaqmx_card_server\n",
    "import pylabnet.network.client_server.staticline as staticline_server\n",
    "\n",
    "\n",
    "\n",
    "%matplotlib inline\n",
    "\n",
    "import numpy as np\n",
    "import matplotlib.pyplot as plt\n",
    "import time"
   ]
  },
  {
   "cell_type": "code",
   "execution_count": null,
   "metadata": {},
   "outputs": [],
   "source": []
  }
 ],
 "metadata": {
  "interpreter": {
   "hash": "97550c9d93cc6e1b32da7be1ecea6a700942a4304498736e1cfadb9169881455"
  },
  "kernelspec": {
   "display_name": "Python 3.8.8 64-bit ('env': venv)",
   "name": "python3"
  },
  "language_info": {
   "codemirror_mode": {
    "name": "ipython",
    "version": 3
   },
   "file_extension": ".py",
   "mimetype": "text/x-python",
   "name": "python",
   "nbconvert_exporter": "python",
   "pygments_lexer": "ipython3",
   "version": "3.8.8"
  }
 },
 "nbformat": 4,
 "nbformat_minor": 2
}
