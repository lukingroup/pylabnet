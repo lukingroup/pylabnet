{
 "cells": [
  {
   "cell_type": "code",
   "execution_count": 1,
   "source": [
    "%matplotlib inline\r\n",
    "import numpy as np\r\n",
    "\r\n",
    "import matplotlib.pyplot as plt\r\n",
    "\r\n",
    "import pyvisa\r\n",
    "from pylabnet.utils.logging.logger import LogClient\r\n",
    "from pylabnet.network.core.generic_server import GenericServer\r\n",
    "\r\n",
    "from pyvisa import VisaIOError, ResourceManager\r\n",
    "\r\n",
    "# from pylabnet.hardware.oscilloscopes.tektronix_tds2004C import Driver\r\n",
    "# from pylabnet.network.client_server.tektronix_tds2004C import Client\r\n",
    "# from pylabnet.network.client_server.tektronix_tds2004C import Service\r\n",
    "\r\n",
    "from pylabnet.hardware.oscilloscopes.tektronix_dpo2014 import Driver\r\n",
    "from pylabnet.network.client_server.tektronix_dpo2014 import Client\r\n",
    "from pylabnet.network.client_server.tektronix_dpo2014 import Service"
   ],
   "outputs": [],
   "metadata": {}
  },
  {
   "cell_type": "code",
   "execution_count": 2,
   "source": [
    "# Instantiate\r\n",
    "logger = LogClient(\r\n",
    "    host='192.168.50.101', \r\n",
    "    port=38967, \r\n",
    "    module_tag='Tek Scope'\r\n",
    ")"
   ],
   "outputs": [],
   "metadata": {}
  },
  {
   "cell_type": "code",
   "execution_count": 3,
   "source": [
    "# List all connected VISA ressources.\r\n",
    "rm = pyvisa.ResourceManager()\r\n",
    "rm.list_resources()"
   ],
   "outputs": [
    {
     "output_type": "execute_result",
     "data": {
      "text/plain": [
       "('USB0::0x1313::0x8022::M00580034::INSTR',\n",
       " 'USB0::0x1313::0x8022::M00579698::INSTR',\n",
       " 'USB0::0x0699::0x0373::C010240::INSTR',\n",
       " 'TCPIP0::140.247.189.103::inst0::INSTR',\n",
       " 'TCPIP0::192.168.50.145::inst0::INSTR',\n",
       " 'TCPIP0::192.168.50.65::inst0::INSTR',\n",
       " 'ASRL1::INSTR',\n",
       " 'ASRL3::INSTR')"
      ]
     },
     "metadata": {},
     "execution_count": 3
    }
   ],
   "metadata": {}
  },
  {
   "cell_type": "code",
   "execution_count": 4,
   "source": [
    "# Choose ID corresponding to the scope.\r\n",
    "usb_address = 'USB0::0x0699::0x0373::C010240::INSTR'"
   ],
   "outputs": [],
   "metadata": {}
  },
  {
   "cell_type": "code",
   "execution_count": 5,
   "source": [
    "scope = Driver(\r\n",
    "    gpib_address=usb_address,\r\n",
    "    logger=logger,\r\n",
    ")"
   ],
   "outputs": [],
   "metadata": {}
  },
  {
   "cell_type": "code",
   "execution_count": 126,
   "source": [
    "# Spectrum analyzer server\r\n",
    "scope_service = Service()\r\n",
    "scope_service.assign_module(module=scope)\r\n",
    "scope_service.assign_logger(logger=None)\r\n",
    "scope_service_server = GenericServer(\r\n",
    "    service=scope_service, \r\n",
    "    host='localhost',\r\n",
    "    port=60496\r\n",
    ")"
   ],
   "outputs": [],
   "metadata": {}
  },
  {
   "cell_type": "code",
   "execution_count": 127,
   "source": [
    "# Start Server\r\n",
    "scope_service_server.start()"
   ],
   "outputs": [],
   "metadata": {}
  },
  {
   "cell_type": "code",
   "execution_count": null,
   "source": [],
   "outputs": [],
   "metadata": {}
  },
  {
   "cell_type": "code",
   "execution_count": null,
   "source": [],
   "outputs": [],
   "metadata": {}
  },
  {
   "cell_type": "code",
   "execution_count": null,
   "source": [],
   "outputs": [],
   "metadata": {}
  },
  {
   "cell_type": "code",
   "execution_count": 6,
   "source": [
    "import re\r\n",
    "scope = Driver(\r\n",
    "    gpib_address=usb_address,\r\n",
    "    logger=logger,\r\n",
    ")"
   ],
   "outputs": [],
   "metadata": {}
  },
  {
   "cell_type": "code",
   "execution_count": 14,
   "source": [
    "scope.get_channel_attenuation('CH4')"
   ],
   "outputs": [
    {
     "output_type": "execute_result",
     "data": {
      "text/plain": [
       "1.0"
      ]
     },
     "metadata": {},
     "execution_count": 14
    }
   ],
   "metadata": {}
  },
  {
   "cell_type": "code",
   "execution_count": 33,
   "source": [
    "scope.device.query('CH4:PRO:GAIN?')"
   ],
   "outputs": [
    {
     "output_type": "execute_result",
     "data": {
      "text/plain": [
       "':CH4:PRO:GAIN 500.0000E-3\\n'"
      ]
     },
     "metadata": {},
     "execution_count": 33
    }
   ],
   "metadata": {}
  },
  {
   "cell_type": "code",
   "execution_count": 34,
   "source": [
    "scope.device.write('CH4:PRO:GAIN 1')"
   ],
   "outputs": [
    {
     "output_type": "execute_result",
     "data": {
      "text/plain": [
       "16"
      ]
     },
     "metadata": {},
     "execution_count": 34
    }
   ],
   "metadata": {}
  },
  {
   "cell_type": "code",
   "execution_count": 22,
   "source": [
    "scope.reset()"
   ],
   "outputs": [],
   "metadata": {}
  },
  {
   "cell_type": "code",
   "execution_count": 7,
   "source": [
    "scope.get_timing_scale()"
   ],
   "outputs": [
    {
     "output_type": "execute_result",
     "data": {
      "text/plain": [
       "4e-06"
      ]
     },
     "metadata": {},
     "execution_count": 7
    }
   ],
   "metadata": {}
  },
  {
   "cell_type": "code",
   "execution_count": 8,
   "source": [
    "res = scope.read_out_trace(\"CH1\")\r\n",
    "print(res)"
   ],
   "outputs": [
    {
     "output_type": "stream",
     "name": "stdout",
     "text": [
      "{'trace': array([0.16, 0.16, 0.12, ..., 0.16, 0.12, 0.12]), 'ts': array([-5.0000e-05, -4.9999e-05, -4.9998e-05, ...,  4.9997e-05,\n",
      "        4.9998e-05,  4.9999e-05]), 'x_unit': 's', 'y_unit': 'V'}\n"
     ]
    }
   ],
   "metadata": {}
  },
  {
   "cell_type": "code",
   "execution_count": 9,
   "source": [
    "res['ts']"
   ],
   "outputs": [
    {
     "output_type": "execute_result",
     "data": {
      "text/plain": [
       "array([-5.0000e-05, -4.9999e-05, -4.9998e-05, ...,  4.9997e-05,\n",
       "        4.9998e-05,  4.9999e-05])"
      ]
     },
     "metadata": {},
     "execution_count": 9
    }
   ],
   "metadata": {}
  },
  {
   "cell_type": "code",
   "execution_count": 10,
   "source": [
    "res['trace']"
   ],
   "outputs": [
    {
     "output_type": "execute_result",
     "data": {
      "text/plain": [
       "array([0.16, 0.16, 0.12, ..., 0.16, 0.12, 0.12])"
      ]
     },
     "metadata": {},
     "execution_count": 10
    }
   ],
   "metadata": {}
  },
  {
   "cell_type": "code",
   "execution_count": 11,
   "source": [
    "scope.show_trace(\"CH4\")"
   ],
   "outputs": [],
   "metadata": {}
  },
  {
   "cell_type": "code",
   "execution_count": 12,
   "source": [
    "scope.hide_trace(\"CH1\")"
   ],
   "outputs": [],
   "metadata": {}
  },
  {
   "cell_type": "code",
   "execution_count": 13,
   "source": [
    "scope.get_trigger_source()"
   ],
   "outputs": [
    {
     "output_type": "execute_result",
     "data": {
      "text/plain": [
       "'CH1'"
      ]
     },
     "metadata": {},
     "execution_count": 13
    }
   ],
   "metadata": {}
  },
  {
   "cell_type": "code",
   "execution_count": 14,
   "source": [
    "scope.set_trigger_source('CH2')"
   ],
   "outputs": [],
   "metadata": {}
  },
  {
   "cell_type": "code",
   "execution_count": 15,
   "source": [
    "scope.get_horizontal_position()"
   ],
   "outputs": [
    {
     "output_type": "execute_result",
     "data": {
      "text/plain": [
       "50.0"
      ]
     },
     "metadata": {},
     "execution_count": 15
    }
   ],
   "metadata": {}
  },
  {
   "cell_type": "code",
   "execution_count": 19,
   "source": [
    "command = \":CH4:PRO\"\r\n",
    "hor_pos = scope.device.query(f\"{command}?\")\r\n",
    "print(hor_pos)"
   ],
   "outputs": [
    {
     "output_type": "stream",
     "name": "stdout",
     "text": [
      ":CH4:PRO:ID:TYP \"No Probe Detected\";SER \"\";:CH4:PRO:GAIN 100.0000E-3;UNI \"V\";RES 0.0E+0\n",
      "\n"
     ]
    }
   ],
   "metadata": {}
  },
  {
   "cell_type": "code",
   "execution_count": 21,
   "source": [
    "scope.get_channel_scale('CH1')"
   ],
   "outputs": [
    {
     "output_type": "execute_result",
     "data": {
      "text/plain": [
       "1.0"
      ]
     },
     "metadata": {},
     "execution_count": 21
    }
   ],
   "metadata": {}
  },
  {
   "cell_type": "code",
   "execution_count": 18,
   "source": [
    "scope.get_channel_attenuation(\"CH4\")"
   ],
   "outputs": [
    {
     "output_type": "error",
     "ename": "AttributeError",
     "evalue": "'NoneType' object has no attribute 'group'",
     "traceback": [
      "\u001b[1;31m---------------------------------------------------------------------------\u001b[0m",
      "\u001b[1;31mAttributeError\u001b[0m                            Traceback (most recent call last)",
      "\u001b[1;32m<ipython-input-18-8bbb48894d4e>\u001b[0m in \u001b[0;36m<module>\u001b[1;34m\u001b[0m\n\u001b[1;32m----> 1\u001b[1;33m \u001b[0mscope\u001b[0m\u001b[1;33m.\u001b[0m\u001b[0mget_channel_attenuation\u001b[0m\u001b[1;33m(\u001b[0m\u001b[1;34m\"CH4\"\u001b[0m\u001b[1;33m)\u001b[0m\u001b[1;33m\u001b[0m\u001b[1;33m\u001b[0m\u001b[0m\n\u001b[0m",
      "\u001b[1;32mc:\\users\\user\\pylabnet\\pylabnet\\hardware\\oscilloscopes\\tektronix_dpo2014.py\u001b[0m in \u001b[0;36mget_channel_attenuation\u001b[1;34m(self, channel)\u001b[0m\n\u001b[0;32m    258\u001b[0m \u001b[1;33m\u001b[0m\u001b[0m\n\u001b[0;32m    259\u001b[0m         \u001b[1;31m# Extract float.\u001b[0m\u001b[1;33m\u001b[0m\u001b[1;33m\u001b[0m\u001b[1;33m\u001b[0m\u001b[0m\n\u001b[1;32m--> 260\u001b[1;33m         \u001b[0mattenuation\u001b[0m \u001b[1;33m=\u001b[0m \u001b[0mself\u001b[0m\u001b[1;33m.\u001b[0m\u001b[0mextract_params\u001b[0m\u001b[1;33m(\u001b[0m\u001b[0mcommand\u001b[0m\u001b[1;33m,\u001b[0m \u001b[0mattenuation\u001b[0m\u001b[1;33m)\u001b[0m\u001b[1;33m\u001b[0m\u001b[1;33m\u001b[0m\u001b[0m\n\u001b[0m\u001b[0;32m    261\u001b[0m \u001b[1;33m\u001b[0m\u001b[0m\n\u001b[0;32m    262\u001b[0m         \u001b[1;32mreturn\u001b[0m \u001b[0mattenuation\u001b[0m\u001b[1;33m\u001b[0m\u001b[1;33m\u001b[0m\u001b[0m\n",
      "\u001b[1;32mc:\\users\\user\\pylabnet\\pylabnet\\hardware\\oscilloscopes\\tektronix_dpo2014.py\u001b[0m in \u001b[0;36mextract_params\u001b[1;34m(self, command, value)\u001b[0m\n\u001b[0;32m     95\u001b[0m         \"\"\"\n\u001b[0;32m     96\u001b[0m \u001b[1;33m\u001b[0m\u001b[0m\n\u001b[1;32m---> 97\u001b[1;33m         value = float(re.compile(\n\u001b[0m\u001b[0;32m     98\u001b[0m             \u001b[1;34mf'{command} ([0-9\\.\\+Ee-]+)'\u001b[0m\u001b[1;33m\u001b[0m\u001b[1;33m\u001b[0m\u001b[0m\n\u001b[0;32m     99\u001b[0m         ).match(value).group(1))\n",
      "\u001b[1;31mAttributeError\u001b[0m: 'NoneType' object has no attribute 'group'"
     ]
    }
   ],
   "metadata": {}
  },
  {
   "cell_type": "code",
   "execution_count": null,
   "source": [],
   "outputs": [],
   "metadata": {}
  },
  {
   "cell_type": "code",
   "execution_count": null,
   "source": [],
   "outputs": [],
   "metadata": {}
  },
  {
   "cell_type": "code",
   "execution_count": 20,
   "source": [
    "scope.acquire_single_run()"
   ],
   "outputs": [],
   "metadata": {}
  },
  {
   "cell_type": "code",
   "execution_count": null,
   "source": [],
   "outputs": [],
   "metadata": {}
  },
  {
   "cell_type": "code",
   "execution_count": null,
   "source": [],
   "outputs": [],
   "metadata": {}
  },
  {
   "cell_type": "code",
   "execution_count": null,
   "source": [],
   "outputs": [],
   "metadata": {}
  },
  {
   "cell_type": "code",
   "execution_count": null,
   "source": [],
   "outputs": [],
   "metadata": {}
  },
  {
   "cell_type": "code",
   "execution_count": null,
   "source": [],
   "outputs": [],
   "metadata": {}
  }
 ],
 "metadata": {
  "orig_nbformat": 4,
  "language_info": {
   "name": "python",
   "version": "3.9.0",
   "mimetype": "text/x-python",
   "codemirror_mode": {
    "name": "ipython",
    "version": 3
   },
   "pygments_lexer": "ipython3",
   "nbconvert_exporter": "python",
   "file_extension": ".py"
  },
  "kernelspec": {
   "name": "python3",
   "display_name": "Python 3.9.0 64-bit ('env': venv)"
  },
  "interpreter": {
   "hash": "97550c9d93cc6e1b32da7be1ecea6a700942a4304498736e1cfadb9169881455"
  }
 },
 "nbformat": 4,
 "nbformat_minor": 2
}