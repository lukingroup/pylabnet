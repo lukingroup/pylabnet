{
 "cells": [
  {
   "cell_type": "markdown",
   "metadata": {},
   "source": [
    "## Raw USB"
   ]
  },
  {
   "cell_type": "code",
   "execution_count": 1,
   "metadata": {},
   "outputs": [
    {
     "name": "stdout",
     "output_type": "stream",
     "text": [
      "0\n",
      "c_long(1)\n"
     ]
    }
   ],
   "source": [
    "from ctypes import *\n",
    "\n",
    "dll = windll.LoadLibrary('usbdll.dll')\n",
    "\n",
    "dll.newp_usb_open_devices.argtypes = [c_int, c_bool, POINTER(c_int)]\n",
    "dll.newp_usb_open_devices.retype = c_long\n",
    "\n",
    "n_devices = c_int()\n",
    "print(dll.newp_usb_open_devices(0, False, byref(n_devices)))\n",
    "print(n_devices)"
   ]
  },
  {
   "cell_type": "code",
   "execution_count": 2,
   "metadata": {},
   "outputs": [],
   "source": [
    "key_arr = (c_char_p * n_devices.value)()\n",
    "for i in range(n_devices.value):\n",
    "    key_arr[i] = b\"\""
   ]
  },
  {
   "cell_type": "code",
   "execution_count": 3,
   "metadata": {},
   "outputs": [
    {
     "name": "stdout",
     "output_type": "stream",
     "text": [
      "0\n",
      "b'2936-R SN81397'\n"
     ]
    }
   ],
   "source": [
    "dll.newp_usb_get_model_serial_keys.argtypes = [POINTER(c_char_p)]\n",
    "dll.newp_usb_get_model_serial_keys.restype = c_long\n",
    "\n",
    "print(dll.newp_usb_get_model_serial_keys(key_arr))\n",
    "for i in range(n_devices.value):\n",
    "    print(key_arr[i])"
   ]
  },
  {
   "cell_type": "code",
   "execution_count": 4,
   "metadata": {},
   "outputs": [
    {
     "data": {
      "text/plain": [
       "0"
      ]
     },
     "execution_count": 4,
     "metadata": {},
     "output_type": "execute_result"
    }
   ],
   "source": [
    "dll.newp_usb_write_by_key.argtypes = [c_char_p, c_char_p, c_ulong]\n",
    "dll.newp_usb_write_by_key.retype = c_long\n",
    "\n",
    "dll.newp_usb_write_by_key(b\"2936-R SN81397\", b\"*IDN?\", 5)"
   ]
  },
  {
   "cell_type": "code",
   "execution_count": 5,
   "metadata": {},
   "outputs": [
    {
     "data": {
      "text/plain": [
       "0"
      ]
     },
     "execution_count": 5,
     "metadata": {},
     "output_type": "execute_result"
    }
   ],
   "source": [
    "dll.newp_usb_read_by_key.argtypes = [c_char_p, c_char_p, c_ulong, POINTER(c_ulong)]\n",
    "dll.newp_usb_read_by_key.retype = c_long\n",
    "\n",
    "buffer = create_string_buffer(100)\n",
    "bytes_read = c_ulong()\n",
    "\n",
    "dll.newp_usb_read_by_key (b\"2936-R SN81397\", buffer, 100, byref(bytes_read))"
   ]
  },
  {
   "cell_type": "code",
   "execution_count": 6,
   "metadata": {},
   "outputs": [
    {
     "data": {
      "text/plain": [
       "b'NEWPORT 2936-R v1.3.4 04/27/20 SN81397\\r\\n'"
      ]
     },
     "execution_count": 6,
     "metadata": {},
     "output_type": "execute_result"
    }
   ],
   "source": [
    "buffer.value"
   ]
  },
  {
   "cell_type": "code",
   "execution_count": 7,
   "metadata": {},
   "outputs": [
    {
     "data": {
      "text/plain": [
       "40"
      ]
     },
     "execution_count": 7,
     "metadata": {},
     "output_type": "execute_result"
    }
   ],
   "source": [
    "bytes_read.value"
   ]
  },
  {
   "cell_type": "markdown",
   "metadata": {},
   "source": [
    "## Using Pylabnet"
   ]
  },
  {
   "cell_type": "code",
   "execution_count": 13,
   "metadata": {},
   "outputs": [],
   "source": [
    "from pylabnet.network.client_server.newport_2936 import Client\n",
    "c = Client(host='169.254.10.90', port=38011)"
   ]
  },
  {
   "cell_type": "code",
   "execution_count": 43,
   "metadata": {},
   "outputs": [
    {
     "name": "stdout",
     "output_type": "stream",
     "text": [
      "1\n",
      "2.169304e-10\n"
     ]
    }
   ],
   "source": [
    "c.set_channel(1)\n",
    "print(c.get_auto())\n",
    "\n",
    "c.set_channel(2)\n",
    "print(c.get_power())"
   ]
  }
 ],
 "metadata": {
  "kernelspec": {
   "display_name": "Python 3",
   "language": "python",
   "name": "python3"
  },
  "language_info": {
   "codemirror_mode": {
    "name": "ipython",
    "version": 3
   },
   "file_extension": ".py",
   "mimetype": "text/x-python",
   "name": "python",
   "nbconvert_exporter": "python",
   "pygments_lexer": "ipython3",
   "version": "3.8.10"
  }
 },
 "nbformat": 4,
 "nbformat_minor": 2
}
