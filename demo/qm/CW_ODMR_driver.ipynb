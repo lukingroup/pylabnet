{
 "cells": [
  {
   "cell_type": "code",
   "execution_count": 4,
   "metadata": {},
   "outputs": [],
   "source": [
    "from pylabnet.hardware.awg.quantum_machine import Driver\n",
    "from pylabnet.utils.logging.logger import LogClient\n",
    "from configuration import config\n",
    "\n",
    "# Note this may require special installs, but allows for convenient inline plot manipulation\n",
    "# %matplotlib widget\n",
    "\n",
    "import matplotlib\n",
    "import numpy as np\n",
    "import matplotlib.pyplot as plt"
   ]
  },
  {
   "cell_type": "code",
   "execution_count": 7,
   "metadata": {},
   "outputs": [
    {
     "name": "stdout",
     "output_type": "stream",
     "text": [
      "2022-03-23 14:24:22,344 - qm - INFO - Performing health check\n",
      "2022-03-23 14:24:22,347 - qm - INFO - Health check passed\n"
     ]
    }
   ],
   "source": [
    "dev_id = 'QM_ford'\n",
    "\n",
    "# Instantiate Logger\n",
    "# OPTIONAL, only if log server exists\n",
    "logger = LogClient(\n",
    "    host='192.168.50.101', \n",
    "    port=38967,\n",
    "    module_tag=f'Quantum Machine {dev_id}'\n",
    ")\n",
    "\n",
    "qmm = Driver(\n",
    "    dev_id,\n",
    "  logger=logger\n",
    ")"
   ]
  },
  {
   "cell_type": "code",
   "execution_count": null,
   "metadata": {},
   "outputs": [],
   "source": []
  }
 ],
 "metadata": {
  "language_info": {
   "name": "python"
  },
  "orig_nbformat": 4
 },
 "nbformat": 4,
 "nbformat_minor": 2
}
