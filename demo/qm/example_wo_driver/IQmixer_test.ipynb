{
 "cells": [
  {
   "cell_type": "code",
   "execution_count": 2,
   "metadata": {},
   "outputs": [
    {
     "name": "stdout",
     "output_type": "stream",
     "text": [
      "2022-02-15 11:25:14,639 - qm - INFO - Performing health check\n",
      "2022-02-15 11:25:14,642 - qm - INFO - Health check passed\n",
      "2022-02-15 11:25:14,718 - qm - INFO - Flags: \n",
      "2022-02-15 11:25:14,720 - qm - INFO - Sending program to QOP\n",
      "2022-02-15 11:25:14,764 - qm - INFO - Executing program\n"
     ]
    }
   ],
   "source": [
    "# note that the programe does not import again once it was imported, which means config will not be updated until one restarts the kernel \n",
    "from qm.QuantumMachinesManager import QuantumMachinesManager\n",
    "from qm.qua import *\n",
    "from qm.simulate import SimulationConfig\n",
    "from configuration import config\n",
    "import time\n",
    "import numpy as np\n",
    "import matplotlib.pyplot as plt\n",
    "\n",
    "harvard_ip = '140.247.189.50'\n",
    "local_ip = '192.168.50.97'\n",
    "qmm = QuantumMachinesManager(host=local_ip, port='80')\n",
    "# qmm = QuantumMachinesManager(host=harvard_ip, port='80')\n",
    "\n",
    "with program() as odmr:\n",
    "    with infinite_loop_():\n",
    "        play('const', 'e_spin')\n",
    "        wait(200, 'e_spin')\n",
    "        # measure('tt_window', 'snspd', None, time_tagging.analog(times, tt_window_len, counts))\n",
    "        align()\n",
    "\n",
    "qm = qmm.open_qm(config)\n",
    "job = qm.execute(odmr)"
   ]
  },
  {
   "cell_type": "code",
   "execution_count": null,
   "metadata": {},
   "outputs": [],
   "source": []
  }
 ],
 "metadata": {
  "interpreter": {
   "hash": "91920dad11faa192fd89db2dc979c60de8b19fdf97a9143163eca7af892c6288"
  },
  "kernelspec": {
   "display_name": "Python 3.8.8rc1 64-bit",
   "language": "python",
   "name": "python3"
  },
  "language_info": {
   "codemirror_mode": {
    "name": "ipython",
    "version": 3
   },
   "file_extension": ".py",
   "mimetype": "text/x-python",
   "name": "python",
   "nbconvert_exporter": "python",
   "pygments_lexer": "ipython3",
   "version": "3.8.8rc1"
  },
  "orig_nbformat": 4
 },
 "nbformat": 4,
 "nbformat_minor": 2
}
