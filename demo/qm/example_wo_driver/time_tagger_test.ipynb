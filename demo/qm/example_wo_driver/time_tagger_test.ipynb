{
 "cells": [
  {
   "cell_type": "code",
   "execution_count": 7,
   "metadata": {},
   "outputs": [],
   "source": [
    "# note that the programe does not import again once it was imported, which means config will not be updated until one restarts the kernel \n",
    "from qm.QuantumMachinesManager import QuantumMachinesManager\n",
    "from qm.qua import *\n",
    "from qm.simulate import SimulationConfig\n",
    "from configuration import config\n",
    "import time\n",
    "import numpy as np\n",
    "import matplotlib.pyplot as plt\n",
    "\n",
    "harvard_ip = '140.247.189.50'\n",
    "local_ip = '192.168.50.97'\n",
    "qmm = QuantumMachinesManager(host=local_ip, port='80')\n",
    "# qmm = QuantumMachinesManager(host=harvard_ip, port='80')\n",
    "\n",
    "with program() as generate_tt:\n",
    "    with infinite_loop_():\n",
    "        play('trigger', 'tt') \n",
    "        # play('X', 'e_spin')\n",
    "        wait(100, 'tt')\n",
    "\n",
    "\n",
    "qm = qmm.open_qm(config)\n",
    "job = qm.execute(generate_tt)\n",
    "\n"
   ]
  },
  {
   "cell_type": "code",
   "execution_count": 2,
   "metadata": {},
   "outputs": [],
   "source": [
    "# def man_wirtten_trigger(data_ary, threshold, derivativeThreshol):\n",
    "#     # falling and below\n",
    "#     cnt = 0\n",
    "#     for (i, data) in enumerate(data_ary):\n",
    "#         if(i != 0 and i != len(data_ary) - 1):\n",
    "#             if( (data_ary[i + 1] - data_ary[i - 1])/2. <= derivativeThreshol and data_ary[i] < threshold):\n",
    "#                 cnt += 1\n",
    "#     return cnt\n",
    "def man_wirtten_trigger(data_ary, threshold, derivative_threshold):\n",
    "    # falling and below\n",
    "    cnt, t_list = 0, []\n",
    "    for (i, data) in enumerate(data_ary):\n",
    "        if(i != 0 and i != len(data_ary) - 1):\n",
    "            if( (data_ary[i] - data_ary[i-1] <= derivative_threshold) and (data_ary[i-1] >= threshold) and (data_ary[i] < threshold) ):\n",
    "                cnt += 1\n",
    "                t_list += [i]\n",
    "    return cnt, t_list\n"
   ]
  },
  {
   "cell_type": "code",
   "execution_count": 3,
   "metadata": {},
   "outputs": [
    {
     "name": "stdout",
     "output_type": "stream",
     "text": [
      "2022-01-31 10:20:45,871 - qm - INFO - Performing health check\n",
      "2022-01-31 10:20:45,874 - qm - INFO - Health check passed\n",
      "2022-01-31 10:20:45,915 - qm - INFO - Performing health check\n",
      "2022-01-31 10:20:45,918 - qm - INFO - Health check passed\n",
      "2022-01-31 10:20:45,966 - qm - INFO - Flags: \n",
      "2022-01-31 10:20:45,966 - qm - INFO - Sending program to QOP\n",
      "2022-01-31 10:20:45,996 - qm - INFO - Executing program\n"
     ]
    },
    {
     "data": {
      "image/png": "[encoded data removed]",
      "text/plain": [
       "<Figure size 432x288 with 1 Axes>"
      ]
     },
     "metadata": {
      "needs_background": "light"
     },
     "output_type": "display_data"
    },
    {
     "data": {
      "image/png": "[encoded data removed]",
      "text/plain": [
       "<Figure size 432x288 with 1 Axes>"
      ]
     },
     "metadata": {
      "needs_background": "light"
     },
     "output_type": "display_data"
    },
    {
     "data": {
      "text/plain": [
       "(1, [704])"
      ]
     },
     "execution_count": 3,
     "metadata": {},
     "output_type": "execute_result"
    }
   ],
   "source": [
    "# generate tt and measure it\n",
    "\n",
    "readout_len =1000\n",
    "signal_th = -440\n",
    "der_signal_th = 1000\n",
    "config['elements']['snspd']['outputPulseParameters']['signalThreshold'] = signal_th\n",
    "config['elements']['snspd']['outputPulseParameters']['signalPolarity'] = 'Falling'  # 'rising'\n",
    "config['elements']['snspd']['outputPulseParameters']['derivativeThreshold'] = der_signal_th\n",
    "config['elements']['snspd']['outputPulseParameters']['derivativePolarity'] = 'Below'  # 'above'\n",
    "\n",
    "signal_th = config['elements']['snspd']['outputPulseParameters']['signalThreshold']\n",
    "config['pulses']['tt_window']['length'] = readout_len\n",
    "\n",
    "qmm = QuantumMachinesManager(host=harvard_ip, port='80')\n",
    "\n",
    "with program() as generate_tt_and_cal:\\\n",
    "\n",
    "    times = declare(int, size=10000)\n",
    "    idx = declare(int)\n",
    "    times_st = declare_stream()\n",
    "    counts = declare(int)\n",
    "    counts_st = declare_stream()\n",
    "    adc_st = declare_stream(adc_trace=True)\n",
    "\n",
    "    it = declare(int)\n",
    "    # with for_(it, 1, it<200, it+1):\n",
    "    #     play('trigger', 'tt') \n",
    "    #     measure(\"tt_window\", \"snspd\", adc_st, time_tagging.analog(times, readout_len, counts))\n",
    "    #     wait(1000, 'tt')\n",
    "    #     save(counts, counts_st)\n",
    "    measure(\"tt_window\", \"snspd\", adc_st, time_tagging.analog(times, readout_len, counts))\n",
    "    wait(100, 'tt')\n",
    "    play('trigger', 'tt') \n",
    "    save(counts, counts_st)\n",
    "\n",
    "    with for_(idx, 0, idx < counts, idx+1):\n",
    "        save(times[idx], times_st)\n",
    "\n",
    "    with stream_processing():\n",
    "        adc_st.input1().save_all('adc')\n",
    "        times_st.save_all('times')\n",
    "        counts_st.save_all('counts')\n",
    "\n",
    "\n",
    "# creating communication with the OPX\n",
    "qmm = QuantumMachinesManager(host=harvard_ip, port='80')\n",
    "\n",
    "# open a quantum machine\n",
    "qm = qmm.open_qm(config)\n",
    "\n",
    "# execute QUA program on the QM\n",
    "job = qm.execute(generate_tt_and_cal)\n",
    "\n",
    "\n",
    "\n",
    "# results handing\n",
    "handles = job.result_handles\n",
    "adc_handle = handles.get('adc')\n",
    "times_handle = handles.get('times')\n",
    "counts_handle = job.result_handles.get('counts')\n",
    "handles.wait_for_all_values()\n",
    "adc = adc_handle.fetch_all()['value'][0]\n",
    "diff = np.concatenate((np.array([0, 1]), np.diff(adc)))\n",
    "times = times_handle.fetch_all()['value']\n",
    "counts = counts_handle.fetch_all()['value']\n",
    "\n",
    "\n",
    "# plotting and analysing\n",
    "fig, ax1 = plt.subplots()\n",
    "ax1.plot(adc, 'r-')\n",
    "ax1.set_ylabel('raw adc', color='r')\n",
    "ax1.hlines(signal_th, 0, readout_len)\n",
    "plt.title('{} counts'.format(counts), size=12)\n",
    "ax1.set_xlim([580, 850])\n",
    "plt.show()\n",
    "\n",
    "\n",
    "\n",
    "# plotting and analysing\n",
    "fig, ax1 = plt.subplots()\n",
    "ax1.plot(times, 'r-')\n",
    "ax1.set_ylabel('time', color='r')\n",
    "plt.title('{} counts'.format(counts), size=12)\n",
    "plt.show()\n",
    "\n",
    "man_wirtten_trigger(adc, signal_th, der_signal_th)\n"
   ]
  },
  {
   "cell_type": "code",
   "execution_count": 4,
   "metadata": {},
   "outputs": [
    {
     "name": "stdout",
     "output_type": "stream",
     "text": [
      "2022-01-31 10:20:47,709 - qm - INFO - Flags: \n",
      "2022-01-31 10:20:47,710 - qm - INFO - Simulating program\n"
     ]
    },
    {
     "data": {
      "text/plain": [
       "Text(0, 0.5, 'Signal [V]')"
      ]
     },
     "execution_count": 4,
     "metadata": {},
     "output_type": "execute_result"
    },
    {
     "data": {
      "image/png": "[encoded data removed]",
      "text/plain": [
       "<Figure size 432x288 with 1 Axes>"
      ]
     },
     "metadata": {
      "needs_background": "light"
     },
     "output_type": "display_data"
    },
    {
     "data": {
      "image/png": "[encoded data removed]",
      "text/plain": [
       "<Figure size 432x288 with 1 Axes>"
      ]
     },
     "metadata": {
      "needs_background": "light"
     },
     "output_type": "display_data"
    }
   ],
   "source": [
    "# OPX Simulate\n",
    "job = qmm.simulate(config, generate_tt_and_cal, SimulationConfig(duration=1000,\n",
    "                                        include_analog_waveforms=True,    # include analog waveform names (default True)\n",
    "                                        include_digital_waveforms=True ))   # include digital waveform  (default True))\n",
    "\n",
    "\n",
    "# get DAC and digital samples\n",
    "samples = job.get_simulated_samples()\n",
    "\n",
    "# plot analog ports 2 and 6:\n",
    "samples.con1.plot(analog_ports={'2', '6'}, digital_ports={})\n",
    "\n",
    "# another way:\n",
    "plt.figure()\n",
    "plt.plot(samples.con1.analog[\"2\"], \"-\")\n",
    "plt.plot(samples.con1.analog[\"6\"], \"--\")\n",
    "plt.legend((\"analog 2\", \"analog 6\"))\n",
    "plt.xlabel(\"Time [ns]\")\n",
    "plt.ylabel(\"Signal [V]\")"
   ]
  },
  {
   "cell_type": "code",
   "execution_count": null,
   "metadata": {},
   "outputs": [],
   "source": []
  },
  {
   "cell_type": "code",
   "execution_count": null,
   "metadata": {},
   "outputs": [],
   "source": []
  },
  {
   "cell_type": "code",
   "execution_count": null,
   "metadata": {},
   "outputs": [],
   "source": []
  },
  {
   "cell_type": "code",
   "execution_count": null,
   "metadata": {},
   "outputs": [],
   "source": []
  },
  {
   "cell_type": "code",
   "execution_count": null,
   "metadata": {},
   "outputs": [],
   "source": []
  },
  {
   "cell_type": "code",
   "execution_count": null,
   "metadata": {},
   "outputs": [],
   "source": []
  },
  {
   "cell_type": "code",
   "execution_count": null,
   "metadata": {},
   "outputs": [],
   "source": []
  },
  {
   "cell_type": "code",
   "execution_count": null,
   "metadata": {},
   "outputs": [],
   "source": []
  },
  {
   "cell_type": "code",
   "execution_count": null,
   "metadata": {},
   "outputs": [],
   "source": []
  },
  {
   "cell_type": "code",
   "execution_count": 19,
   "metadata": {},
   "outputs": [],
   "source": [
    "from scipy.signal import gaussian\n",
    "tt_len = 200; t_ary_tt = np.arange(tt_len); tt_wf =(0.5 * np.exp( -( (t_ary_tt - tt_len//2)/ (tt_len//5.) )**6 )).tolist()"
   ]
  },
  {
   "cell_type": "code",
   "execution_count": 20,
   "metadata": {},
   "outputs": [
    {
     "data": {
      "text/plain": [
       "[<matplotlib.lines.Line2D at 0x14b0d8b56d0>]"
      ]
     },
     "execution_count": 20,
     "metadata": {},
     "output_type": "execute_result"
    },
    {
     "data": {
      "image/png": "[encoded data removed]",
      "text/plain": [
       "<Figure size 432x288 with 1 Axes>"
      ]
     },
     "metadata": {
      "needs_background": "light"
     },
     "output_type": "display_data"
    }
   ],
   "source": [
    "import matplotlib.pyplot as plt\n",
    "plt.plot(tt_wf)"
   ]
  },
  {
   "cell_type": "code",
   "execution_count": null,
   "metadata": {},
   "outputs": [],
   "source": []
  }
 ],
 "metadata": {
  "interpreter": {
   "hash": "5759f0f931a1c6d0eaab6eee31644b5c61977e878f7def362b1e6ae5643a1d53"
  },
  "kernelspec": {
   "display_name": "Python 3.8.8 64-bit ('env': venv)",
   "language": "python",
   "name": "python3"
  },
  "language_info": {
   "codemirror_mode": {
    "name": "ipython",
    "version": 3
   },
   "file_extension": ".py",
   "mimetype": "text/x-python",
   "name": "python",
   "nbconvert_exporter": "python",
   "pygments_lexer": "ipython3",
   "version": "3.8.8"
  },
  "orig_nbformat": 4
 },
 "nbformat": 4,
 "nbformat_minor": 2
}
