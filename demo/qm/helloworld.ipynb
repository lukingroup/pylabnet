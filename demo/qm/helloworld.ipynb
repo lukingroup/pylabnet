{
 "cells": [
  {
   "cell_type": "code",
   "execution_count": 1,
   "metadata": {},
   "outputs": [
    {
     "name": "stdout",
     "output_type": "stream",
     "text": [
      "2022-02-17 16:37:13,152 - qm - INFO - Performing health check\n",
      "2022-02-17 16:37:13,154 - qm - INFO - Health check passed\n",
      "2022-02-17 16:37:13,216 - qm - INFO - Flags: \n",
      "2022-02-17 16:37:13,217 - qm - INFO - Sending program to QOP\n",
      "2022-02-17 16:37:13,420 - qm - INFO - Executing program\n"
     ]
    }
   ],
   "source": [
    "# note that the programe does not import again once it was imported, which means config will not be updated until one restarts the kernel \n",
    "from qm.QuantumMachinesManager import QuantumMachinesManager\n",
    "from qm.qua import *\n",
    "from qm.simulate import SimulationConfig\n",
    "from configuration import config\n",
    "import time\n",
    "import numpy as np\n",
    "import matplotlib.pyplot as plt\n",
    "\n",
    "# harvard_ip = '140.247.189.50'\n",
    "local_ip = '192.168.50.97'\n",
    "qmm = QuantumMachinesManager(host=local_ip, port='80')\n",
    "\n",
    "with program() as test:\n",
    "    with infinite_loop_():\n",
    "        play('const', 'e_spin')\n",
    "        wait(200, 'e_spin')\n",
    "        align()\n",
    "\n",
    "qm = qmm.open_qm(config)\n",
    "job = qm.execute(test)"
   ]
  },
  {
   "cell_type": "code",
   "execution_count": null,
   "metadata": {},
   "outputs": [],
   "source": []
  }
 ],
 "metadata": {
  "interpreter": {
   "hash": "5759f0f931a1c6d0eaab6eee31644b5c61977e878f7def362b1e6ae5643a1d53"
  },
  "kernelspec": {
   "display_name": "Python 3.8.8 ('env': venv)",
   "language": "python",
   "name": "python3"
  },
  "language_info": {
   "codemirror_mode": {
    "name": "ipython",
    "version": 3
   },
   "file_extension": ".py",
   "mimetype": "text/x-python",
   "name": "python",
   "nbconvert_exporter": "python",
   "pygments_lexer": "ipython3",
   "version": "3.8.8"
  },
  "orig_nbformat": 4
 },
 "nbformat": 4,
 "nbformat_minor": 2
}
