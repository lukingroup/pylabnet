{
 "cells": [
  {
   "cell_type": "code",
   "execution_count": 9,
   "metadata": {},
   "outputs": [],
   "source": [
    "from pylabnet.hardware.awg.quantum_machine import Driver\n",
    "from pylabnet.utils.logging.logger import LogClient\n",
    "from configuration import config\n",
    "\n",
    "%matplotlib inline\n",
    "\n",
    "import matplotlib\n",
    "import numpy as np\n",
    "import matplotlib.pyplot as plt\n"
   ]
  },
  {
   "cell_type": "code",
   "execution_count": 3,
   "metadata": {},
   "outputs": [],
   "source": [
    "dev_id = 'QM_ford'\n",
    "\n",
    "# Instantiate\n",
    "logger = LogClient(\n",
    "    host='192.168.50.101', \n",
    "    port=38967,\n",
    "    module_tag=f'Quantum Machine {dev_id}'\n",
    ")"
   ]
  },
  {
   "cell_type": "code",
   "execution_count": 5,
   "metadata": {},
   "outputs": [
    {
     "name": "stdout",
     "output_type": "stream",
     "text": [
      "2022-02-26 17:13:32,070 - qm - INFO - Performing health check\n",
      "2022-02-26 17:13:32,074 - qm - INFO - Health check passed\n"
     ]
    }
   ],
   "source": [
    "# Instanciate Hardware class\n",
    "qm = Driver(dev_id, logger=logger)"
   ]
  },
  {
   "cell_type": "code",
   "execution_count": 11,
   "metadata": {},
   "outputs": [
    {
     "name": "stdout",
     "output_type": "stream",
     "text": [
      "start...\n",
      "2022-02-26 17:52:03,631 - qm - INFO - Flags: \n",
      "2022-02-26 17:52:03,632 - qm - INFO - Sending program to QOP\n",
      "2022-02-26 17:52:03,664 - qm - INFO - Executing program\n"
     ]
    },
    {
     "data": {
      "text/plain": [
       "<qm.QmJob.QmJob at 0x17b843c0040>"
      ]
     },
     "execution_count": 11,
     "metadata": {},
     "output_type": "execute_result"
    }
   ],
   "source": [
    "from qm.qua import program, infinite_loop_, play, wait\n",
    "\n",
    "# programe\n",
    "print('start...')\n",
    "with program() as prog:\n",
    "    with infinite_loop_():\n",
    "        play('trigger', 'tt') \n",
    "        # play('X', 'e_spin')\n",
    "        wait(100, 'tt')\n",
    "\n",
    "qm.execute(prog, config)"
   ]
  },
  {
   "cell_type": "code",
   "execution_count": null,
   "metadata": {},
   "outputs": [],
   "source": []
  }
 ],
 "metadata": {
  "interpreter": {
   "hash": "97550c9d93cc6e1b32da7be1ecea6a700942a4304498736e1cfadb9169881455"
  },
  "kernelspec": {
   "display_name": "Python 3.8.8 ('env': venv)",
   "language": "python",
   "name": "python3"
  },
  "language_info": {
   "codemirror_mode": {
    "name": "ipython",
    "version": 3
   },
   "file_extension": ".py",
   "mimetype": "text/x-python",
   "name": "python",
   "nbconvert_exporter": "python",
   "pygments_lexer": "ipython3",
   "version": "3.8.8"
  },
  "orig_nbformat": 4
 },
 "nbformat": 4,
 "nbformat_minor": 2
}
