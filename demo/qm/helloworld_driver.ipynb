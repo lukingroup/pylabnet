{
 "cells": [
  {
   "cell_type": "code",
   "execution_count": 1,
   "metadata": {},
   "outputs": [],
   "source": [
    "from pylabnet.hardware.awg.quantum_machine import Driver\n",
    "from pylabnet.utils.logging.logger import LogClient\n",
    "from configuration import config\n",
    "\n",
    "# Note this may require special installs, but allows for convenient inline plot manipulation\n",
    "%matplotlib widget\n",
    "\n",
    "import matplotlib\n",
    "import numpy as np\n",
    "import matplotlib.pyplot as plt"
   ]
  },
  {
   "cell_type": "code",
   "execution_count": 7,
   "metadata": {},
   "outputs": [
    {
     "name": "stdout",
     "output_type": "stream",
     "text": [
      "2022-02-28 13:42:53,456 - qm - INFO - Performing health check\n",
      "2022-02-28 13:42:53,464 - qm - INFO - Health check passed\n"
     ]
    }
   ],
   "source": [
    "dev_id = 'QM_ford'\n",
    "\n",
    "# Instantiate Logger\n",
    "# OPTIONAL, only if log server exists\n",
    "# logger = LogClient(\n",
    "#     host='192.168.50.101', \n",
    "#     port=38967,\n",
    "#     module_tag=f'Quantum Machine {dev_id}'\n",
    "#\n",
    "\n",
    "qmm = Driver(\n",
    "    dev_id,\n",
    "#   logger    \n",
    ")"
   ]
  },
  {
   "cell_type": "code",
   "execution_count": 8,
   "metadata": {},
   "outputs": [
    {
     "name": "stdout",
     "output_type": "stream",
     "text": [
      "start...\n",
      "2022-02-28 13:42:59,550 - qm - INFO - Flags: \n",
      "2022-02-28 13:42:59,550 - qm - INFO - Sending program to QOP\n",
      "2022-02-28 13:42:59,682 - qm - INFO - Executing program\n"
     ]
    },
    {
     "data": {
      "text/plain": [
       "<qm.QmJob.QmJob at 0x2845dd2c220>"
      ]
     },
     "execution_count": 8,
     "metadata": {},
     "output_type": "execute_result"
    }
   ],
   "source": [
    "from qm.qua import program, infinite_loop_, play, wait\n",
    "\n",
    "# programe\n",
    "print('start...')\n",
    "with program() as prog:\n",
    "    with infinite_loop_():\n",
    "        play('trigger', 'tt') \n",
    "        # play('X', 'e_spin')\n",
    "        wait(100, 'tt')\n",
    "\n",
    "qmm.execute(config, prog)"
   ]
  },
  {
   "cell_type": "code",
   "execution_count": 9,
   "metadata": {},
   "outputs": [
    {
     "name": "stdout",
     "output_type": "stream",
     "text": [
      "2022-02-28 13:43:05,949 - qm - INFO - Flags: \n",
      "2022-02-28 13:43:05,950 - qm - INFO - Simulating program\n"
     ]
    }
   ],
   "source": [
    "from qm.qua import program, declare, for_, reset_phase, amp, fixed\n",
    "from qm.simulate import SimulationConfig\n",
    "\n",
    "with program() as sim_test:\n",
    "    a = declare(fixed)\n",
    "    with for_(a, 0.1, a < 1, a + 0.1):\n",
    "        reset_phase('e_spin')\n",
    "        play('const' * amp(a), 'e_spin')\n",
    "\n",
    "job, samples = qmm.simulate(config, sim_test, duration=250)\n",
    "\n",
    "# plot all ports:\n",
    "samples.con1.plot()"
   ]
  },
  {
   "cell_type": "code",
   "execution_count": null,
   "metadata": {},
   "outputs": [],
   "source": []
  }
 ],
 "metadata": {
  "interpreter": {
   "hash": "97550c9d93cc6e1b32da7be1ecea6a700942a4304498736e1cfadb9169881455"
  },
  "kernelspec": {
   "display_name": "Python 3.8.8 ('env': venv)",
   "language": "python",
   "name": "python3"
  },
  "language_info": {
   "codemirror_mode": {
    "name": "ipython",
    "version": 3
   },
   "file_extension": ".py",
   "mimetype": "text/x-python",
   "name": "python",
   "nbconvert_exporter": "python",
   "pygments_lexer": "ipython3",
   "version": "3.8.3"
  },
  "orig_nbformat": 4
 },
 "nbformat": 4,
 "nbformat_minor": 2
}
