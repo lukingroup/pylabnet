{
 "cells": [
  {
   "cell_type": "code",
   "execution_count": 1,
   "metadata": {},
   "outputs": [],
   "source": [
    "from pylabnet.hardware.awg.quantum_machine import Driver\n",
    "from pylabnet.utils.logging.logger import LogClient\n",
    "from configuration import config\n",
    "\n",
    "# Note this may require special installs, but allows for convenient inline plot manipulation\n",
    "# %matplotlib widget\n",
    "\n",
    "import matplotlib\n",
    "import numpy as np\n",
    "import matplotlib.pyplot as plt"
   ]
  },
  {
   "cell_type": "code",
   "execution_count": 2,
   "metadata": {},
   "outputs": [
    {
     "name": "stdout",
     "output_type": "stream",
     "text": [
      "2022-03-23 15:57:35,729 - qm - INFO - Performing health check\n",
      "2022-03-23 15:57:35,732 - qm - INFO - Health check passed\n"
     ]
    }
   ],
   "source": [
    "dev_id = 'QM_ford'\n",
    "\n",
    "# Instantiate Logger\n",
    "# OPTIONAL, only if log server exists\n",
    "logger = LogClient(\n",
    "    host='192.168.50.101', \n",
    "    port=38967,\n",
    "    module_tag=f'Quantum Machine {dev_id}'\n",
    ")\n",
    "\n",
    "qmm = Driver(\n",
    "    dev_id,\n",
    "  logger=logger\n",
    ")"
   ]
  },
  {
   "cell_type": "code",
   "execution_count": 3,
   "metadata": {},
   "outputs": [
    {
     "name": "stdout",
     "output_type": "stream",
     "text": [
      "2022-03-23 15:57:36,761 - qm - INFO - Flags: \n",
      "2022-03-23 15:57:36,762 - qm - INFO - Sending program to QOP\n",
      "2022-03-23 15:57:36,812 - qm - INFO - Executing program\n"
     ]
    }
   ],
   "source": [
    "from qm.QuantumMachinesManager import QuantumMachinesManager\n",
    "from qm.qua import *\n",
    "from qm.simulate import SimulationConfig\n",
    "from configuration import config\n",
    "import matplotlib.pyplot as plt\n",
    "import numpy as np\n",
    "\n",
    "tt_window_len = 100000  # 67000000\n",
    "avgs = 100\n",
    "f_min = 10e6; f_max = 200e6; df = 10e6; f_vec = np.arange(f_min, f_max, df)\n",
    "config['pulses']['reset_pulse']['length'] = 300\n",
    "config['pulses']['e_spin_const_pulse']['length'] = tt_window_len\n",
    "config['waveforms']['e_spin_const_wf']['sample'] = 0.4\n",
    "config['pulses']['res_readout_pulse']['length'] = tt_window_len\n",
    "\n",
    "\n",
    "with program() as cw_odmr:\n",
    "\n",
    "    f = declare(int)\n",
    "    n = declare(int)\n",
    "    times = declare(int, size=1000)  # 16000\n",
    "    idx = declare(int)\n",
    "    times_st = declare_stream()\n",
    "    counts = declare(int)\n",
    "    counts_st = declare_stream()\n",
    "\n",
    "    with for_(n, 0, n < avgs, n+1):\n",
    "\n",
    "        with for_(f, f_min, f < f_max, f+df):\n",
    "\n",
    "            update_frequency('e_spin', f)\n",
    "            play('reset', 'reset_laser')\n",
    "            align()\n",
    "            play('const', 'e_spin')\n",
    "            play('readout', 'resonant_read_laser')\n",
    "            measure('tt_window', 'snspd', None, time_tagging.analog(times, tt_window_len, counts))\n",
    "\n",
    "            save(counts, counts_st)\n",
    "            with for_(idx, 0, idx < counts, idx+1):\n",
    "                save(times[idx], times_st)\n",
    "\n",
    "    with stream_processing():\n",
    "        counts_st.buffer(len(f_vec)).save_all('counts')\n",
    "        times_st.save_all('times')\n",
    "\n",
    "\n",
    "\n",
    "job = qmm.execute(config, cw_odmr)\n",
    "\n",
    "# results handing\n",
    "handles = job.result_handles\n",
    "times_handle = handles.get('times')\n",
    "counts_handle = job.result_handles.get('counts')\n",
    "handles.wait_for_all_values()\n",
    "times = times_handle.fetch_all()['value']\n",
    "counts = counts_handle.fetch_all()['value']\n",
    "\n"
   ]
  },
  {
   "cell_type": "code",
   "execution_count": 4,
   "metadata": {},
   "outputs": [
    {
     "name": "stdout",
     "output_type": "stream",
     "text": [
      "2022-03-23 15:57:37,640 - qm - INFO - Flags: \n",
      "2022-03-23 15:57:37,641 - qm - INFO - Simulating program\n"
     ]
    },
    {
     "data": {
      "image/png": "[encoded data removed]",
      "text/plain": [
       "<Figure size 432x288 with 1 Axes>"
      ]
     },
     "metadata": {
      "needs_background": "light"
     },
     "output_type": "display_data"
    }
   ],
   "source": [
    "# simulation\n",
    "job, samples = qmm.simulate(config, cw_odmr, duration=300)\n",
    "samples.con1.plot()"
   ]
  },
  {
   "cell_type": "code",
   "execution_count": null,
   "metadata": {},
   "outputs": [],
   "source": []
  },
  {
   "cell_type": "code",
   "execution_count": null,
   "metadata": {},
   "outputs": [],
   "source": []
  },
  {
   "cell_type": "code",
   "execution_count": null,
   "metadata": {},
   "outputs": [],
   "source": []
  },
  {
   "cell_type": "code",
   "execution_count": null,
   "metadata": {},
   "outputs": [],
   "source": []
  }
 ],
 "metadata": {
  "interpreter": {
   "hash": "97550c9d93cc6e1b32da7be1ecea6a700942a4304498736e1cfadb9169881455"
  },
  "kernelspec": {
   "display_name": "Python 3.8.8 ('env': venv)",
   "language": "python",
   "name": "python3"
  },
  "language_info": {
   "codemirror_mode": {
    "name": "ipython",
    "version": 3
   },
   "file_extension": ".py",
   "mimetype": "text/x-python",
   "name": "python",
   "nbconvert_exporter": "python",
   "pygments_lexer": "ipython3",
   "version": "3.8.8"
  },
  "orig_nbformat": 4
 },
 "nbformat": 4,
 "nbformat_minor": 2
}
