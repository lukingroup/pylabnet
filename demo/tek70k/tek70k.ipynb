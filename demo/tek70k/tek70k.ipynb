{
 "cells": [
  {
   "cell_type": "code",
   "execution_count": 1,
   "metadata": {},
   "outputs": [
    {
     "name": "stderr",
     "output_type": "stream",
     "text": [
      "c:\\Users\\Deagol\\pylabnet\\env\\lib\\site-packages\\paramiko\\transport.py:219: CryptographyDeprecationWarning: Blowfish has been deprecated\n",
      "  \"class\": algorithms.Blowfish,\n"
     ]
    }
   ],
   "source": [
    "import time \n",
    "import numpy as np\n",
    "from pyvisa import VisaIOError, ResourceManager\n",
    "import pylabnet.network.client_server.tektronix_awg70k as tektronix_awg70k\n",
    "from pylabnet.hardware.awg.tektronix_awg70k import Tek70K\n",
    "client = tektronix_awg70k.Client(\n",
    "    host='192.168.50.114', \n",
    "    port=29618\n",
    ")\n",
    "# rm = ResourceManager()\n",
    "# my_instrument = rm.open_resource('TCPIP0::192.168.50.207::INSTR')\n",
    "tek = Tek70K(client)"
   ]
  },
  {
   "cell_type": "code",
   "execution_count": 2,
   "metadata": {},
   "outputs": [],
   "source": [
    "def initialize_AWG(tek, sample_rate, awg_max_amp, N_markers):\n",
    "    tek.reset()\n",
    "    time.sleep(2)\n",
    "    tek.wait()\n",
    "\n",
    "    ## Output\n",
    "    tek.write('OUTPUT:PATH DIRECT')\n",
    "    tek.write(f'CLOCK:SRATE {sample_rate}')\n",
    "    tek.write(f'VOLTAGE:LEVEL:AMPL {awg_max_amp}')\n",
    "    # Max 10 bit resolution, 1 bit used per marker \n",
    "    tek.write(f'DAC:RESOLUTION {10-N_markers}') \n",
    "\n",
    "    ## Waveforms\n",
    "    tek.clear_all_waveforms()\n",
    "\n",
    "    ## Sequences\n",
    "    tek.clear_all_sequences()\n",
    "    tek.wait()\n",
    "\n",
    "def write_wait_sequence(tek, seq, wait_samp=4800):\n",
    "    tek.change_plugin(\"Basic Waveform\")\n",
    "    seq_name, step_ptr = seq.name, seq.step_ptr\n",
    "\n",
    "    wait_wave_name = \"WAIT_WAVE\"\n",
    "\n",
    "    tek.write(f'BWAV:LENGTH {wait_samp}') \n",
    "    tek.write('BWAV:AMPL 0') \n",
    "    tek.write(f'BWAV:COMPile:NAME \"{wait_wave_name}\"') \n",
    "    tek.write('BWAV:COMPILE') # Compile\n",
    "    tek.wait()\n",
    "\n",
    "    # Add a step\n",
    "    tek.write(f'SLIST:SEQ:STEP:ADD \"{seq_name}\", {step_ptr}, 1')\n",
    "    # Assign the wait waveform to Track 1\n",
    "    tek.write(f'SLIST:SEQ:STEP{step_ptr}:TASSET1:WAVEFORM \"{seq_name}\", \"{wait_wave_name}\"')\n",
    "    # Make it repeat infinitely\n",
    "    tek.write(f'SLIST:SEQ:STEP{step_ptr}:RCOUNT \"{seq_name}\", INF')\n",
    "    # Add wave table entry\n",
    "    seq.wave_table[wait_wave_name] = seq.step_ptr\n",
    "\n",
    "    seq.step_ptr += 1\n",
    "    return seq"
   ]
  },
  {
   "cell_type": "code",
   "execution_count": 3,
   "metadata": {},
   "outputs": [],
   "source": [
    "def write_rabi_waves(tek, sample_rate, awg_max_amp, pulse_freq, t_rabi, N, min_amp, max_amp):\n",
    "    tek.change_plugin(\"Basic Waveform\")\n",
    "    tek.write(f'BWAV:SRATE {sample_rate}') # Sample rate\n",
    "    tek.write('BWAV:FDR OFF') # Full dynamic range?\n",
    "    tek.write('BWAV:FUNC SINE') # Waveform Shape\n",
    "    tek.write(f'BWAV:FREQ {pulse_freq}') # Frequency\n",
    "    tek.write(f'BWAV:LENGTH {t_rabi * sample_rate}') # Number of samples\n",
    "\n",
    "    assert(max_amp <= awg_max_amp)\n",
    "    amps = np.linspace(min_amp, max_amp, N)\n",
    "\n",
    "    # Generate Rabi waveforms\n",
    "    for i in range(N):\n",
    "        tek.write(f'BWAV:AMPL {amps[i]}') \n",
    "        tek.write(f'BWAV:COMPile:NAME \"Rabi_{i}\"') # Name waveform\n",
    "        tek.write('BWAV:COMPILE') # Compile\n",
    "        tek.wait()\n",
    "        tek.write_marker(f\"Rabi_{i}\", [1 for _ in range(1000)])\n",
    "        tek.wait()\n",
    "        \n",
    "def write_rabi_sequence(tek, seq, N):\n",
    "    seq_name, step_ptr = seq.name, seq.step_ptr\n",
    "   \n",
    "    for i in range(0, N):\n",
    "        # Add a step for each Rabi waveform \n",
    "        tek.write(f'SLIST:SEQ:STEP:ADD \"{seq_name}\", {step_ptr+i}, 1')\n",
    "        # Assign the Rabi waveform to Track 1\n",
    "        tek.write(f'SLIST:SEQ:STEP{step_ptr+i}:TASSET1:WAVEFORM \"{seq_name}\", \"Rabi_{i}\"')\n",
    "        # Make the wave wait for Trigger A\n",
    "        tek.write(f'SLIST:SEQ:STEP{step_ptr+i}:WINPUT \"{seq_name}\", ATR')\n",
    "        # Add wave table entry\n",
    "        seq.wave_table[f\"Rabi_{i}\"] = step_ptr + i\n",
    "\n",
    "    # Make the last step go to first\n",
    "    tek.write(f'SLIST:SEQ:STEP{step_ptr+(N-1)}:GOTO \"{seq_name}\", FIRST')\n",
    "\n",
    "    seq.step_ptr += N # Advance the step pointer\n",
    "    return seq"
   ]
  },
  {
   "cell_type": "code",
   "execution_count": 4,
   "metadata": {},
   "outputs": [],
   "source": [
    "t_rabi = 10E-6\n",
    "freq = 100E6\n",
    "pts = 5\n",
    "min_amp, max_amp = 0.1, 0.5\n",
    "marker_len = 3000\n",
    "\n",
    "SAMPLE_RATE = 50E9 # Max 50 GSa/s\n",
    "AWG_MAX_AMP = 0.5 # 0.3 to 0.5 Vpp\n",
    "N_MARKERS = 1 # 0, 1 or 2 markers\n",
    "# clear_all_waveforms(self):\n",
    "initialize_AWG(tek, SAMPLE_RATE , AWG_MAX_AMP, N_MARKERS)\n",
    "write_rabi_waves(tek, SAMPLE_RATE, AWG_MAX_AMP, freq, t_rabi, pts, min_amp, max_amp)\n",
    "\n",
    "seq = tek.create_new_sequence(\"Hi\")\n",
    "seq = write_rabi_sequence(tek, seq, pts)\n",
    "tek.assign_sequence(seq.name)"
   ]
  },
  {
   "cell_type": "code",
   "execution_count": null,
   "metadata": {},
   "outputs": [],
   "source": [
    "# tek.write_marker(\"Rabi_1\", [1 for _ in range(marker_len)])\n",
    "# tek.assign_waveform(\"Rabi_1\")"
   ]
  },
  {
   "cell_type": "code",
   "execution_count": 6,
   "metadata": {},
   "outputs": [],
   "source": [
    "# tek.awg_run()\n",
    "# tek.set_output_state(1)\n",
    "# tek.awg_stop()\n",
    "# tek.set_output_state(0)"
   ]
  },
  {
   "cell_type": "code",
   "execution_count": 7,
   "metadata": {},
   "outputs": [],
   "source": [
    "# tek.reset()"
   ]
  },
  {
   "cell_type": "code",
   "execution_count": 12,
   "metadata": {},
   "outputs": [
    {
     "name": "stdout",
     "output_type": "stream",
     "text": [
      "\"\\\"\n",
      "\n"
     ]
    }
   ],
   "source": [
    "# tek.write('MMEM:MSIS \"C:\"')\n",
    "# tek.write('MMEM:CDIR \"C:\\ProgramData\\Tektronix\\AWG\\AWG70k\\EquationEditor\"')\n",
    "print(tek.get_dir())\n",
    "# tek.change_dir(\"C\", \"Users\")\n",
    "# print(tek.get_dir())\n",
    "# tek.write('AWGCONTROL:COMP \"C:\\\\ProgramData\\\\Tektronix\\\\AWG\\\\AWG70k\\\\EquationEditor\\\\Untitled.equ\"')"
   ]
  },
  {
   "cell_type": "code",
   "execution_count": 5,
   "metadata": {},
   "outputs": [],
   "source": [
    "a = bytearray(\"\"\"clock = 10e9 'Recommended sample rate\n",
    "size = 2400\n",
    "\"Square2pt5\"=sqr(2.5 * 2 * pi * scale) * -1\n",
    "\"Square2pt5\".Marker1 = (point= 480)\n",
    "\"Square2pt5\".Marker1 = \"Square2pt5\".Marker1 + (point= 960)\n",
    "\"Square2pt5\".Marker2 = (point <= 5)\"\"\", encoding='ascii')\n",
    "\n",
    "command ='heehee'"
   ]
  },
  {
   "cell_type": "code",
   "execution_count": 7,
   "metadata": {},
   "outputs": [],
   "source": [
    "import pickle\n",
    "\n",
    "b = pickle.dumps([command, a])\n",
    "c = pickle.loads(b)"
   ]
  },
  {
   "cell_type": "code",
   "execution_count": 8,
   "metadata": {},
   "outputs": [
    {
     "data": {
      "text/plain": [
       "'heehee'"
      ]
     },
     "execution_count": 8,
     "metadata": {},
     "output_type": "execute_result"
    }
   ],
   "source": [
    "c[0]"
   ]
  },
  {
   "cell_type": "code",
   "execution_count": 9,
   "metadata": {},
   "outputs": [
    {
     "data": {
      "text/plain": [
       "False"
      ]
     },
     "execution_count": 9,
     "metadata": {},
     "output_type": "execute_result"
    }
   ],
   "source": [
    "isinstance(c, bytearray)"
   ]
  },
  {
   "cell_type": "code",
   "execution_count": 24,
   "metadata": {},
   "outputs": [],
   "source": [
    "tek.write_file(\"C:\\\\ProgramData\\\\Tektronix\\\\AWG\\\\AWG70k\\\\EquationEditor\\\\abc.equ\",\n",
    "\"\"\"clock = 10e9 'Recommended sample rate\n",
    "size = 2400 \n",
    "\"Square2pt5\"=sqr(2.5 * 2 * pi * scale) * -1\n",
    "\"Square2pt5\".Marker1 = (point= 480)\n",
    "\"Square2pt5\".Marker1 = \"Square2pt5\".Marker1 + (point= 960)\n",
    "\"Square2pt5\".Marker2 = (point <= 5)\"\"\")"
   ]
  },
  {
   "cell_type": "code",
   "execution_count": 25,
   "metadata": {},
   "outputs": [
    {
     "name": "stdout",
     "output_type": "stream",
     "text": [
      "clock = 10e9 'Recommended sample rate\n",
      "size = 2400 \n",
      "\"Square2pt5\"=sqr(2.5 * 2 * pi * scale) * -1\n",
      "\"Square2pt5\".Marker1 = (point= 480)\n",
      "\"Square2pt5\".Marker1 = \"Square2pt5\".Marker1 + (point= 960)\n",
      "\"Square2pt5\".Marker2 = (point <= 5)\n"
     ]
    }
   ],
   "source": [
    "print(tek.read_file(\"C:\\\\ProgramData\\\\Tektronix\\\\AWG\\\\AWG70k\\\\EquationEditor\\\\abc.equ\"))\n",
    "# print(tek.get_file_size(\"C:\\\\ProgramData\\\\Tektronix\\\\AWG\\\\AWG70k\\\\EquationEditor\\\\xy8_waveforms.equ\"))"
   ]
  },
  {
   "cell_type": "code",
   "execution_count": 26,
   "metadata": {},
   "outputs": [],
   "source": [
    "tek.compile_equation(\"C:\\\\ProgramData\\\\Tektronix\\\\AWG\\\\AWG70k\\\\EquationEditor\\\\abc.equ\")"
   ]
  },
  {
   "cell_type": "code",
   "execution_count": 6,
   "metadata": {},
   "outputs": [],
   "source": [
    "from pyvisa import VisaIOError, ResourceManager\n",
    "\n",
    "rm = ResourceManager()\n",
    "\n",
    "device = rm.open_resource(\"TCPIP0::192.168.50.207::INSTR\")\n",
    "device_id = device.query('*IDN?')"
   ]
  },
  {
   "cell_type": "code",
   "execution_count": 7,
   "metadata": {},
   "outputs": [
    {
     "data": {
      "text/plain": [
       "'TEKTRONIX,AWG70001B,B020539,FV:8.1.0266.0\\n'"
      ]
     },
     "execution_count": 7,
     "metadata": {},
     "output_type": "execute_result"
    }
   ],
   "source": [
    "device_id"
   ]
  },
  {
   "cell_type": "code",
   "execution_count": 8,
   "metadata": {},
   "outputs": [],
   "source": [
    "path=\"C:\\\\ProgramData\\\\Tektronix\\\\AWG\\\\AWG70k\\\\EquationEditor\\\\hij.equ\"\n",
    "\n",
    "\n",
    "string=\"\"\"clock = 10e9 'Recommended sample rate\n",
    "size = 2400\n",
    "\"Square2pt5\"=sqr(2.5 * 2 * pi * scale) * -1\n",
    "\"Square2pt5\".Marker1 = (point= 480)\n",
    "\"Square2pt5\".Marker1 = \"Square2pt5\".Marker1 + (point= 960)\n",
    "\"Square2pt5\".Marker2 = (point <= 5)\"\"\"\n",
    "start_index=0"
   ]
  },
  {
   "cell_type": "code",
   "execution_count": 9,
   "metadata": {},
   "outputs": [
    {
     "data": {
      "text/plain": [
       "309"
      ]
     },
     "execution_count": 9,
     "metadata": {},
     "output_type": "execute_result"
    }
   ],
   "source": [
    "device.write_binary_values(f'MMEMORY:DATA \"{path}\", {start_index}, ', bytearray(string, encoding='ascii'), datatype='b')"
   ]
  },
  {
   "cell_type": "code",
   "execution_count": null,
   "metadata": {},
   "outputs": [],
   "source": []
  }
 ],
 "metadata": {
  "kernelspec": {
   "display_name": "Python 3",
   "language": "python",
   "name": "python3"
  },
  "language_info": {
   "codemirror_mode": {
    "name": "ipython",
    "version": 3
   },
   "file_extension": ".py",
   "mimetype": "text/x-python",
   "name": "python",
   "nbconvert_exporter": "python",
   "pygments_lexer": "ipython3",
   "version": "3.8.10"
  },
  "orig_nbformat": 4,
  "vscode": {
   "interpreter": {
    "hash": "ad461a3269a36a32ad6e1fcbcf6493f8b2a5c07947d29ec8840829eef53a3733"
   }
  }
 },
 "nbformat": 4,
 "nbformat_minor": 2
}
