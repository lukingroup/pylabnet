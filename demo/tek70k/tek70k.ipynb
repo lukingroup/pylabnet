{
 "cells": [
  {
   "cell_type": "code",
   "execution_count": 3,
   "metadata": {},
   "outputs": [],
   "source": [
    "import time\n",
    "import numpy as np\n",
    "import pylabnet.network.client_server.tektronix_awg70k as tektronix_awg70k\n",
    "from pylabnet.hardware.awg.tektronix_awg70k import Tek70K\n",
    "client = tektronix_awg70k.Client(\n",
    "    host='192.168.50.116',\n",
    "    port=9565\n",
    ")\n",
    "# rm = ResourceManager()\n",
    "# my_instrument = rm.open_resource('TCPIP0::192.168.50.207::INSTR')\n",
    "tek = Tek70K(client)"
   ]
  },
  {
   "cell_type": "code",
   "execution_count": 2,
   "metadata": {},
   "outputs": [],
   "source": [
    "TEK_MAX_AMP = 0.5\n",
    "TEK_SAMPLE_RATE = 50E9\n",
    "TEK_PATH = \"C:\\\\ProgramData\\\\Tektronix\\\\AWG\\\\AWG70k\\\\EquationEditor\\\\\"\n",
    "TEK_MAX_CHAR = 800000\n",
    "TEK_MIN_PULSE_LEN = 4800"
   ]
  },
  {
   "cell_type": "code",
   "execution_count": 3,
   "metadata": {},
   "outputs": [],
   "source": [
    "def initialize_AWG(tek, sample_rate, awg_max_amp, N_markers):\n",
    "\n",
    "    ## Reset everything\n",
    "    tek.reset()\n",
    "    time.sleep(2)\n",
    "    tek.wait()\n",
    "    tek.clear_all_sequences()\n",
    "    tek.wait()\n",
    "    tek.clear_all_waveforms()\n",
    "    tek.wait()\n",
    "\n",
    "    ## Output settings\n",
    "    tek.write(f'CLOCK:SRATE {sample_rate}')\n",
    "    tek.write('OUTPUT1:PATH DIRECT')\n",
    "    tek.write(f'SOURCE1:VOLTAGE:LEVEL:AMPL {awg_max_amp}')\n",
    "    # Max 10 bit resolution, 1 bit used per marker, max 2 markers\n",
    "    tek.write(f'SOURCE1:DAC:RESOLUTION {10-N_markers}')\n",
    "    # Trigger level\n",
    "    tek.write('TRIGGER:LEVEL 0.8, ATRIGGER')\n",
    "    tek.write('TRIGGER:LEVEL 0.8, BTRIGGER')\n",
    "    tek.wait()\n",
    "\n",
    "\n",
    "def write_wait_sequence(tek, seq, wait_samp=4800):\n",
    "    tek.change_plugin(\"Basic Waveform\")\n",
    "    seq_name, step_ptr = seq.name, seq.step_ptr\n",
    "\n",
    "    wait_wave_name = \"WAIT_WAVE\"\n",
    "\n",
    "    tek.write(f'BWAV:LENGTH {wait_samp}')\n",
    "    tek.write('BWAV:AMPL 0')\n",
    "    tek.write(f'BWAV:COMPILE:NAME \"{wait_wave_name}\"')\n",
    "    tek.write('BWAV:COMPILE') # Compile\n",
    "    tek.wait()\n",
    "\n",
    "    # Add a step\n",
    "    tek.write(f'SLIST:SEQ:STEP:ADD \"{seq_name}\", {step_ptr}, 1')\n",
    "    # Assign the wait waveform to Track 1\n",
    "    tek.write(f'SLIST:SEQ:STEP{step_ptr}:TASSET1:WAVEFORM \"{seq_name}\", \"{wait_wave_name}\"')\n",
    "    # Make it repeat infinitely\n",
    "    tek.write(f'SLIST:SEQ:STEP{step_ptr}:RCOUNT \"{seq_name}\", INF')\n",
    "    # Add wave table entry\n",
    "    seq.wave_table[seq.step_ptr] = wait_wave_name\n",
    "\n",
    "    seq.step_ptr += 1\n",
    "    return seq"
   ]
  },
  {
   "cell_type": "code",
   "execution_count": 40,
   "metadata": {},
   "outputs": [],
   "source": [
    "# tek.change_dir(\"C\", \"\")\n",
    "tek.delete_file(\"ProgramData\\\\Tektronix\\\\AWG\\\\AWG70k\\\\EquationEditor\\\\rabi_waveforms.equ\")"
   ]
  },
  {
   "cell_type": "code",
   "execution_count": 20,
   "metadata": {},
   "outputs": [
    {
     "data": {
      "text/plain": [
       "29"
      ]
     },
     "execution_count": 20,
     "metadata": {},
     "output_type": "execute_result"
    }
   ],
   "source": [
    "tek.write('MMEMORY:CDIRECTORY \"\\\\Users\"')"
   ]
  },
  {
   "cell_type": "code",
   "execution_count": 35,
   "metadata": {},
   "outputs": [
    {
     "data": {
      "text/plain": [
       "'\"\\\\\"\\n'"
      ]
     },
     "execution_count": 35,
     "metadata": {},
     "output_type": "execute_result"
    }
   ],
   "source": [
    "tek.get_dir()"
   ]
  },
  {
   "cell_type": "code",
   "execution_count": 60,
   "metadata": {},
   "outputs": [],
   "source": [
    "def write_rabi_waves(tek, sample_rate, awg_max_amp, pulse_freq, t_rabi, N, min_amp, max_amp):\n",
    "    tek.change_plugin(\"Basic Waveform\")\n",
    "    tek.write(f'BWAV:SRATE {sample_rate}') # Sample rate\n",
    "    tek.write('BWAV:FDR OFF') # Full dynamic range?\n",
    "    tek.write('BWAV:FUNC SINE') # Waveform Shape\n",
    "    tek.write(f'BWAV:FREQ {pulse_freq}') # Frequency\n",
    "    tek.write(f'BWAV:LENGTH {t_rabi * sample_rate}') # Number of samples\n",
    "\n",
    "    assert(max_amp <= awg_max_amp)\n",
    "    amps = np.linspace(min_amp, max_amp, N)\n",
    "\n",
    "    # Generate Rabi waveforms\n",
    "    for i in range(N):\n",
    "        tek.write(f'BWAV:AMPL {amps[i]}')\n",
    "        tek.write(f'BWAV:COMPILE:NAME \"Rabi_{i}\"') # Name waveform\n",
    "        tek.write('BWAV:COMPILE') # Compile\n",
    "        tek.wait()\n",
    "        tek.write_marker(f\"Rabi_{i}\", [1 for _ in range(1000)])\n",
    "        tek.wait()\n",
    "\n",
    "def write_rabi_waves_equ(tek, pulse_freq, t_rabi, N, min_amp, max_amp, sample_rate):\n",
    "\n",
    "    equ_filename = \"rabi_waveforms.equ\"\n",
    "    equ_filepath = TEK_PATH + equ_filename\n",
    "\n",
    "    # Deletes any old instance of the file to prevent leftover data\n",
    "    # Chops the first 3 letters \"C:\\\\\" off the path (double backslash is 1 char)\n",
    "    tek.delete_file(equ_filepath[3:])\n",
    "\n",
    "    pulse_samples = round(sample_rate * t_rabi)\n",
    "    equ_str = f\"clock = {round(sample_rate)}\\n\"\n",
    "    equ_str += f\"size = {max(pulse_samples, TEK_MIN_PULSE_LEN)}\\n\"\n",
    "\n",
    "    pulse_amps = np.linspace(min_amp, max_amp, N)\n",
    "\n",
    "    for i in range(N):\n",
    "        equ_str += f'''\"Rabi_{i}\" = {pulse_amps[i]} * cos (2 * pi * {pulse_freq} * time) * (time < {t_rabi})\\n'''\n",
    "\n",
    "    tek.write_file(equ_filepath, equ_str)\n",
    "    size = tek.get_file_size(equ_filepath)\n",
    "    if size > TEK_MAX_CHAR:\n",
    "        return 0\n",
    "    else:\n",
    "        tek.compile_equation(equ_filepath)\n",
    "        return 1\n",
    "\n",
    "def write_rabi_sequence(tek, seq, N, rp):\n",
    "    seq_name, step_ptr = seq.name, seq.step_ptr\n",
    "\n",
    "    for rabi_i in range(N):\n",
    "        for rp_j in range(rp):\n",
    "            # Add one step to the sequence\n",
    "            tek.write(f'SLIST:SEQ:STEP:ADD \"{seq_name}\", {step_ptr}, 1')\n",
    "            # Set number of repeats = 1\n",
    "            tek.write(f'SLIST:SEQ:STEP{step_ptr}:RCOUNT \"{seq_name}\", 1')\n",
    "            # Assign the Rabi waveform to Track 1\n",
    "            tek.write(f'SLIST:SEQ:STEP{step_ptr}:TASSET1:WAVEFORM \"{seq_name}\", \"Rabi_{rabi_i}\"')\n",
    "            # Make the wave wait for Trigger A\n",
    "            tek.write(f'SLIST:SEQ:STEP{step_ptr}:WINPUT \"{seq_name}\", ATRIGGER')\n",
    "            # Add wave table entry\n",
    "            seq.wave_table[step_ptr] = f\"Rabi_{rabi_i}\"\n",
    "\n",
    "            step_ptr += 1\n",
    "\n",
    "    # Make the last step go to first; minus one since step_ptr points to the first empty step\n",
    "    tek.write(f'SLIST:SEQ:STEP{step_ptr-1}:GOTO \"{seq_name}\", FIRST')\n",
    "\n",
    "    seq.step_ptr = step_ptr\n",
    "    return seq"
   ]
  },
  {
   "cell_type": "code",
   "execution_count": 37,
   "metadata": {},
   "outputs": [],
   "source": [
    "t_rabi = 10E-6\n",
    "freq = 100E6\n",
    "N = 5\n",
    "min_amp, max_amp = 0.1, 0.5\n",
    "marker_len = 3000\n",
    "\n",
    "SAMPLE_RATE = 50E9 # Max 50 GSa/s\n",
    "AWG_MAX_AMP = 0.5 # 0.3 to 0.5 Vpp\n",
    "N_MARKERS = 0 # 0, 1 or 2 markers\n",
    "\n",
    "initialize_AWG(tek, SAMPLE_RATE , AWG_MAX_AMP, N_MARKERS)\n",
    "write_rabi_waves(tek, SAMPLE_RATE, AWG_MAX_AMP, freq, t_rabi, N, min_amp, max_amp)\n",
    "\n",
    "seq = tek.create_new_sequence(\"Hi\")\n",
    "seq = write_rabi_sequence(tek, seq, N, rp=3)\n",
    "tek.assign_sequence(seq.name)"
   ]
  },
  {
   "cell_type": "code",
   "execution_count": 64,
   "metadata": {},
   "outputs": [],
   "source": [
    "write_rabi_waves_equ(tek, pulse_freq=10E9, t_rabi=30E-9, N=5, min_amp=0.1, max_amp=0.5, sample_rate=TEK_SAMPLE_RATE)\n",
    "seq = tek.create_new_sequence(\"Hi2\")\n",
    "seq = write_rabi_sequence(tek, seq, N=5, rp=1)\n",
    "tek.assign_sequence(seq.name)"
   ]
  },
  {
   "cell_type": "code",
   "execution_count": 5,
   "metadata": {},
   "outputs": [],
   "source": [
    "tek.awg_run()\n",
    "tek.set_output_state(1)\n",
    "# tek.awg_stop()\n",
    "# tek.set_output_state(0)"
   ]
  },
  {
   "cell_type": "code",
   "execution_count": 44,
   "metadata": {},
   "outputs": [],
   "source": [
    "# tek.reset()"
   ]
  },
  {
   "cell_type": "code",
   "execution_count": 9,
   "metadata": {},
   "outputs": [
    {
     "name": "stdout",
     "output_type": "stream",
     "text": [
      "\"\\\"\n",
      "\n"
     ]
    },
    {
     "data": {
      "text/plain": [
       "83"
      ]
     },
     "execution_count": 9,
     "metadata": {},
     "output_type": "execute_result"
    }
   ],
   "source": [
    "# tek.write('MMEM:MSIS \"C:\"')\n",
    "# tek.write('MMEM:CDIR \"C:\\ProgramData\\Tektronix\\AWG\\AWG70k\\EquationEditor\"')\n",
    "print(tek.get_dir())\n",
    "# tek.change_dir(\"C\", \"Users\")\n",
    "# print(tek.get_dir())\n",
    "tek.write('AWGCONTROL:COMP \"C:\\\\ProgramData\\\\Tektronix\\\\AWG\\\\AWG70k\\\\EquationEditor\\\\Untitled.equ\"')"
   ]
  },
  {
   "cell_type": "code",
   "execution_count": 44,
   "metadata": {},
   "outputs": [],
   "source": [
    "tek.write_file(\"C:\\\\ProgramData\\\\Tektronix\\\\AWG\\\\AWG70k\\\\EquationEditor\\\\abc.equ\",\n",
    "\"\"\"clock = 10e9 'Recommended sample rate\n",
    "size = 2400\n",
    "\"Square2pt5\"=sqr(2.5 * 2 * pi * scale) * -1\n",
    "\"Square2pt5\".Marker1 = (point= 480)\n",
    "\"Square2pt5\".Marker1 = \"Square2pt5\".Marker1 + (point= 960)\n",
    "\"Square2pt5\".Marker2 = (point <= 5)\"\"\")"
   ]
  },
  {
   "cell_type": "code",
   "execution_count": 43,
   "metadata": {},
   "outputs": [],
   "source": [
    "tek.write_file(\"C:\\\\ProgramData\\\\Tektronix\\\\AWG\\\\AWG70k\\\\EquationEditor\\\\abc.equ\", \"\"\"clock = 10e9 'Recommended sample rate\n",
    "size = 2400\n",
    "\"Square2pt5\"=sqr(2.5 * 2 * pi * scale) * -1\n",
    "\"Square2pt5\".Marker1 = (point= 480)\n",
    "\"Square2pt5\".Marker1 = \"Square2pt5\".Marker1 + (point= 960)\n",
    "\"Square2pt5\".Marker2 = (point <= 5)\"\"\")"
   ]
  },
  {
   "cell_type": "code",
   "execution_count": 45,
   "metadata": {},
   "outputs": [
    {
     "name": "stdout",
     "output_type": "stream",
     "text": [
      "clock = 10e9 'Recommended sample rate\n",
      "size = 2400\n",
      "\"Square2pt5\"=sqr(2.5 * 2 * pi * scale) * -1\n",
      "\"Square2pt5\".Marker1 = (point= 480)\n",
      "\"Square2pt5\".Marker1 = \"Square2pt5\".Marker1 + (point= 960)\n",
      "\"Square2pt5\".Marker2 = (point <= 5))\n",
      "225\n"
     ]
    }
   ],
   "source": [
    "print(tek.read_file(\"C:\\\\ProgramData\\\\Tektronix\\\\AWG\\\\AWG70k\\\\EquationEditor\\\\abc.equ\"))\n",
    "print(tek.get_file_size(\"C:\\\\ProgramData\\\\Tektronix\\\\AWG\\\\AWG70k\\\\EquationEditor\\\\abc.equ\"))"
   ]
  },
  {
   "cell_type": "code",
   "execution_count": 71,
   "metadata": {},
   "outputs": [
    {
     "data": {
      "text/plain": [
       "34"
      ]
     },
     "execution_count": 71,
     "metadata": {},
     "output_type": "execute_result"
    }
   ],
   "source": [
    "tek.write('WLIST:WAVEFORM:DELETE \"Test1\"')\n",
    "tek.write('WLIST:WAVEFORM:NEW \"Test1\", 4800')"
   ]
  },
  {
   "cell_type": "code",
   "execution_count": 35,
   "metadata": {},
   "outputs": [
    {
     "name": "stdout",
     "output_type": "stream",
     "text": [
      "['0x33', '0x33', '0xa3', '0x40']\n"
     ]
    }
   ],
   "source": [
    "import struct\n",
    "value = 5.1\n",
    "ba = bytearray(struct.pack(\"f\", value))\n",
    "print([ \"0x%02x\" % b for b in ba ])"
   ]
  },
  {
   "cell_type": "code",
   "execution_count": 38,
   "metadata": {},
   "outputs": [
    {
     "data": {
      "text/plain": [
       "'3333a340'"
      ]
     },
     "execution_count": 38,
     "metadata": {},
     "output_type": "execute_result"
    }
   ],
   "source": [
    "struct.pack(\"<f\", value).hex()"
   ]
  },
  {
   "cell_type": "code",
   "execution_count": 99,
   "metadata": {},
   "outputs": [
    {
     "data": {
      "text/plain": [
       "19244"
      ]
     },
     "execution_count": 99,
     "metadata": {},
     "output_type": "execute_result"
    }
   ],
   "source": [
    "# tek.write_binary_values('WLIST:WAVEFORM:DATA \"Test1\",0,1500,', np.linspace(0, 1, 1500) , datatype='f', is_big_endian=False)\n",
    "tek.write_binary_values('WLIST:WAVEFORM:DATA \"Test1\",0,4800,', 0*np.sin(2 * np.pi * 1E9 * np.arange(0, 4800)/50E9) , datatype='f', is_big_endian=False)\n"
   ]
  },
  {
   "cell_type": "code",
   "execution_count": null,
   "metadata": {},
   "outputs": [],
   "source": [
    "tek.write('WLISt:WAVeform:OFFSet \"Test1\",0.')\n",
    "tek.write('WLISt:WAVeform:SRATE \"Test1\", 50E9')"
   ]
  },
  {
   "cell_type": "code",
   "execution_count": 57,
   "metadata": {},
   "outputs": [
    {
     "data": {
      "text/plain": [
       "37"
      ]
     },
     "execution_count": 57,
     "metadata": {},
     "output_type": "execute_result"
    }
   ],
   "source": [
    "tek.write('WLIST:WAVEFORM:NORM \"Test1\", FSCALE')"
   ]
  },
  {
   "cell_type": "code",
   "execution_count": 9,
   "metadata": {},
   "outputs": [
    {
     "data": {
      "text/plain": [
       "32.0"
      ]
     },
     "execution_count": 9,
     "metadata": {},
     "output_type": "execute_result"
    }
   ],
   "source": [
    "tek.query('WLIST:WAVEFORM:LMAX?')"
   ]
  }
 ],
 "metadata": {
  "kernelspec": {
   "display_name": "Python 3",
   "language": "python",
   "name": "python3"
  },
  "language_info": {
   "codemirror_mode": {
    "name": "ipython",
    "version": 3
   },
   "file_extension": ".py",
   "mimetype": "text/x-python",
   "name": "python",
   "nbconvert_exporter": "python",
   "pygments_lexer": "ipython3",
   "version": "3.8.10"
  },
  "orig_nbformat": 4,
  "vscode": {
   "interpreter": {
    "hash": "ad461a3269a36a32ad6e1fcbcf6493f8b2a5c07947d29ec8840829eef53a3733"
   }
  }
 },
 "nbformat": 4,
 "nbformat_minor": 2
}
