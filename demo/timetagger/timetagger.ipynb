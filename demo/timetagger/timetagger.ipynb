{
 "cells": [
  {
   "cell_type": "code",
   "execution_count": 1,
   "metadata": {},
   "outputs": [
    {
     "data": {
      "text/html": [
       "<style>.container { width:100% !important; }</style>"
      ],
      "text/plain": [
       "<IPython.core.display.HTML object>"
      ]
     },
     "metadata": {},
     "output_type": "display_data"
    }
   ],
   "source": [
    "import TimeTagger as TT\n",
    "from datetime import datetime\n",
    "import numpy as np\n",
    "import matplotlib.pyplot as plt\n",
    "from IPython.display import display, HTML\n",
    "display(HTML(\"<style>.container { width:100% !important; }</style>\"))"
   ]
  },
  {
   "cell_type": "code",
   "execution_count": 2,
   "metadata": {},
   "outputs": [
    {
     "name": "stdout",
     "output_type": "stream",
     "text": [
      "('222300114Y',)\n",
      "()\n"
     ]
    }
   ],
   "source": [
    "print(TT.scanTimeTagger())\n",
    "tagger = TT.createTimeTagger('222300114Y')\n",
    "print(TT.scanTimeTagger())"
   ]
  },
  {
   "cell_type": "code",
   "execution_count": 3,
   "metadata": {},
   "outputs": [],
   "source": [
    "tagger.setTriggerLevel(1, 0.1)\n",
    "tagger.setTriggerLevel(2, 0.1)\n",
    "tagger.setTriggerLevel(7, 0.1)\n",
    "tagger.enableFpgaLink(channels=[1, 2, 8, -8], destination_mac=\"\", interface=TT.FpgaLinkInterface_SFPP_10GE)"
   ]
  },
  {
   "cell_type": "code",
   "execution_count": 4,
   "metadata": {},
   "outputs": [
    {
     "name": "stdout",
     "output_type": "stream",
     "text": [
      "()\n"
     ]
    }
   ],
   "source": [
    "# del tagger\n",
    "print(TT.scanTimeTagger())"
   ]
  },
  {
   "cell_type": "markdown",
   "metadata": {},
   "source": [
    "### TimeTag Stream"
   ]
  },
  {
   "cell_type": "code",
   "execution_count": 76,
   "metadata": {},
   "outputs": [
    {
     "name": "stdout",
     "output_type": "stream",
     "text": [
      "Starting timetag stream...\n"
     ]
    }
   ],
   "source": [
    "tts = TT.TimeTagStream(tagger, 1000, [1, 2, -8, 8])\n",
    "print(\"Starting timetag stream...\")"
   ]
  },
  {
   "cell_type": "code",
   "execution_count": 77,
   "metadata": {},
   "outputs": [
    {
     "name": "stdout",
     "output_type": "stream",
     "text": [
      "Stopped timetag stream!\n"
     ]
    }
   ],
   "source": [
    "tts_data = tts.getData()\n",
    "tts.stop()\n",
    "print(\"Stopped timetag stream!\")"
   ]
  },
  {
   "cell_type": "code",
   "execution_count": 78,
   "metadata": {
    "scrolled": true
   },
   "outputs": [
    {
     "name": "stdout",
     "output_type": "stream",
     "text": [
      "[[                8 22848514224010350]\n",
      " [                1 22848768034445169]\n",
      " [                1 22849106911344054]\n",
      " [                1 22849326068236259]\n",
      " [               -8 22849514204046365]\n",
      " [                1 22849731738382742]\n",
      " [                1 22849769848122992]\n",
      " [                1 22849896520291676]\n",
      " [                8 22850514224128769]\n",
      " [                1 22850527084791735]]\n"
     ]
    }
   ],
   "source": [
    "data  = np.array(list(zip(tts_data.getChannels(), tts_data.getTimestamps()))).astype(np.int64)\n",
    "print(data[:10, :])\n",
    "\n",
    "np.savetxt(\"ttsream.txt\", data, fmt=\"%d\")"
   ]
  },
  {
   "cell_type": "markdown",
   "metadata": {},
   "source": [
    "### TimeTag FileWriter"
   ]
  },
  {
   "cell_type": "code",
   "execution_count": 41,
   "metadata": {},
   "outputs": [
    {
     "name": "stdout",
     "output_type": "stream",
     "text": [
      "Starting 20230515-205921...\n"
     ]
    }
   ],
   "source": [
    "from datetime import datetime\n",
    "dt = datetime.now()\n",
    "timestamp = dt.strftime(\"%Y%m%d-%H%M%S\")\n",
    "print(f\"Starting {timestamp}...\")\n",
    "\n",
    "fw = TT.FileWriter(tagger, f'{timestamp}.ttbin', [1, 2, -8, 8])"
   ]
  },
  {
   "cell_type": "code",
   "execution_count": 42,
   "metadata": {},
   "outputs": [
    {
     "name": "stdout",
     "output_type": "stream",
     "text": [
      "Stopped 20230515-205921.\n"
     ]
    }
   ],
   "source": [
    "print(f\"Stopped {timestamp}.\")\n",
    "fw.stop()"
   ]
  },
  {
   "cell_type": "code",
   "execution_count": null,
   "metadata": {},
   "outputs": [],
   "source": [
    "print(f\"Reading {timestamp}...\")\n",
    "fr = TT.FileReader(f\"{timestamp}.ttbin\")\n",
    "\n",
    "counter = 0\n",
    "while fr.hasData():\n",
    "    data = fr.getData(1000) \n",
    "    ts = data.getTimestamps() / 1E12\n",
    "    ch = data.getChannels()\n",
    "    \n",
    "#     with open(\"testing.txt\", \"w\") as f:\n",
    "#         for c, t in zip(ch, ts):\n",
    "#             f.write(f\"{c} {t:.15f}\\n\")\n",
    "\n",
    "    for c, t in zip(ch, ts):\n",
    "        print(c, t)"
   ]
  },
  {
   "cell_type": "code",
   "execution_count": 65,
   "metadata": {},
   "outputs": [],
   "source": []
  }
 ],
 "metadata": {
  "kernelspec": {
   "display_name": "Python 3 (ipykernel)",
   "language": "python",
   "name": "python3"
  },
  "language_info": {
   "codemirror_mode": {
    "name": "ipython",
    "version": 3
   },
   "file_extension": ".py",
   "mimetype": "text/x-python",
   "name": "python",
   "nbconvert_exporter": "python",
   "pygments_lexer": "ipython3",
   "version": "3.8.8"
  }
 },
 "nbformat": 4,
 "nbformat_minor": 2
}
