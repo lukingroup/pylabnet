{
 "cells": [
  {
   "cell_type": "code",
   "execution_count": 1,
   "metadata": {},
   "outputs": [],
   "source": [
    "from pylabnet.hardware.awg.zi_hdawg import Driver, Sequence, AWGModule\n",
    "from pylabnet.utils.logging.logger import LogClient\n",
    "\n",
    "%matplotlib inline\n",
    "\n",
    "import matplotlib\n",
    "import matplotlib\n",
    "import numpy as np\n",
    "import matplotlib.pyplot as plt"
   ]
  },
  {
   "cell_type": "code",
   "execution_count": 2,
   "metadata": {},
   "outputs": [],
   "source": [
    "dev_id = 'dev8354'\n",
    "\n",
    "# Instantiate\n",
    "logger = LogClient(\n",
    "    host='192.168.50.101',\n",
    "    port=38967,\n",
    "    module_tag=f'ZI HDAWG {dev_id}'\n",
    ")"
   ]
  },
  {
   "cell_type": "code",
   "execution_count": 9,
   "metadata": {},
   "outputs": [],
   "source": [
    "\n",
    "import zhinst.utils\n",
    "import zhinst.ziPython\n",
    "\n",
    "discovery = zhinst.ziPython.ziDiscovery()\n",
    "device_properties = discovery.get(discovery.find(dev_id))\n",
    "server_address = device_properties[\"serveraddress\"]"
   ]
  },
  {
   "cell_type": "code",
   "execution_count": 14,
   "metadata": {},
   "outputs": [
    {
     "data": {
      "text/plain": [
       "'HDAWG8'"
      ]
     },
     "execution_count": 14,
     "metadata": {},
     "output_type": "execute_result"
    }
   ],
   "source": [
    "device_properties['devicetype']\n"
   ]
  },
  {
   "cell_type": "code",
   "execution_count": 15,
   "metadata": {},
   "outputs": [
    {
     "data": {
      "text/plain": [
       "8"
      ]
     },
     "execution_count": 15,
     "metadata": {},
     "output_type": "execute_result"
    }
   ],
   "source": [
    "import re\n",
    "\n",
    "int(\n",
    "            re.compile('HDAWG(4|8{1})').match(device_properties['devicetype']).group(1)\n",
    "        )"
   ]
  },
  {
   "cell_type": "code",
   "execution_count": null,
   "metadata": {},
   "outputs": [],
   "source": [
    "\n",
    "        # read out number of channels from property dictionary\n",
    "        self.num_outputs = "
   ]
  },
  {
   "cell_type": "code",
   "execution_count": 3,
   "metadata": {},
   "outputs": [],
   "source": [
    "# Instanciate Hardware class\n",
    "hd = Driver(dev_id, logger)\n"
   ]
  },
  {
   "cell_type": "code",
   "execution_count": 6,
   "metadata": {},
   "outputs": [],
   "source": [
    "hd.setd('sigouts/0/offset', 50.04e-3)\n",
    "hd.seti('sigouts/0/direct', 1)\n"
   ]
  },
  {
   "cell_type": "code",
   "execution_count": 8,
   "metadata": {},
   "outputs": [
    {
     "data": {
      "text/plain": [
       "0.05007100850343704"
      ]
     },
     "execution_count": 8,
     "metadata": {},
     "output_type": "execute_result"
    }
   ],
   "source": [
    "hd.getd('sigouts/0/offset')\n"
   ]
  },
  {
   "cell_type": "code",
   "execution_count": 9,
   "metadata": {},
   "outputs": [],
   "source": [
    "import textwrap\n",
    "import numpy as np\n",
    "import time\n",
    "import json, jsonschema\n",
    "\n",
    "import zhinst.core\n",
    "import zhinst.utils\n",
    "\n",
    "device_id = \"dev8354\"  # Device serial number available on its rear panel.\n",
    "interface = \"1GbE\"  # For Ethernet connection.\n",
    "# interface = \"USB\" # For all instruments connected to the host computer via USB.\n",
    "\n",
    "server_host = \"localhost\"\n",
    "server_port = 8004\n",
    "api_level = 6  # Maximum API level supported for all instruments.\n",
    "\n",
    "# Create an API session to the Data Server.\n",
    "daq = zhinst.core.ziDAQServer(server_host, server_port, api_level)\n",
    "# Establish a connection between Data Server and Device.\n",
    "daq.connectDevice(device_id, interface)\n"
   ]
  },
  {
   "cell_type": "code",
   "execution_count": null,
   "metadata": {},
   "outputs": [],
   "source": [
    "hd.setd('sigouts/0/offset', 41.04e-3)"
   ]
  },
  {
   "cell_type": "code",
   "execution_count": 4,
   "metadata": {},
   "outputs": [],
   "source": [
    "hd.setd('sigouts/0/offset', 41.04e-3)\n",
    "hd.setd('sigouts/2/offset', -35.91e-3)\n",
    "\n",
    "hd.seti('sigouts/0/direct', 1)\n",
    "hd.seti('sigouts/1/direct', 1)\n",
    "hd.seti('sigouts/2/direct', 1)\n",
    "hd.seti('sigouts/3/direct', 1)\n",
    "\n",
    "hd.setd('awgs/0/outputs/0/gains/0', 0.9211)\n",
    "hd.setd('awgs/0/outputs/0/gains/1', 0.9725)\n",
    "hd.setd('awgs/1/outputs/0/gains/0', 0.9211)\n",
    "hd.setd('awgs/1/outputs/0/gains/1', 0.9725)\n",
    "\n",
    "hd.setd('sines/0/amplitudes/0', 0.7369)\n",
    "hd.setd('sines/1/amplitudes/0', 0.7369)\n",
    "hd.setd('sines/1/amplitudes/1', 0.7369)\n",
    "hd.setd('sines/0/amplitudes/1', 0.7369)\n",
    "\n",
    "\n",
    "hd.setd('sines/2/amplitudes/0', 0.778)\n",
    "hd.setd('sines/3/amplitudes/0', 0.778)\n",
    "hd.setd('sines/2/amplitudes/1', 0.778)\n",
    "hd.setd('sines/3/amplitudes/1', 0.778)\n",
    "\n",
    "hd.setd('sines/0/phaseshift', 73.86)\n",
    "hd.setd('sines/1/phaseshift', 73.86)\n",
    "\n",
    "\n",
    "hd.setd('sigouts/0/on', 1)\n",
    "hd.setd('sigouts/1/on', 1)\n",
    "hd.setd('sigouts/2/on', 1)\n",
    "hd.setd('sigouts/3/on', 1)\n",
    "\n",
    "\n",
    "hd.seti('triggers/out/0/source', 4)\n",
    "\n",
    "hd.seti('triggers/out/1/source', 7)\n",
    "hd.seti('triggers/out/2/source', 4)\n",
    "hd.seti('triggers/out/3/source', 7)\n",
    "\n",
    "\n",
    "\n",
    "# Logic counter settings (b16)\n",
    "# Counters 1, 3: Read Trigger 4, Gate Internal Trigger 1\n",
    "hd.seti('cnts/0/enable', 1)\n",
    "hd.seti('cnts/0/mode', 3)\n",
    "hd.seti('cnts/0/operation', 0)\n",
    "hd.seti('cnts/0/inputselect', 35)\n",
    "hd.seti('cnts/0/gateselect', 32)\n",
    "hd.seti('cnts/2/enable', 1)\n",
    "hd.seti('cnts/2/mode', 3)\n",
    "hd.seti('cnts/2/operation', 0)\n",
    "hd.seti('cnts/2/inputselect', 35)\n",
    "hd.seti('cnts/2/gateselect', 32)\n",
    "hd.seti('cnts/1/enable', 1)\n",
    "hd.seti('cnts/1/mode', 3)\n",
    "hd.seti('cnts/1/operation', 0)\n",
    "hd.seti('cnts/1/inputselect', 34)\n",
    "hd.seti('cnts/1/gateselect', 33)\n",
    "hd.seti('cnts/3/enable', 1)\n",
    "hd.seti('cnts/3/mode', 3)\n",
    "hd.seti('cnts/3/operation', 0)\n",
    "hd.seti('cnts/3/inputselect', 34)\n",
    "hd.seti('cnts/3/gateselect', 33)\n",
    "\n",
    "\n",
    "\n",
    "\n"
   ]
  },
  {
   "cell_type": "code",
   "execution_count": null,
   "metadata": {},
   "outputs": [],
   "source": []
  }
 ],
 "metadata": {
  "kernelspec": {
   "display_name": "env",
   "language": "python",
   "name": "python3"
  },
  "language_info": {
   "codemirror_mode": {
    "name": "ipython",
    "version": 3
   },
   "file_extension": ".py",
   "mimetype": "text/x-python",
   "name": "python",
   "nbconvert_exporter": "python",
   "pygments_lexer": "ipython3",
   "version": "3.7.4"
  },
  "vscode": {
   "interpreter": {
    "hash": "71d3a1d4ade78c9bfa0e42e8a72d3c7dac680e120705ab7ea970d8a4ae793cea"
   }
  }
 },
 "nbformat": 4,
 "nbformat_minor": 2
}
