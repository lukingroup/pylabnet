{
 "cells": [
  {
   "cell_type": "code",
   "execution_count": 2,
   "metadata": {},
   "outputs": [],
   "source": [
    "from NKTP_DLL import *\n",
    "from time import sleep\n",
    "\n",
    "# emission on\n",
    "result = registerWriteU8('COM12', 15, 0x30, 0x03, -1)\n",
    "print('Setting emission ON - Extreme:', RegisterResultTypes(result))\n",
    "\n",
    "\n"
   ]
  },
  {
   "cell_type": "code",
   "execution_count": 4,
   "metadata": {},
   "outputs": [
    {
     "name": "stdout",
     "output_type": "stream",
     "text": [
      "Reading firmware version str: b'1.09 May 24 2013 14:35:07' 0:RegResultSuccess\n",
      "0\n",
      "b'1.09 May 24 2013 14:35:07'\n"
     ]
    }
   ],
   "source": [
    "# Firmware info\n",
    "rdResult, FWVersionStr = registerReadAscii('COM12', 15, 0x64, 2)\n",
    "print('Reading firmware version str:', FWVersionStr, RegisterResultTypes(rdResult))\n",
    "print(rdResult)\n",
    "print(FWVersionStr)"
   ]
  },
  {
   "cell_type": "code",
   "execution_count": null,
   "metadata": {},
   "outputs": [],
   "source": [
    "# emission off\n",
    "result = registerWriteU8('COM12', 15, 0x30, 0x00, -1)\n",
    "print('Setting emission OFF - Extreme:', RegisterResultTypes(result))\n"
   ]
  },
  {
   "cell_type": "code",
   "execution_count": 3,
   "metadata": {},
   "outputs": [
    {
     "name": "stdout",
     "output_type": "stream",
     "text": [
      "readValue: 20 ; read result message:  0:RegResultSuccess\n"
     ]
    }
   ],
   "source": [
    "# read power\n",
    "rdResult, readValue = registerReadU16('COM12', 15, 0x37, -1)\n",
    "print('readValue:', readValue, '; read result message: ', RegisterResultTypes(rdResult))\n"
   ]
  },
  {
   "cell_type": "code",
   "execution_count": null,
   "metadata": {},
   "outputs": [],
   "source": []
  }
 ],
 "metadata": {
  "kernelspec": {
   "display_name": "pylabnet-dev",
   "language": "python",
   "name": "python3"
  },
  "language_info": {
   "codemirror_mode": {
    "name": "ipython",
    "version": 3
   },
   "file_extension": ".py",
   "mimetype": "text/x-python",
   "name": "python",
   "nbconvert_exporter": "python",
   "pygments_lexer": "ipython3",
   "version": "3.9.1"
  },
  "orig_nbformat": 4
 },
 "nbformat": 4,
 "nbformat_minor": 2
}
